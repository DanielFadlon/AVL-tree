{
  "cells": [
    {
      "cell_type": "markdown",
      "metadata": {
        "id": "view-in-github",
        "colab_type": "text"
      },
      "source": [
        "<a href=\"https://colab.research.google.com/github/DanielFadlon/AVL-tree/blob/main/LWSM.ipynb\" target=\"_parent\"><img src=\"https://colab.research.google.com/assets/colab-badge.svg\" alt=\"Open In Colab\"/></a>"
      ]
    },
    {
      "cell_type": "markdown",
      "metadata": {
        "id": "FdOfkhSt54zj"
      },
      "source": [
        "## **LWSM (Light-Weight Signature Matching)**\n",
        "A framework for a resource limited service using PDS (Probabilistic Data Structure) and AI powered methods."
      ]
    },
    {
      "cell_type": "code",
      "execution_count": 2,
      "metadata": {
        "id": "eLSElnU8YYf0"
      },
      "outputs": [],
      "source": [
        "path2project = 'drive/MyDrive/AIForCyber/LWSM'\n",
        "# Define a path to save the vectorized features (to prevent from creating them each time)\n",
        "path2ember = f'{path2project}/ember2018'\n",
        "# Define the given initial blacklist file path\n",
        "path2malicous_sha256_ember = f'{path2project}/task1_malicous_sha256_ember.txt'\n",
        "\n",
        "# data is the folder with the clean and prepared data\n",
        "gdrive_data_folder = f'{path2project}/data1'\n",
        "# fiures from notebook\n",
        "gdrive_figures_folder = f'{path2project}/figures'"
      ]
    },
    {
      "cell_type": "code",
      "execution_count": 3,
      "metadata": {
        "colab": {
          "base_uri": "https://localhost:8080/"
        },
        "id": "ivsZ9yVI9gNk",
        "outputId": "3fa82c61-e558-43fd-e326-2a92c085ed68"
      },
      "outputs": [
        {
          "output_type": "stream",
          "name": "stdout",
          "text": [
            "Looking in indexes: https://pypi.org/simple, https://us-python.pkg.dev/colab-wheels/public/simple/\n",
            "Collecting git+https://github.com/zivido/ember-3.9.git\n",
            "  Cloning https://github.com/zivido/ember-3.9.git to /tmp/pip-req-build-li_yzqzd\n",
            "  Running command git clone --filter=blob:none --quiet https://github.com/zivido/ember-3.9.git /tmp/pip-req-build-li_yzqzd\n",
            "  Resolved https://github.com/zivido/ember-3.9.git to commit bc8fe8fe990ed172c69320d13b757b384b8cc367\n",
            "  Preparing metadata (setup.py) ... \u001b[?25l\u001b[?25hdone\n",
            "Building wheels for collected packages: ember\n",
            "  Building wheel for ember (setup.py) ... \u001b[?25l\u001b[?25hdone\n",
            "  Created wheel for ember: filename=ember-0.1.0-py3-none-any.whl size=13078 sha256=59d2af710ff5d2b843ec41c36e6bae60f0c982d41f4d87292d116a6b3769be15\n",
            "  Stored in directory: /tmp/pip-ephem-wheel-cache-a37j7cy2/wheels/8a/de/4f/e2eadc2237ea0e00160b8a5b067e4e2d8ef94f361258d38dcf\n",
            "Successfully built ember\n",
            "Installing collected packages: ember\n",
            "Successfully installed ember-0.1.0\n",
            "Looking in indexes: https://pypi.org/simple, https://us-python.pkg.dev/colab-wheels/public/simple/\n",
            "Collecting lief\n",
            "  Downloading lief-0.13.0-cp310-cp310-manylinux_2_24_x86_64.whl (4.1 MB)\n",
            "\u001b[2K     \u001b[90m━━━━━━━━━━━━━━━━━━━━━━━━━━━━━━━━━━━━━━━━\u001b[0m \u001b[32m4.1/4.1 MB\u001b[0m \u001b[31m95.1 MB/s\u001b[0m eta \u001b[36m0:00:00\u001b[0m\n",
            "\u001b[?25hInstalling collected packages: lief\n",
            "Successfully installed lief-0.13.0\n",
            "Looking in indexes: https://pypi.org/simple, https://us-python.pkg.dev/colab-wheels/public/simple/\n",
            "Collecting bitarray\n",
            "  Downloading bitarray-2.7.3-cp310-cp310-manylinux_2_17_x86_64.manylinux2014_x86_64.whl (272 kB)\n",
            "\u001b[2K     \u001b[90m━━━━━━━━━━━━━━━━━━━━━━━━━━━━━━━━━━━━━━\u001b[0m \u001b[32m272.7/272.7 kB\u001b[0m \u001b[31m21.1 MB/s\u001b[0m eta \u001b[36m0:00:00\u001b[0m\n",
            "\u001b[?25hInstalling collected packages: bitarray\n",
            "Successfully installed bitarray-2.7.3\n",
            "Looking in indexes: https://pypi.org/simple, https://us-python.pkg.dev/colab-wheels/public/simple/\n",
            "Collecting opendatasets\n",
            "  Downloading opendatasets-0.1.22-py3-none-any.whl (15 kB)\n",
            "Requirement already satisfied: tqdm in /usr/local/lib/python3.10/dist-packages (from opendatasets) (4.65.0)\n",
            "Requirement already satisfied: kaggle in /usr/local/lib/python3.10/dist-packages (from opendatasets) (1.5.13)\n",
            "Requirement already satisfied: click in /usr/local/lib/python3.10/dist-packages (from opendatasets) (8.1.3)\n",
            "Requirement already satisfied: six>=1.10 in /usr/local/lib/python3.10/dist-packages (from kaggle->opendatasets) (1.16.0)\n",
            "Requirement already satisfied: certifi in /usr/local/lib/python3.10/dist-packages (from kaggle->opendatasets) (2022.12.7)\n",
            "Requirement already satisfied: python-dateutil in /usr/local/lib/python3.10/dist-packages (from kaggle->opendatasets) (2.8.2)\n",
            "Requirement already satisfied: requests in /usr/local/lib/python3.10/dist-packages (from kaggle->opendatasets) (2.27.1)\n",
            "Requirement already satisfied: python-slugify in /usr/local/lib/python3.10/dist-packages (from kaggle->opendatasets) (8.0.1)\n",
            "Requirement already satisfied: urllib3 in /usr/local/lib/python3.10/dist-packages (from kaggle->opendatasets) (1.26.15)\n",
            "Requirement already satisfied: text-unidecode>=1.3 in /usr/local/lib/python3.10/dist-packages (from python-slugify->kaggle->opendatasets) (1.3)\n",
            "Requirement already satisfied: charset-normalizer~=2.0.0 in /usr/local/lib/python3.10/dist-packages (from requests->kaggle->opendatasets) (2.0.12)\n",
            "Requirement already satisfied: idna<4,>=2.5 in /usr/local/lib/python3.10/dist-packages (from requests->kaggle->opendatasets) (3.4)\n",
            "Installing collected packages: opendatasets\n",
            "Successfully installed opendatasets-0.1.22\n"
          ]
        }
      ],
      "source": [
        "!pip install git+https://github.com/zivido/ember-3.9.git\n",
        "!pip install lief\n",
        "!pip install bitarray\n",
        "!pip install opendatasets"
      ]
    },
    {
      "cell_type": "code",
      "execution_count": 4,
      "metadata": {
        "id": "hb3RaSq99XUz"
      },
      "outputs": [],
      "source": [
        "# Imports\n",
        "import ember\n",
        "import opendatasets as od\n",
        "import tarfile\n",
        "import math\n",
        "import numpy as np\n",
        "import pandas as pd\n",
        "import matplotlib.pyplot as plt\n",
        "import hashlib\n",
        "import bitarray\n",
        "from google.colab import drive\n",
        "import shutil\n",
        "import lightgbm as lgb\n",
        "import altair as alt\n",
        "import time\n",
        "import pickle\n",
        "from sklearn.model_selection import train_test_split\n",
        "from scipy.stats import pearsonr\n",
        "from sklearn.decomposition import PCA\n",
        "from sklearn.manifold import TSNE\n",
        "from sklearn.preprocessing import StandardScaler\n",
        "from sklearn.metrics import accuracy_score, confusion_matrix, roc_curve, roc_auc_score\n",
        "import xgboost as xgb\n",
        "from sklearn.model_selection import GridSearchCV"
      ]
    },
    {
      "cell_type": "code",
      "execution_count": 5,
      "metadata": {
        "colab": {
          "base_uri": "https://localhost:8080/"
        },
        "id": "wY7yIkbmJ2gv",
        "outputId": "e5c2be95-28cf-4778-900b-7ebdae7199c6"
      },
      "outputs": [
        {
          "output_type": "stream",
          "name": "stdout",
          "text": [
            "Mounted at /content/drive\n"
          ]
        }
      ],
      "source": [
        "# using drive\n",
        "drive.mount('/content/drive') #, force_remount=True)"
      ]
    },
    {
      "cell_type": "code",
      "execution_count": 6,
      "metadata": {
        "id": "eBOFJs-sYTDt"
      },
      "outputs": [],
      "source": [
        "def save_ember_vectorized_features(path: str):\n",
        "  files_names = ['X_train.dat', 'y_train.dat', 'X_test.dat', 'y_test.dat', 'train_metadata.csv', 'test_metadata.csv', 'metadata.csv', 'ember_model_2018.txt']\n",
        "\n",
        "  #imports dataset\n",
        "  od.download(\"https://ember.elastic.co/ember_dataset_2018_2.tar.bz2\") \n",
        "\n",
        "  tar = tarfile.open(\"./ember_dataset_2018_2.tar.bz2\", \"r:bz2\")  \n",
        "  #unzips and decompresses dataset\n",
        "  tar.extractall() \n",
        "  tar.close()\n",
        "\n",
        "  data_dir = \"./ember2018\"\n",
        "  ember.create_vectorized_features(data_dir)\n",
        "  _ = ember.create_metadata(data_dir)\n",
        "\n",
        "\n",
        "  # Copy the file from local storage to Google Drive\n",
        "  for file_name in files_names:\n",
        "    shutil.copy(f'./ember2018/{file_name}', f'{path}/{file_name}')"
      ]
    },
    {
      "cell_type": "markdown",
      "metadata": {
        "id": "NNH41Rc08cOX"
      },
      "source": [
        "## **Dataset Management - EMBER2018**\n",
        "\n",
        "In this section, we thoroughly inspect, preprocess, and explore the EMBER2018 dataset, an extensive corpus of executable metadata crucial for cybersecurity applications. Our methodology can be broken down into the following steps:\n",
        "\n",
        "1. **Dataset Description** \n",
        "\n",
        "2. **Data Cleaning and Preparation** \n",
        "\n",
        "3. **Dimensionality Reduction** \n",
        "\n",
        "4. **Variance Visualization** \n",
        "\n",
        "5. **Exploratory Data Analysis (EDA)** \n",
        "\n",
        "6. **Dimension Decision** \n",
        "\n",
        "7. **Summary and Next Steps** \n",
        "\n",
        "By following this thorough approach to dataset management, we ensure that the EMBER2018 dataset is meticulously inspected, cleaned, prepared, and understood, facilitating effective and informed model development in the subsequent stages of our project."
      ]
    },
    {
      "cell_type": "markdown",
      "source": [
        "### Load The Data"
      ],
      "metadata": {
        "id": "QI8_akNInoVA"
      }
    },
    {
      "cell_type": "code",
      "execution_count": 11,
      "metadata": {
        "colab": {
          "base_uri": "https://localhost:8080/"
        },
        "id": "nQT0cyw5sJgq",
        "outputId": "b6ddb8f4-9ca5-4af1-e154-7c1f9a04f95f"
      },
      "outputs": [
        {
          "output_type": "stream",
          "name": "stdout",
          "text": [
            "WARNING: Custom version of EMBER being in use\n",
            "WARNING: EMBER feature version 2 were computed using lief version 0.9.0-\n",
            "WARNING:   lief version 0.13.0-966a66c7 found instead. There may be slight inconsistencies\n",
            "WARNING:   in the feature calculations.\n",
            "datasets, dataframe and model are loded successfuly\n"
          ]
        }
      ],
      "source": [
        "# Check if the vectorized features have already been saved\n",
        "try:\n",
        "  X_train, y_train, X_test, y_test = ember.read_vectorized_features(path2ember)\n",
        "  emberdf = ember.read_metadata(path2ember)\n",
        "  lgbm_model = lgb.Booster(model_file=f'{path2ember}/ember_model_2018.txt')\n",
        "  print('datasets, dataframe and model are loded successfuly')\n",
        "except FileNotFoundError:\n",
        "  # If the file doesn't exist, create the vectorized features and save them\n",
        "  print('Start to create vaetorized fetures')\n",
        "  save_ember_vectorized_features(path2ember)\n",
        "  print('Created and saved vectorized features to path')\n",
        "  print('Check that your files are copied to the required dirctory and execute this cell again')"
      ]
    },
    {
      "cell_type": "markdown",
      "source": [
        "### Data Description"
      ],
      "metadata": {
        "id": "MrVuz5TZnw5J"
      }
    },
    {
      "cell_type": "code",
      "execution_count": 7,
      "metadata": {
        "colab": {
          "base_uri": "https://localhost:8080/",
          "height": 206
        },
        "id": "9kKCFGQ6P42R",
        "outputId": "99b66b09-56f3-49bb-f58f-58120bf1d791"
      },
      "outputs": [
        {
          "output_type": "execute_result",
          "data": {
            "text/plain": [
              "                                              sha256 appeared  label avclass  \\\n",
              "0  0abb4fda7d5b13801d63bee53e5e256be43e141faa077a...  2006-12      0     NaN   \n",
              "1  c9cafff8a596ba8a80bafb4ba8ae6f2ef3329d95b85f15...  2007-01      0     NaN   \n",
              "2  eac8ddb4970f8af985742973d6f0e06902d42a3684d791...  2007-02      0     NaN   \n",
              "3  7f513818bcc276c531af2e641c597744da807e21cc1160...  2007-02      0     NaN   \n",
              "4  ca65e1c387a4cc9e7d8a8ce12bf1bcf9f534c9032b9d95...  2007-02      0     NaN   \n",
              "\n",
              "  subset  \n",
              "0  train  \n",
              "1  train  \n",
              "2  train  \n",
              "3  train  \n",
              "4  train  "
            ],
            "text/html": [
              "\n",
              "  <div id=\"df-ca621ca7-60ae-491b-bdbe-a5a77f669775\">\n",
              "    <div class=\"colab-df-container\">\n",
              "      <div>\n",
              "<style scoped>\n",
              "    .dataframe tbody tr th:only-of-type {\n",
              "        vertical-align: middle;\n",
              "    }\n",
              "\n",
              "    .dataframe tbody tr th {\n",
              "        vertical-align: top;\n",
              "    }\n",
              "\n",
              "    .dataframe thead th {\n",
              "        text-align: right;\n",
              "    }\n",
              "</style>\n",
              "<table border=\"1\" class=\"dataframe\">\n",
              "  <thead>\n",
              "    <tr style=\"text-align: right;\">\n",
              "      <th></th>\n",
              "      <th>sha256</th>\n",
              "      <th>appeared</th>\n",
              "      <th>label</th>\n",
              "      <th>avclass</th>\n",
              "      <th>subset</th>\n",
              "    </tr>\n",
              "  </thead>\n",
              "  <tbody>\n",
              "    <tr>\n",
              "      <th>0</th>\n",
              "      <td>0abb4fda7d5b13801d63bee53e5e256be43e141faa077a...</td>\n",
              "      <td>2006-12</td>\n",
              "      <td>0</td>\n",
              "      <td>NaN</td>\n",
              "      <td>train</td>\n",
              "    </tr>\n",
              "    <tr>\n",
              "      <th>1</th>\n",
              "      <td>c9cafff8a596ba8a80bafb4ba8ae6f2ef3329d95b85f15...</td>\n",
              "      <td>2007-01</td>\n",
              "      <td>0</td>\n",
              "      <td>NaN</td>\n",
              "      <td>train</td>\n",
              "    </tr>\n",
              "    <tr>\n",
              "      <th>2</th>\n",
              "      <td>eac8ddb4970f8af985742973d6f0e06902d42a3684d791...</td>\n",
              "      <td>2007-02</td>\n",
              "      <td>0</td>\n",
              "      <td>NaN</td>\n",
              "      <td>train</td>\n",
              "    </tr>\n",
              "    <tr>\n",
              "      <th>3</th>\n",
              "      <td>7f513818bcc276c531af2e641c597744da807e21cc1160...</td>\n",
              "      <td>2007-02</td>\n",
              "      <td>0</td>\n",
              "      <td>NaN</td>\n",
              "      <td>train</td>\n",
              "    </tr>\n",
              "    <tr>\n",
              "      <th>4</th>\n",
              "      <td>ca65e1c387a4cc9e7d8a8ce12bf1bcf9f534c9032b9d95...</td>\n",
              "      <td>2007-02</td>\n",
              "      <td>0</td>\n",
              "      <td>NaN</td>\n",
              "      <td>train</td>\n",
              "    </tr>\n",
              "  </tbody>\n",
              "</table>\n",
              "</div>\n",
              "      <button class=\"colab-df-convert\" onclick=\"convertToInteractive('df-ca621ca7-60ae-491b-bdbe-a5a77f669775')\"\n",
              "              title=\"Convert this dataframe to an interactive table.\"\n",
              "              style=\"display:none;\">\n",
              "        \n",
              "  <svg xmlns=\"http://www.w3.org/2000/svg\" height=\"24px\"viewBox=\"0 0 24 24\"\n",
              "       width=\"24px\">\n",
              "    <path d=\"M0 0h24v24H0V0z\" fill=\"none\"/>\n",
              "    <path d=\"M18.56 5.44l.94 2.06.94-2.06 2.06-.94-2.06-.94-.94-2.06-.94 2.06-2.06.94zm-11 1L8.5 8.5l.94-2.06 2.06-.94-2.06-.94L8.5 2.5l-.94 2.06-2.06.94zm10 10l.94 2.06.94-2.06 2.06-.94-2.06-.94-.94-2.06-.94 2.06-2.06.94z\"/><path d=\"M17.41 7.96l-1.37-1.37c-.4-.4-.92-.59-1.43-.59-.52 0-1.04.2-1.43.59L10.3 9.45l-7.72 7.72c-.78.78-.78 2.05 0 2.83L4 21.41c.39.39.9.59 1.41.59.51 0 1.02-.2 1.41-.59l7.78-7.78 2.81-2.81c.8-.78.8-2.07 0-2.86zM5.41 20L4 18.59l7.72-7.72 1.47 1.35L5.41 20z\"/>\n",
              "  </svg>\n",
              "      </button>\n",
              "      \n",
              "  <style>\n",
              "    .colab-df-container {\n",
              "      display:flex;\n",
              "      flex-wrap:wrap;\n",
              "      gap: 12px;\n",
              "    }\n",
              "\n",
              "    .colab-df-convert {\n",
              "      background-color: #E8F0FE;\n",
              "      border: none;\n",
              "      border-radius: 50%;\n",
              "      cursor: pointer;\n",
              "      display: none;\n",
              "      fill: #1967D2;\n",
              "      height: 32px;\n",
              "      padding: 0 0 0 0;\n",
              "      width: 32px;\n",
              "    }\n",
              "\n",
              "    .colab-df-convert:hover {\n",
              "      background-color: #E2EBFA;\n",
              "      box-shadow: 0px 1px 2px rgba(60, 64, 67, 0.3), 0px 1px 3px 1px rgba(60, 64, 67, 0.15);\n",
              "      fill: #174EA6;\n",
              "    }\n",
              "\n",
              "    [theme=dark] .colab-df-convert {\n",
              "      background-color: #3B4455;\n",
              "      fill: #D2E3FC;\n",
              "    }\n",
              "\n",
              "    [theme=dark] .colab-df-convert:hover {\n",
              "      background-color: #434B5C;\n",
              "      box-shadow: 0px 1px 3px 1px rgba(0, 0, 0, 0.15);\n",
              "      filter: drop-shadow(0px 1px 2px rgba(0, 0, 0, 0.3));\n",
              "      fill: #FFFFFF;\n",
              "    }\n",
              "  </style>\n",
              "\n",
              "      <script>\n",
              "        const buttonEl =\n",
              "          document.querySelector('#df-ca621ca7-60ae-491b-bdbe-a5a77f669775 button.colab-df-convert');\n",
              "        buttonEl.style.display =\n",
              "          google.colab.kernel.accessAllowed ? 'block' : 'none';\n",
              "\n",
              "        async function convertToInteractive(key) {\n",
              "          const element = document.querySelector('#df-ca621ca7-60ae-491b-bdbe-a5a77f669775');\n",
              "          const dataTable =\n",
              "            await google.colab.kernel.invokeFunction('convertToInteractive',\n",
              "                                                     [key], {});\n",
              "          if (!dataTable) return;\n",
              "\n",
              "          const docLinkHtml = 'Like what you see? Visit the ' +\n",
              "            '<a target=\"_blank\" href=https://colab.research.google.com/notebooks/data_table.ipynb>data table notebook</a>'\n",
              "            + ' to learn more about interactive tables.';\n",
              "          element.innerHTML = '';\n",
              "          dataTable['output_type'] = 'display_data';\n",
              "          await google.colab.output.renderOutput(dataTable, element);\n",
              "          const docLink = document.createElement('div');\n",
              "          docLink.innerHTML = docLinkHtml;\n",
              "          element.appendChild(docLink);\n",
              "        }\n",
              "      </script>\n",
              "    </div>\n",
              "  </div>\n",
              "  "
            ]
          },
          "metadata": {},
          "execution_count": 7
        }
      ],
      "source": [
        "emberdf.head()"
      ]
    },
    {
      "cell_type": "code",
      "execution_count": 8,
      "metadata": {
        "id": "hXAYonNQPRsx"
      },
      "outputs": [],
      "source": [
        "# Constants Colors\n",
        "red_malicous = '#ff3333'\n",
        "blue_benign = '#3333ff'\n",
        "green_unlabled = '#00b300'"
      ]
    },
    {
      "cell_type": "code",
      "execution_count": 9,
      "metadata": {
        "colab": {
          "base_uri": "https://localhost:8080/",
          "height": 378
        },
        "id": "xTvq-ssdM9hG",
        "outputId": "033594a8-648f-42df-87da-a42e4d8841e5"
      },
      "outputs": [
        {
          "output_type": "execute_result",
          "data": {
            "text/html": [
              "\n",
              "<div id=\"altair-viz-b01124b1724b4c63bc8e391d194d1fe1\"></div>\n",
              "<script type=\"text/javascript\">\n",
              "  var VEGA_DEBUG = (typeof VEGA_DEBUG == \"undefined\") ? {} : VEGA_DEBUG;\n",
              "  (function(spec, embedOpt){\n",
              "    let outputDiv = document.currentScript.previousElementSibling;\n",
              "    if (outputDiv.id !== \"altair-viz-b01124b1724b4c63bc8e391d194d1fe1\") {\n",
              "      outputDiv = document.getElementById(\"altair-viz-b01124b1724b4c63bc8e391d194d1fe1\");\n",
              "    }\n",
              "    const paths = {\n",
              "      \"vega\": \"https://cdn.jsdelivr.net/npm//vega@5?noext\",\n",
              "      \"vega-lib\": \"https://cdn.jsdelivr.net/npm//vega-lib?noext\",\n",
              "      \"vega-lite\": \"https://cdn.jsdelivr.net/npm//vega-lite@4.17.0?noext\",\n",
              "      \"vega-embed\": \"https://cdn.jsdelivr.net/npm//vega-embed@6?noext\",\n",
              "    };\n",
              "\n",
              "    function maybeLoadScript(lib, version) {\n",
              "      var key = `${lib.replace(\"-\", \"\")}_version`;\n",
              "      return (VEGA_DEBUG[key] == version) ?\n",
              "        Promise.resolve(paths[lib]) :\n",
              "        new Promise(function(resolve, reject) {\n",
              "          var s = document.createElement('script');\n",
              "          document.getElementsByTagName(\"head\")[0].appendChild(s);\n",
              "          s.async = true;\n",
              "          s.onload = () => {\n",
              "            VEGA_DEBUG[key] = version;\n",
              "            return resolve(paths[lib]);\n",
              "          };\n",
              "          s.onerror = () => reject(`Error loading script: ${paths[lib]}`);\n",
              "          s.src = paths[lib];\n",
              "        });\n",
              "    }\n",
              "\n",
              "    function showError(err) {\n",
              "      outputDiv.innerHTML = `<div class=\"error\" style=\"color:red;\">${err}</div>`;\n",
              "      throw err;\n",
              "    }\n",
              "\n",
              "    function displayChart(vegaEmbed) {\n",
              "      vegaEmbed(outputDiv, spec, embedOpt)\n",
              "        .catch(err => showError(`Javascript Error: ${err.message}<br>This usually means there's a typo in your chart specification. See the javascript console for the full traceback.`));\n",
              "    }\n",
              "\n",
              "    if(typeof define === \"function\" && define.amd) {\n",
              "      requirejs.config({paths});\n",
              "      require([\"vega-embed\"], displayChart, err => showError(`Error loading script: ${err.message}`));\n",
              "    } else {\n",
              "      maybeLoadScript(\"vega\", \"5\")\n",
              "        .then(() => maybeLoadScript(\"vega-lite\", \"4.17.0\"))\n",
              "        .then(() => maybeLoadScript(\"vega-embed\", \"6\"))\n",
              "        .catch(showError)\n",
              "        .then(() => displayChart(vegaEmbed));\n",
              "    }\n",
              "  })({\"config\": {\"view\": {\"continuousWidth\": 400, \"continuousHeight\": 300}}, \"data\": {\"name\": \"data-7e13dd54bc8a1e4dcd9e783efd3ade07\"}, \"mark\": \"bar\", \"encoding\": {\"color\": {\"field\": \"label\", \"legend\": {\"values\": [\"unlabeled\", \"benign\", \"malicious\"]}, \"scale\": {\"range\": [\"#00b300\", \"#3333ff\", \"#ff3333\"]}, \"type\": \"nominal\"}, \"x\": {\"axis\": {\"title\": \"Subset\"}, \"field\": \"subset\", \"type\": \"ordinal\"}, \"y\": {\"aggregate\": \"sum\", \"axis\": {\"title\": \"Number of samples\"}, \"field\": \"sha256\", \"type\": \"quantitative\"}}, \"$schema\": \"https://vega.github.io/schema/vega-lite/v4.17.0.json\", \"datasets\": {\"data-7e13dd54bc8a1e4dcd9e783efd3ade07\": [{\"label\": -1, \"subset\": \"train\", \"sha256\": 200000, \"appeared\": 200000, \"avclass\": 96433}, {\"label\": 0, \"subset\": \"test\", \"sha256\": 100000, \"appeared\": 100000, \"avclass\": 0}, {\"label\": 0, \"subset\": \"train\", \"sha256\": 300000, \"appeared\": 300000, \"avclass\": 0}, {\"label\": 1, \"subset\": \"test\", \"sha256\": 100000, \"appeared\": 100000, \"avclass\": 99321}, {\"label\": 1, \"subset\": \"train\", \"sha256\": 300000, \"appeared\": 300000, \"avclass\": 289246}]}}, {\"mode\": \"vega-lite\"});\n",
              "</script>"
            ],
            "text/plain": [
              "alt.Chart(...)"
            ]
          },
          "metadata": {},
          "execution_count": 9
        }
      ],
      "source": [
        "plotdf = emberdf.copy()\n",
        "gbdf = plotdf.groupby([\"label\", \"subset\"]).count().reset_index()\n",
        "alt.Chart(gbdf).mark_bar().encode(\n",
        "    alt.X('subset:O', axis=alt.Axis(title='Subset')),\n",
        "    alt.Y('sum(sha256):Q', axis=alt.Axis(title='Number of samples')),\n",
        "    alt.Color('label:N', scale=alt.Scale(range=[green_unlabled, blue_benign, red_malicous]), legend=alt.Legend(values=[\"unlabeled\", \"benign\", \"malicious\"]))\n",
        ")"
      ]
    },
    {
      "cell_type": "code",
      "execution_count": 10,
      "metadata": {
        "colab": {
          "base_uri": "https://localhost:8080/",
          "height": 395
        },
        "id": "YAa6pJTpPA2x",
        "outputId": "1caa1781-1922-487a-ce14-40812231482b"
      },
      "outputs": [
        {
          "output_type": "execute_result",
          "data": {
            "text/html": [
              "\n",
              "<div id=\"altair-viz-962ca6e0cd58443fa4663fb7b6506e4b\"></div>\n",
              "<script type=\"text/javascript\">\n",
              "  var VEGA_DEBUG = (typeof VEGA_DEBUG == \"undefined\") ? {} : VEGA_DEBUG;\n",
              "  (function(spec, embedOpt){\n",
              "    let outputDiv = document.currentScript.previousElementSibling;\n",
              "    if (outputDiv.id !== \"altair-viz-962ca6e0cd58443fa4663fb7b6506e4b\") {\n",
              "      outputDiv = document.getElementById(\"altair-viz-962ca6e0cd58443fa4663fb7b6506e4b\");\n",
              "    }\n",
              "    const paths = {\n",
              "      \"vega\": \"https://cdn.jsdelivr.net/npm//vega@5?noext\",\n",
              "      \"vega-lib\": \"https://cdn.jsdelivr.net/npm//vega-lib?noext\",\n",
              "      \"vega-lite\": \"https://cdn.jsdelivr.net/npm//vega-lite@4.17.0?noext\",\n",
              "      \"vega-embed\": \"https://cdn.jsdelivr.net/npm//vega-embed@6?noext\",\n",
              "    };\n",
              "\n",
              "    function maybeLoadScript(lib, version) {\n",
              "      var key = `${lib.replace(\"-\", \"\")}_version`;\n",
              "      return (VEGA_DEBUG[key] == version) ?\n",
              "        Promise.resolve(paths[lib]) :\n",
              "        new Promise(function(resolve, reject) {\n",
              "          var s = document.createElement('script');\n",
              "          document.getElementsByTagName(\"head\")[0].appendChild(s);\n",
              "          s.async = true;\n",
              "          s.onload = () => {\n",
              "            VEGA_DEBUG[key] = version;\n",
              "            return resolve(paths[lib]);\n",
              "          };\n",
              "          s.onerror = () => reject(`Error loading script: ${paths[lib]}`);\n",
              "          s.src = paths[lib];\n",
              "        });\n",
              "    }\n",
              "\n",
              "    function showError(err) {\n",
              "      outputDiv.innerHTML = `<div class=\"error\" style=\"color:red;\">${err}</div>`;\n",
              "      throw err;\n",
              "    }\n",
              "\n",
              "    function displayChart(vegaEmbed) {\n",
              "      vegaEmbed(outputDiv, spec, embedOpt)\n",
              "        .catch(err => showError(`Javascript Error: ${err.message}<br>This usually means there's a typo in your chart specification. See the javascript console for the full traceback.`));\n",
              "    }\n",
              "\n",
              "    if(typeof define === \"function\" && define.amd) {\n",
              "      requirejs.config({paths});\n",
              "      require([\"vega-embed\"], displayChart, err => showError(`Error loading script: ${err.message}`));\n",
              "    } else {\n",
              "      maybeLoadScript(\"vega\", \"5\")\n",
              "        .then(() => maybeLoadScript(\"vega-lite\", \"4.17.0\"))\n",
              "        .then(() => maybeLoadScript(\"vega-embed\", \"6\"))\n",
              "        .catch(showError)\n",
              "        .then(() => displayChart(vegaEmbed));\n",
              "    }\n",
              "  })({\"config\": {\"view\": {\"continuousWidth\": 400, \"continuousHeight\": 300}}, \"data\": {\"name\": \"data-58528f5c24b12afa02602281cb716a74\"}, \"mark\": \"bar\", \"encoding\": {\"color\": {\"field\": \"label\", \"legend\": {\"values\": [\"unlabeled\", \"benign\", \"malicious\"]}, \"scale\": {\"range\": [\"#00b300\", \"#3333ff\", \"#ff3333\"]}, \"type\": \"nominal\"}, \"x\": {\"axis\": {\"title\": \"Month appeared\"}, \"field\": \"appeared\", \"type\": \"ordinal\"}, \"y\": {\"aggregate\": \"sum\", \"axis\": {\"title\": \"Number of samples\"}, \"field\": \"sha256\", \"type\": \"quantitative\"}}, \"$schema\": \"https://vega.github.io/schema/vega-lite/v4.17.0.json\", \"datasets\": {\"data-58528f5c24b12afa02602281cb716a74\": [{\"appeared\": \" <2018\", \"label\": 0, \"sha256\": 50000, \"avclass\": 0, \"subset\": 50000}, {\"appeared\": \"2018-01\", \"label\": -1, \"sha256\": 22788, \"avclass\": 10482, \"subset\": 22788}, {\"appeared\": \"2018-01\", \"label\": 0, \"sha256\": 29423, \"avclass\": 0, \"subset\": 29423}, {\"appeared\": \"2018-01\", \"label\": 1, \"sha256\": 32491, \"avclass\": 30723, \"subset\": 32491}, {\"appeared\": \"2018-02\", \"label\": -1, \"sha256\": 19319, \"avclass\": 9644, \"subset\": 19319}, {\"appeared\": \"2018-02\", \"label\": 0, \"sha256\": 22915, \"avclass\": 0, \"subset\": 22915}, {\"appeared\": \"2018-02\", \"label\": 1, \"sha256\": 31222, \"avclass\": 29368, \"subset\": 31222}, {\"appeared\": \"2018-03\", \"label\": -1, \"sha256\": 15404, \"avclass\": 6432, \"subset\": 15404}, {\"appeared\": \"2018-03\", \"label\": 0, \"sha256\": 21373, \"avclass\": 0, \"subset\": 21373}, {\"appeared\": \"2018-03\", \"label\": 1, \"sha256\": 20152, \"avclass\": 19080, \"subset\": 20152}, {\"appeared\": \"2018-04\", \"label\": -1, \"sha256\": 18880, \"avclass\": 8685, \"subset\": 18880}, {\"appeared\": \"2018-04\", \"label\": 0, \"sha256\": 25190, \"avclass\": 0, \"subset\": 25190}, {\"appeared\": \"2018-04\", \"label\": 1, \"sha256\": 26892, \"avclass\": 26061, \"subset\": 26892}, {\"appeared\": \"2018-05\", \"label\": -1, \"sha256\": 17088, \"avclass\": 7232, \"subset\": 17088}, {\"appeared\": \"2018-05\", \"label\": 0, \"sha256\": 23719, \"avclass\": 0, \"subset\": 23719}, {\"appeared\": \"2018-05\", \"label\": 1, \"sha256\": 22193, \"avclass\": 21530, \"subset\": 22193}, {\"appeared\": \"2018-06\", \"label\": -1, \"sha256\": 17794, \"avclass\": 8010, \"subset\": 17794}, {\"appeared\": \"2018-06\", \"label\": 0, \"sha256\": 23285, \"avclass\": 0, \"subset\": 23285}, {\"appeared\": \"2018-06\", \"label\": 1, \"sha256\": 25116, \"avclass\": 23963, \"subset\": 25116}, {\"appeared\": \"2018-07\", \"label\": -1, \"sha256\": 18643, \"avclass\": 8496, \"subset\": 18643}, {\"appeared\": \"2018-07\", \"label\": 0, \"sha256\": 24799, \"avclass\": 0, \"subset\": 24799}, {\"appeared\": \"2018-07\", \"label\": 1, \"sha256\": 26622, \"avclass\": 25880, \"subset\": 26622}, {\"appeared\": \"2018-08\", \"label\": -1, \"sha256\": 16693, \"avclass\": 6794, \"subset\": 16693}, {\"appeared\": \"2018-08\", \"label\": 0, \"sha256\": 23634, \"avclass\": 0, \"subset\": 23634}, {\"appeared\": \"2018-08\", \"label\": 1, \"sha256\": 21791, \"avclass\": 20590, \"subset\": 21791}, {\"appeared\": \"2018-09\", \"label\": -1, \"sha256\": 22583, \"avclass\": 11893, \"subset\": 22583}, {\"appeared\": \"2018-09\", \"label\": 0, \"sha256\": 25707, \"avclass\": 0, \"subset\": 25707}, {\"appeared\": \"2018-09\", \"label\": 1, \"sha256\": 37062, \"avclass\": 35708, \"subset\": 37062}, {\"appeared\": \"2018-10\", \"label\": -1, \"sha256\": 30808, \"avclass\": 18765, \"subset\": 30808}, {\"appeared\": \"2018-10\", \"label\": 0, \"sha256\": 29955, \"avclass\": 0, \"subset\": 29955}, {\"appeared\": \"2018-10\", \"label\": 1, \"sha256\": 56459, \"avclass\": 56343, \"subset\": 56459}, {\"appeared\": \"2018-11\", \"label\": 0, \"sha256\": 50000, \"avclass\": 0, \"subset\": 50000}, {\"appeared\": \"2018-11\", \"label\": 1, \"sha256\": 50000, \"avclass\": 49796, \"subset\": 50000}, {\"appeared\": \"2018-12\", \"label\": 0, \"sha256\": 50000, \"avclass\": 0, \"subset\": 50000}, {\"appeared\": \"2018-12\", \"label\": 1, \"sha256\": 50000, \"avclass\": 49525, \"subset\": 50000}]}}, {\"mode\": \"vega-lite\"});\n",
              "</script>"
            ],
            "text/plain": [
              "alt.Chart(...)"
            ]
          },
          "metadata": {},
          "execution_count": 10
        }
      ],
      "source": [
        "plotdf = emberdf.copy()\n",
        "plotdf.loc[plotdf[\"appeared\"] < \"2018-01\", \"appeared\"] = \" <2018\"\n",
        "gbdf = plotdf.groupby([\"appeared\", \"label\"]).count().reset_index()\n",
        "alt.Chart(gbdf).mark_bar().encode(\n",
        "    alt.X('appeared:O', axis=alt.Axis(title='Month appeared')),\n",
        "    alt.Y('sum(sha256):Q', axis=alt.Axis(title='Number of samples')),\n",
        "    alt.Color('label:N', scale=alt.Scale(range=[green_unlabled, blue_benign, red_malicous]), legend=alt.Legend(values=[\"unlabeled\", \"benign\", \"malicious\"]))\n",
        ")"
      ]
    },
    {
      "cell_type": "markdown",
      "metadata": {
        "id": "BMUC3rWGNNRE"
      },
      "source": [
        "Observing the above, data is separated in an odd way, since in the real world that your company exists in, there aren't 50%  of malicous files (from the labeled files)"
      ]
    },
    {
      "cell_type": "code",
      "execution_count": 7,
      "metadata": {
        "colab": {
          "base_uri": "https://localhost:8080/"
        },
        "id": "UhJFAhr5EUxt",
        "outputId": "9f701eb4-5934-4578-f3d5-1e304dbee887"
      },
      "outputs": [
        {
          "output_type": "stream",
          "name": "stdout",
          "text": [
            "Number of features: 2381\n"
          ]
        }
      ],
      "source": [
        "# Number of features\n",
        "print('Number of features:', X_train.shape[1])"
      ]
    },
    {
      "cell_type": "code",
      "source": [
        "# Standardizing the features to have mean=0 and variance=1\n",
        "X_norm = StandardScaler().fit_transform(X_train)\n",
        "\n",
        "# Create an instance of PCA\n",
        "f_pca = PCA()\n",
        "\n",
        "# Fit PCA on your dataset\n",
        "f_pca.fit(X_norm)\n",
        "\n",
        "# Transform the dataset using the fitted PCA\n",
        "X_full_pca = f_pca.transform(X_norm)\n",
        "\n",
        "# Access the explained variance ratio\n",
        "explained_variance_ratio = f_pca.explained_variance_ratio_\n",
        "cumulative_explained_variance = np.cumsum(explained_variance_ratio)\n",
        "\n",
        "\n",
        "plt.plot(range(1, len(explained_variance_ratio) + 1), cumulative_explained_variance)\n",
        "plt.xlabel('Number of Principal Components')\n",
        "plt.ylabel('Cumulative Explained Variance')\n",
        "plt.title('Cumulative Explained Variance by Number of Principal Components')\n",
        "plt.grid(True)\n",
        "plt.savefig('cumulative_explained_variance_by_number_of_pcs.png')\n",
        "plt.show()"
      ],
      "metadata": {
        "colab": {
          "base_uri": "https://localhost:8080/",
          "height": 472
        },
        "id": "zoRYbjVxvx6J",
        "outputId": "16b4fdea-e1d1-410b-ad6f-7def2dafae1d"
      },
      "execution_count": 16,
      "outputs": [
        {
          "output_type": "display_data",
          "data": {
            "text/plain": [
              "<Figure size 640x480 with 1 Axes>"
            ],
            "image/png": "[encoded data removed]"
          },
          "metadata": {}
        }
      ]
    },
    {
      "cell_type": "markdown",
      "source": [
        "### Data Cleaning and Preparation by Statistics Characteristics"
      ],
      "metadata": {
        "id": "VSn7U4Cvn7YL"
      }
    },
    {
      "cell_type": "code",
      "source": [
        "def remove_unlabled_samples(X, y):\n",
        "  \"\"\"\n",
        "    Remove unlabeled samples.\n",
        "    Unlabled smaple has value = -1.\n",
        "  \"\"\"\n",
        "  labelled_indices = np.where(y_train != -1)\n",
        "\n",
        "  X_labelled = X[labelled_indices]\n",
        "  y_labelled = y[labelled_indices]\n",
        "\n",
        "  return X_labelled, y_labelled\n",
        "\n",
        "def remove_low_variance_features(X_train, X_test, threshold=0.01):\n",
        "  \"\"\"\n",
        "    Remove features with standard deviation less than the specified threshold.\n",
        "  \"\"\"\n",
        "  # Compute standard deviations of each feature\n",
        "  stds = np.std(X_train, axis=0)\n",
        "\n",
        "  # Get the indices of features with standard deviation greater than or equal to the threshold\n",
        "  high_variance_feature_indices = np.where(stds >= threshold)[0]\n",
        "\n",
        "  return X_train[:, high_variance_feature_indices], X_test[:, high_variance_feature_indices]\n",
        "\n",
        "\n",
        "def _calculate_number_of_chunks(num_samples, chunk_size):\n",
        "  n_chunks = num_samples // chunk_size\n",
        "  raw_chunks = num_samples / chunk_size\n",
        "\n",
        "  return n_chunks if n_chunks >= raw_chunks else n_chunks + 1\n",
        "\n",
        "\n",
        "def remove_features_with_low_correlation_to_target(X_train, y_train, X_test, threshold= 0.005, chunk_size=200000):\n",
        "  \"\"\"\n",
        "    Removes features from X that have low correlation to target y.\n",
        "  \"\"\"\n",
        "  def _get_correlations_df(X, y, threshold= 0.005, chunk_size=200000, return_remaining_features = False):\n",
        "    \n",
        "    # Calculate the number of chunks\n",
        "    n_chunks = _calculate_number_of_chunks(X.shape[0], chunk_size)\n",
        "\n",
        "    # Initialize an empty DataFrame to store correlations\n",
        "    correlations = pd.DataFrame(index=range(X.shape[1]), columns=[\"pearson\"])\n",
        "\n",
        "    # Loop through the data in chunks\n",
        "    for i in range(n_chunks):\n",
        "      start = i * chunk_size\n",
        "      end = start + chunk_size\n",
        "\n",
        "      # Load a chunk into memory\n",
        "      X_chunk = X[start:end, :]\n",
        "      y_chunk = y[start:end]\n",
        "\n",
        "      # Calculate Pearson correlation for each feature in the chunk\n",
        "      for feature in range(X_chunk.shape[1]):\n",
        "        corr, _ = pearsonr(X_chunk[:, feature], y_chunk)\n",
        "        if i == 0:\n",
        "            correlations.loc[feature, \"pearson\"] = corr\n",
        "        else:\n",
        "          correlations.loc[feature, \"pearson\"] = (correlations.loc[feature, \"pearson\"] * i + corr) / (i + 1)\n",
        "    return correlations\n",
        "\n",
        "  correlations = _get_correlations_df(X_train, y_train, threshold= 0.005, chunk_size=200000)\n",
        "\n",
        "  # Drop features with correlation less than thershold  \n",
        "  remaining_features =  correlations[\"pearson\"].abs() >= threshold\n",
        "  correlations = correlations[remaining_features]\n",
        "  remaining_features = correlations.index.values\n",
        "\n",
        "  return X_train[:, remaining_features], X_test[:, remaining_features]\n",
        "\n",
        "\n",
        "def get_features_correlation(X, chunk_size=200000):\n",
        "  \"\"\"\n",
        "     Removes one feature of every pair of features with a correlation greater than the threshold.\n",
        "  \"\"\"\n",
        "\n",
        "  # Calculate the number of chunks\n",
        "  n_chunks = _calculate_number_of_chunks(X.shape[0], chunk_size)\n",
        "\n",
        "  # Initialize an empty DataFrame to store feature-feature correlations\n",
        "  feature_correlations = pd.DataFrame(index=range(X.shape[1]), columns=range(X.shape[1]))\n",
        "\n",
        "  # Loop through the data in chunks\n",
        "  for i in range(n_chunks):\n",
        "    start = i * chunk_size\n",
        "    end = start + chunk_size\n",
        "\n",
        "    # Load a chunk into memory\n",
        "    X_chunk = X[start:end, :]\n",
        "\n",
        "    # Calculate Pearson correlation for each feature with other features\n",
        "    for feature1 in range(X_chunk.shape[1]):\n",
        "      for feature2 in range(feature1+1, X_chunk.shape[1]):\n",
        "        corr, _ = pearsonr(X_chunk[:, feature1], X_chunk[:, feature2])\n",
        "        if i == 0:\n",
        "            feature_correlations.loc[feature1, feature2] = corr\n",
        "        else:\n",
        "            feature_correlations.loc[feature1, feature2] = (feature_correlations.loc[feature1, feature2] * i + corr) / (i + 1)\n",
        "\n",
        "  return feature_correlations\n",
        "\n",
        "def remove_highly_correlated(X_train, X_test, corr_features, threshold):\n",
        "  remaining_features = [True for _ in range(X_train.shape[1])]\n",
        "\n",
        "  for feature in range(corr_features.shape[0]):\n",
        "    if any(corr_features.loc[feature] > threshold):\n",
        "      # Drop\n",
        "      remaining_features[feature] = False\n",
        "  return X_train[:, remaining_features], X_test[:, remaining_features]"
      ],
      "metadata": {
        "id": "Elh3ZZjNE_Qo"
      },
      "execution_count": 14,
      "outputs": []
    },
    {
      "cell_type": "code",
      "source": [
        "print(X_train.shape)\n",
        "# Remove unlabeled samples\n",
        "X_train, y_train = remove_unlabled_samples(X_train, y_train)\n",
        "print(X_train.shape)\n",
        "# Remove low variance features\n",
        "X_train, X_test = remove_low_variance_features(X_train, X_test)\n",
        "print(X_train.shape)\n",
        "# Calculate Pearson correlation for each feature with the target\n",
        "X_train, X_test = remove_features_with_low_correlation_to_target(X_train, y_train, X_test)\n",
        "print(X_train.shape)"
      ],
      "metadata": {
        "colab": {
          "base_uri": "https://localhost:8080/"
        },
        "id": "wgICWGi0LZif",
        "outputId": "23e0d1ad-8406-48d1-9822-82ca329448f6"
      },
      "execution_count": 96,
      "outputs": [
        {
          "output_type": "stream",
          "name": "stdout",
          "text": [
            "(800000, 2381)\n",
            "(600000, 2381)\n",
            "(600000, 1822)\n",
            "(600000, 1461)\n"
          ]
        }
      ]
    },
    {
      "cell_type": "code",
      "source": [
        "corr_features = pd.read_csv(f'{gdrive_data_folder}/corr_features.csv')"
      ],
      "metadata": {
        "id": "TG1BGTCPr8xY"
      },
      "execution_count": 10,
      "outputs": []
    },
    {
      "cell_type": "code",
      "source": [
        "corr_features = get_features_correlation(X_train)"
      ],
      "metadata": {
        "id": "NbIqE85xTCga"
      },
      "execution_count": 24,
      "outputs": []
    },
    {
      "cell_type": "code",
      "source": [
        "X_train_wo_colinear, X_test_wo_colinear = remove_highly_correlated(X_train, corr_features, 0.7)"
      ],
      "metadata": {
        "id": "YHy3njJumPWv"
      },
      "execution_count": 11,
      "outputs": []
    },
    {
      "cell_type": "code",
      "source": [
        "X_train_wo_colinear.shape"
      ],
      "metadata": {
        "colab": {
          "base_uri": "https://localhost:8080/"
        },
        "id": "rvmAUKO2q1p2",
        "outputId": "04b9e7e4-70ed-4622-8c21-99d5f653ce50"
      },
      "execution_count": 12,
      "outputs": [
        {
          "output_type": "execute_result",
          "data": {
            "text/plain": [
              "(600000, 1356)"
            ]
          },
          "metadata": {},
          "execution_count": 12
        }
      ]
    },
    {
      "cell_type": "code",
      "source": [
        "np.save(f'{gdrive_data_folder}/X_train_wo_colinear', X_train_wo_colinear)"
      ],
      "metadata": {
        "id": "6ECXQwBjuVUI"
      },
      "execution_count": 14,
      "outputs": []
    },
    {
      "cell_type": "code",
      "source": [
        "# Split the training set to train and validation set\n",
        "X_train_wo, X_val_wo, y_train_wo, y_val_wo = train_test_split(X_train_wo_colinear, y_train, test_size=0.20, random_state=42)\n",
        "print(f'X_train: {X_train_wo.shape}')\n",
        "print(f'X_val: {X_val_wo.shape}')"
      ],
      "metadata": {
        "colab": {
          "base_uri": "https://localhost:8080/"
        },
        "id": "iOfph2QGupfb",
        "outputId": "0b7d6640-3b1d-4fc6-bb7b-656da112832e"
      },
      "execution_count": 15,
      "outputs": [
        {
          "output_type": "stream",
          "name": "stdout",
          "text": [
            "X_train: (480000, 1356)\n",
            "X_val: (120000, 1356)\n"
          ]
        }
      ]
    },
    {
      "cell_type": "code",
      "source": [
        "# Split the training set to train and validation set\n",
        "X_train, X_val, y_train, y_val = train_test_split(X_train, y_train, test_size=0.20, random_state=42)\n",
        "print(f'X_train: {X_train.shape}')\n",
        "print(f'X_val: {X_val.shape}')"
      ],
      "metadata": {
        "colab": {
          "base_uri": "https://localhost:8080/"
        },
        "id": "BOjyZ3aBUEYd",
        "outputId": "88b27fb9-1fe0-4156-f0c3-f0afaabd4347"
      },
      "execution_count": 10,
      "outputs": [
        {
          "output_type": "stream",
          "name": "stdout",
          "text": [
            "X_train: (640000, 2381)\n",
            "X_val: (160000, 2381)\n"
          ]
        }
      ]
    },
    {
      "cell_type": "markdown",
      "source": [
        "### EDA - Exploratory Data Analysis"
      ],
      "metadata": {
        "id": "sl0lT0rioNh3"
      }
    },
    {
      "cell_type": "markdown",
      "source": [
        "Finding the right dimension involves balancing information retention and computational efficiency, utilizing techniques like PCA and evaluating the cumulative explained variance, and considering the specific characteristics and requirements for the dataset and task."
      ],
      "metadata": {
        "id": "cPoOSQnGgG56"
      }
    },
    {
      "cell_type": "code",
      "source": [
        "# Standardizing the features to have mean=0 and variance=1\n",
        "X_train_norm = StandardScaler().fit_transform(X_train)\n",
        "\n",
        "# Standardizing the features to have mean=0 and variance=1\n",
        "X_train_wo_colinear_norm = StandardScaler().fit_transform(X_train_wo_colinear)"
      ],
      "metadata": {
        "id": "Xx-VbizpvOBg"
      },
      "execution_count": 19,
      "outputs": []
    },
    {
      "cell_type": "code",
      "source": [
        "# Create an instance of PCA\n",
        "pca = PCA()\n",
        "\n",
        "# Fit PCA on your dataset\n",
        "pca.fit(X_train_norm)\n",
        "\n",
        "# Transform the dataset using the fitted PCA\n",
        "X_pca = pca.transform(X_train_norm)\n",
        "\n",
        "# Access the explained variance ratio\n",
        "explained_variance_ratio = pca.explained_variance_ratio_\n",
        "cumulative_explained_variance = np.cumsum(explained_variance_ratio)\n",
        "\n",
        "\n",
        "plt.plot(range(1, len(explained_variance_ratio) + 1), cumulative_explained_variance)\n",
        "plt.xlabel('Number of Principal Components')\n",
        "plt.ylabel('Cumulative Explained Variance')\n",
        "plt.title('Cumulative Explained Variance by Number of Principal Components')\n",
        "plt.grid(True)\n",
        "plt.savefig('cumulative_explained_variance_by_number_of_pcs.png')\n",
        "plt.show()"
      ],
      "metadata": {
        "colab": {
          "base_uri": "https://localhost:8080/",
          "height": 472
        },
        "id": "B9tUbWPiiHAB",
        "outputId": "aac42e9a-be7a-44d7-c6a7-3e1fa9d8317b"
      },
      "execution_count": null,
      "outputs": [
        {
          "output_type": "display_data",
          "data": {
            "text/plain": [
              "<Figure size 640x480 with 1 Axes>"
            ],
            "image/png": "[encoded data removed]"
          },
          "metadata": {}
        }
      ]
    },
    {
      "cell_type": "code",
      "source": [
        "print(f'Cumulative Explained Variance for 600 Principal Components: {cumulative_explained_variance[600]}')\n",
        "print(f'Cumulative Explained Variance for 700 Principal Components: {cumulative_explained_variance[700]}')"
      ],
      "metadata": {
        "id": "i2Bka1XoNNnX"
      },
      "execution_count": null,
      "outputs": []
    },
    {
      "cell_type": "markdown",
      "source": [
        "Upon examining the cumulative variance across our principal components, it becomes evident that approximately 700 components account for roughly 95% of the total variance within our dataset. This significant proportion of explained variance solidifies the choice of these 700 dimensions as the optimal balance between preserving data integrity and maintaining computational efficiency."
      ],
      "metadata": {
        "id": "PbOMDZ1Xou58"
      }
    },
    {
      "cell_type": "code",
      "source": [
        "n_components = 700"
      ],
      "metadata": {
        "id": "K_7ZoD_mpd2O"
      },
      "execution_count": 16,
      "outputs": []
    },
    {
      "cell_type": "code",
      "execution_count": 20,
      "metadata": {
        "id": "XNDT0nMbu8Hm"
      },
      "outputs": [],
      "source": [
        "# Save 'X_pca', the reduced-dimension representation of the input data.\n",
        "pca = PCA(n_components=n_components, random_state=42)\n",
        "X_pca = pca.fit_transform(X_train_norm)"
      ]
    },
    {
      "cell_type": "code",
      "source": [
        "def visualize(X, y, title, labels = ['x', 'y'], file_name='figure', to_save=True, grid=True, i=0, j=1):\n",
        "  plt.scatter(X[y==0, i], X[y==0, j], alpha=0.5, label='Benign', s=2)\n",
        "  plt.scatter(X[y==1, i], X[y==1, j], alpha=0.5, label='Malicious', s=2)\n",
        "  plt.legend()\n",
        "  plt.title(title)\n",
        "  plt.xlabel(labels[0])\n",
        "  plt.ylabel(labels[1])\n",
        "  plt.grid(grid)\n",
        "  plt.show()\n",
        "  if to_save:\n",
        "    plt.savefig(f'{file_name}.png')"
      ],
      "metadata": {
        "id": "TFi4v8oJcoHF"
      },
      "execution_count": null,
      "outputs": []
    },
    {
      "cell_type": "markdown",
      "source": [
        "Principal Component Analysis (PCA) Scatter Plot for Malicious and Benign Files"
      ],
      "metadata": {
        "id": "U3jSThThop3u"
      }
    },
    {
      "cell_type": "code",
      "source": [
        "visualize(\n",
        "    X=X_pca,\n",
        "    y=y_train,\n",
        "    title='Principal Component Analysis of Dataset',\n",
        "    labels = ['Principal Component 1', 'Principal Component 2'],\n",
        "    file_name = 'pca_0_to_1'\n",
        ")"
      ],
      "metadata": {
        "colab": {
          "base_uri": "https://localhost:8080/",
          "height": 490
        },
        "id": "nwBxpCiUoxb5",
        "outputId": "0bb0a3d4-a60d-451d-b9a8-c43b4f8a921c"
      },
      "execution_count": null,
      "outputs": [
        {
          "output_type": "display_data",
          "data": {
            "text/plain": [
              "<Figure size 640x480 with 1 Axes>"
            ],
            "image/png": "[encoded data removed]"
          },
          "metadata": {}
        },
        {
          "output_type": "display_data",
          "data": {
            "text/plain": [
              "<Figure size 640x480 with 0 Axes>"
            ]
          },
          "metadata": {}
        }
      ]
    },
    {
      "cell_type": "code",
      "source": [
        "visualize(\n",
        "    X=X_pca,\n",
        "    y=y_train,\n",
        "    title='Principal Component Analysis of Dataset',\n",
        "    labels = ['Principal Component 2', 'Principal Component 3'],\n",
        "    i=1,\n",
        "    j=2,\n",
        ")"
      ],
      "metadata": {
        "colab": {
          "base_uri": "https://localhost:8080/",
          "height": 472
        },
        "id": "85PAhebRcvuK",
        "outputId": "a0b8715e-fae7-4f35-b14b-34389a793942"
      },
      "execution_count": null,
      "outputs": [
        {
          "output_type": "display_data",
          "data": {
            "text/plain": [
              "<Figure size 640x480 with 1 Axes>"
            ],
            "image/png": "[encoded data removed]"
          },
          "metadata": {}
        }
      ]
    },
    {
      "cell_type": "markdown",
      "source": [
        "#### t-SNE Visualization of Malicious and Benign Files"
      ],
      "metadata": {
        "id": "P8BSf5GZoebf"
      }
    },
    {
      "cell_type": "code",
      "source": [
        "tsne = TSNE(n_components=2)\n",
        "X_tsne = tsne.fit_transform(X_pca)\n",
        "\n",
        "visualize(\n",
        "    X=X_tsne,\n",
        "    y=y_train,\n",
        "    title='Data after PCA and t-SNE',\n",
        "    labels = ['First Component', 'Second Component'],\n",
        "    file_name = 'tNSE'\n",
        ")"
      ],
      "metadata": {
        "id": "kwX0j4mzzUYy",
        "colab": {
          "base_uri": "https://localhost:8080/",
          "height": 546
        },
        "outputId": "38725385-7851-47cc-cf1a-8bdfc8f80555"
      },
      "execution_count": null,
      "outputs": [
        {
          "output_type": "stream",
          "name": "stderr",
          "text": [
            "/usr/local/lib/python3.10/dist-packages/IPython/core/pylabtools.py:151: UserWarning: Creating legend with loc=\"best\" can be slow with large amounts of data.\n",
            "  fig.canvas.print_figure(bytes_io, **kw)\n"
          ]
        },
        {
          "output_type": "display_data",
          "data": {
            "text/plain": [
              "<Figure size 640x480 with 1 Axes>"
            ],
            "image/png": "[encoded data removed]"
          },
          "metadata": {}
        },
        {
          "output_type": "display_data",
          "data": {
            "text/plain": [
              "<Figure size 640x480 with 0 Axes>"
            ]
          },
          "metadata": {}
        }
      ]
    },
    {
      "cell_type": "markdown",
      "source": [
        "## **Models**\n",
        "\n",
        "Harnessing the power of XGBoost, a gradient-boosted decision tree model, acclaimed for its adeptness at handling high-dimensional data. The rationale behind this choice is its proven track record of high performance, and the inherent efficiency and optimization of the algorithm."
      ],
      "metadata": {
        "id": "ifeommWeX75s"
      }
    },
    {
      "cell_type": "markdown",
      "source": [
        "## Evaluation Metrics"
      ],
      "metadata": {
        "id": "7wvQOWVYP496"
      }
    },
    {
      "cell_type": "code",
      "source": [
        "def print_result(y_true, y_pred, title):\n",
        "  print(f'{title}:')\n",
        "  print()\n",
        "\n",
        "\n",
        "  # Compute accuracy\n",
        "  accuracy = accuracy_score(y_true, y_pred)\n",
        "  print(f'Accuracy: {accuracy:.3f}')\n",
        "\n",
        "  # Compute confusion matrix\n",
        "  tn, fp, fn, tp = confusion_matrix(y_true, y_pred).ravel()\n",
        "\n",
        "  # Compute false positive rate (FPR) and true positive rate (TPR)\n",
        "  fpr = fp / (fp + tn)\n",
        "  tpr = tp / (tp + fn)\n",
        "\n",
        "  print(f'False Positive Rate (FPR): {fpr:.3f}')\n",
        "  print(f'True Positive Rate (TPR): {tpr:.3f}')\n",
        "\n",
        "\n",
        "  # Compute false negative rate (FNR) and true negative rate (TNR)\n",
        "  fnr = fn / (fn + tp)\n",
        "  tnr = tn / (tn + fp)\n",
        "\n",
        "  print(f'False Negative Rate (FNR): {fnr:.3f}')\n",
        "  print(f'True Negative Rate (TNR): {tnr:.3f}')\n",
        "\n",
        "\n",
        "def classify_by_threshold(y_pred_cont, threshold=0.5):\n",
        "  y_pred = [1 if score > threshold else 0 for score in y_pred_cont]\n",
        "  return y_pred"
      ],
      "metadata": {
        "id": "7zWROa-Vri85"
      },
      "execution_count": 25,
      "outputs": []
    },
    {
      "cell_type": "code",
      "source": [
        "def _get_threshold_by_fpr(thresholds, fpr, target_fpr=0.001):\n",
        "  # Find the threshold for the FPR closest to the target FPR\n",
        "  idx = np.argmin(np.abs(fpr - target_fpr))\n",
        "  threshold_at_target_fpr = thresholds[idx]\n",
        "  print(f'The threshold that corresponds to FPR={target_fpr} is {threshold_at_target_fpr:.3f}')\n",
        "  return threshold_at_target_fpr\n",
        "\n",
        "\n",
        "def _plot_curve(fpr, tpr, target_fpr, label):\n",
        "  # Find the y-value corresponding to target_fpr\n",
        "  y_at_target_fpr = np.interp(target_fpr, fpr, tpr)\n",
        "\n",
        "  plt.figure()\n",
        "  plt.plot(fpr, tpr, label=f'{label} \\n Score at FPR={target_fpr}: {y_at_target_fpr:.3f}')\n",
        "  plt.xlim([0.0, 0.006])\n",
        "  plt.ylim([0.0, 1.05])\n",
        "  plt.grid(True)\n",
        "  plt.xlabel('False Positive Rate')\n",
        "  plt.ylabel('True Positive Rate')\n",
        "  plt.title('Receiver Operating Characteristic Curve')\n",
        "  plt.legend(loc=\"lower right\")\n",
        "\n",
        "  # Customizations\n",
        "  plt.xticks([0, 0.001, 0.003, 0.006])  # Set x-axis ticks\n",
        "\n",
        "  # Draw a horizontal line at the corresponding y-value for x= target_fpr\n",
        "  plt.axhline(y=y_at_target_fpr, color='g', linestyle='--')\n",
        "  plt.axvline(x=0.001, color='g', linestyle='--') \n",
        "\n",
        "  # Show the plot\n",
        "  plt.show()\n",
        "\n",
        "\n",
        "def roc_curve_results(y_true, y_pred_prob, label, target_fpr, to_plot_curve):\n",
        "  \"\"\"\n",
        "    Plot the ROC curve. \n",
        "\n",
        "    Returns the threshold for the traget fpr\n",
        "  \"\"\"\n",
        "  fpr, tpr, thresholds = roc_curve(y_true, y_pred_prob)\n",
        "  threshold_at_target_fpr = _get_threshold_by_fpr(thresholds, fpr, target_fpr)\n",
        "  if to_plot_curve:\n",
        "    _plot_curve(fpr, tpr, target_fpr, label=f'{label} \\n ROC accuracy scrore: {roc_auc_score(y_true, y_pred_prob):.3f}.')\n",
        "\n",
        "  # print results in the required fpr\n",
        "  y_pred_at_th = classify_by_threshold(y_pred_prob, threshold_at_target_fpr) \n",
        "  print_result(y_true=y_true, y_pred=y_pred_at_th, title=f'Model Results at threshold={threshold_at_target_fpr:.3f}:')\n",
        "\n",
        "\n",
        "def evaluating_new_data(model, X_new, y_new, label= 'XGBoost Model', target_fpr=0.001, to_plot_curve=True):\n",
        "  dnew = xgb.DMatrix(X_new, label=y_new)\n",
        "  preds = model.predict(dnew)\n",
        "\n",
        "  roc_curve_results(y_new, preds, label, target_fpr, to_plot_curve)\n",
        "\n",
        "   \n",
        "\n",
        "def evaluating_new_data_on_pc(model, fitted_pca, X_new, y_new, label= 'XGBoost Model', target_fpr=0.001, to_plot_curve=True):\n",
        "  X_new_norm = StandardScaler().fit_transform(X_new)\n",
        "  # Apply PCA transformation on the new data\n",
        "  X_new_pca = pca.transform(X_new_norm)\n",
        "\n",
        "  evaluating_new_data(model, X_new_pca, y_new, label, target_fpr, to_plot_curve)\n",
        "\n",
        "\n",
        "def benign_results_on_threshold(y_true, y_pred_prob, threshold, label= 'XGBoost Model'):\n",
        "  \"\"\"\n",
        "    Plot the ROC curve. \n",
        "\n",
        "    Returns the threshold for the traget fpr\n",
        "  \"\"\"\n",
        "  # Classify by threshold\n",
        "  y_pred = [1 if score > threshold else 0 for score in y_pred_prob]\n",
        "  # Compute confusion matrix\n",
        "  tn, fp, fn, tp = confusion_matrix(y_true, y_pred).ravel()\n",
        "  # Compute false negative rate (FNR) and true negative rate (TNR)\n",
        "  fnr = fn / (fn + tp)\n",
        "  tnr = tn / (tn + fp)\n",
        "\n",
        "  print(f'{label}: (th={threshold})')\n",
        "  print()\n",
        "  print(\"False Negative Rate (FNR): \", fnr)\n",
        "  print(\"True Negative Rate (TNR): \", tnr)\n"
      ],
      "metadata": {
        "id": "WxdJofoWKHaB"
      },
      "execution_count": 21,
      "outputs": []
    },
    {
      "cell_type": "markdown",
      "source": [
        "## Model 4"
      ],
      "metadata": {
        "id": "OF6R2Gss6zFo"
      }
    },
    {
      "cell_type": "code",
      "source": [
        "# Convert the data into DMatrix format for XGBoost\n",
        "dtrain = xgb.DMatrix(X_train_wo, label=y_train)\n",
        "dtest = xgb.DMatrix(X_val_wo, label=y_val) # y_test\n",
        "\n",
        "# Set the parameters for the xgboost\n",
        "param = {\n",
        "    'max_depth': 6,  # maximum depth of each tree\n",
        "    'eta': 0.3,  # learning_rate\n",
        "    'objective': 'binary:logistic',  \n",
        "    'num_class': 1 \n",
        "} \n",
        "num_round = 800  # the number of training iterations\n",
        "\n",
        "# Train the model\n",
        "extracted_model = xgb.train(param, dtrain, num_round, early_stopping_rounds=10, evals=[(dtest, 'test')])\n",
        "\n",
        "# Make predictions\n",
        "preds = extracted_model.predict(dtest)"
      ],
      "metadata": {
        "colab": {
          "base_uri": "https://localhost:8080/"
        },
        "id": "rrOqzH_r52fv",
        "outputId": "7033c413-9a06-4df9-952b-5f3ff427b324"
      },
      "execution_count": 83,
      "outputs": [
        {
          "output_type": "stream",
          "name": "stdout",
          "text": [
            "[0]\ttest-logloss:0.55019\n",
            "[1]\ttest-logloss:0.46263\n",
            "[2]\ttest-logloss:0.40631\n",
            "[3]\ttest-logloss:0.36859\n",
            "[4]\ttest-logloss:0.33470\n",
            "[5]\ttest-logloss:0.31270\n",
            "[6]\ttest-logloss:0.29013\n",
            "[7]\ttest-logloss:0.27473\n",
            "[8]\ttest-logloss:0.25617\n",
            "[9]\ttest-logloss:0.24559\n",
            "[10]\ttest-logloss:0.23626\n",
            "[11]\ttest-logloss:0.22889\n",
            "[12]\ttest-logloss:0.22326\n",
            "[13]\ttest-logloss:0.21825\n",
            "[14]\ttest-logloss:0.21119\n",
            "[15]\ttest-logloss:0.20626\n",
            "[16]\ttest-logloss:0.20074\n",
            "[17]\ttest-logloss:0.19614\n",
            "[18]\ttest-logloss:0.19292\n",
            "[19]\ttest-logloss:0.18726\n",
            "[20]\ttest-logloss:0.18533\n",
            "[21]\ttest-logloss:0.18367\n",
            "[22]\ttest-logloss:0.18135\n",
            "[23]\ttest-logloss:0.17772\n",
            "[24]\ttest-logloss:0.17313\n",
            "[25]\ttest-logloss:0.17105\n",
            "[26]\ttest-logloss:0.16861\n",
            "[27]\ttest-logloss:0.16603\n",
            "[28]\ttest-logloss:0.16519\n",
            "[29]\ttest-logloss:0.16296\n",
            "[30]\ttest-logloss:0.16120\n",
            "[31]\ttest-logloss:0.15966\n",
            "[32]\ttest-logloss:0.15721\n",
            "[33]\ttest-logloss:0.15518\n",
            "[34]\ttest-logloss:0.15373\n",
            "[35]\ttest-logloss:0.15157\n",
            "[36]\ttest-logloss:0.15069\n",
            "[37]\ttest-logloss:0.14896\n",
            "[38]\ttest-logloss:0.14567\n",
            "[39]\ttest-logloss:0.14489\n",
            "[40]\ttest-logloss:0.14442\n",
            "[41]\ttest-logloss:0.14368\n",
            "[42]\ttest-logloss:0.14178\n",
            "[43]\ttest-logloss:0.14024\n",
            "[44]\ttest-logloss:0.13883\n",
            "[45]\ttest-logloss:0.13742\n",
            "[46]\ttest-logloss:0.13663\n",
            "[47]\ttest-logloss:0.13624\n",
            "[48]\ttest-logloss:0.13573\n",
            "[49]\ttest-logloss:0.13495\n",
            "[50]\ttest-logloss:0.13323\n",
            "[51]\ttest-logloss:0.13249\n",
            "[52]\ttest-logloss:0.13123\n",
            "[53]\ttest-logloss:0.13055\n",
            "[54]\ttest-logloss:0.12978\n",
            "[55]\ttest-logloss:0.12922\n",
            "[56]\ttest-logloss:0.12889\n",
            "[57]\ttest-logloss:0.12865\n",
            "[58]\ttest-logloss:0.12742\n",
            "[59]\ttest-logloss:0.12651\n",
            "[60]\ttest-logloss:0.12582\n",
            "[61]\ttest-logloss:0.12539\n",
            "[62]\ttest-logloss:0.12464\n",
            "[63]\ttest-logloss:0.12351\n",
            "[64]\ttest-logloss:0.12310\n",
            "[65]\ttest-logloss:0.12279\n",
            "[66]\ttest-logloss:0.12234\n",
            "[67]\ttest-logloss:0.12211\n",
            "[68]\ttest-logloss:0.12049\n",
            "[69]\ttest-logloss:0.11913\n",
            "[70]\ttest-logloss:0.11871\n",
            "[71]\ttest-logloss:0.11835\n",
            "[72]\ttest-logloss:0.11815\n",
            "[73]\ttest-logloss:0.11737\n",
            "[74]\ttest-logloss:0.11694\n",
            "[75]\ttest-logloss:0.11666\n",
            "[76]\ttest-logloss:0.11651\n",
            "[77]\ttest-logloss:0.11582\n",
            "[78]\ttest-logloss:0.11527\n",
            "[79]\ttest-logloss:0.11475\n",
            "[80]\ttest-logloss:0.11454\n",
            "[81]\ttest-logloss:0.11416\n",
            "[82]\ttest-logloss:0.11386\n",
            "[83]\ttest-logloss:0.11346\n",
            "[84]\ttest-logloss:0.11328\n",
            "[85]\ttest-logloss:0.11230\n",
            "[86]\ttest-logloss:0.11207\n",
            "[87]\ttest-logloss:0.11172\n",
            "[88]\ttest-logloss:0.11115\n",
            "[89]\ttest-logloss:0.11106\n",
            "[90]\ttest-logloss:0.11093\n",
            "[91]\ttest-logloss:0.11076\n",
            "[92]\ttest-logloss:0.11038\n",
            "[93]\ttest-logloss:0.11026\n",
            "[94]\ttest-logloss:0.10977\n",
            "[95]\ttest-logloss:0.10933\n",
            "[96]\ttest-logloss:0.10864\n",
            "[97]\ttest-logloss:0.10783\n",
            "[98]\ttest-logloss:0.10767\n",
            "[99]\ttest-logloss:0.10698\n",
            "[100]\ttest-logloss:0.10664\n",
            "[101]\ttest-logloss:0.10619\n",
            "[102]\ttest-logloss:0.10607\n",
            "[103]\ttest-logloss:0.10524\n",
            "[104]\ttest-logloss:0.10497\n",
            "[105]\ttest-logloss:0.10440\n",
            "[106]\ttest-logloss:0.10378\n",
            "[107]\ttest-logloss:0.10331\n",
            "[108]\ttest-logloss:0.10275\n",
            "[109]\ttest-logloss:0.10242\n",
            "[110]\ttest-logloss:0.10230\n",
            "[111]\ttest-logloss:0.10211\n",
            "[112]\ttest-logloss:0.10191\n",
            "[113]\ttest-logloss:0.10186\n",
            "[114]\ttest-logloss:0.10168\n",
            "[115]\ttest-logloss:0.10143\n",
            "[116]\ttest-logloss:0.10105\n",
            "[117]\ttest-logloss:0.10083\n",
            "[118]\ttest-logloss:0.10028\n",
            "[119]\ttest-logloss:0.10011\n",
            "[120]\ttest-logloss:0.09938\n",
            "[121]\ttest-logloss:0.09891\n",
            "[122]\ttest-logloss:0.09863\n",
            "[123]\ttest-logloss:0.09846\n",
            "[124]\ttest-logloss:0.09833\n",
            "[125]\ttest-logloss:0.09817\n",
            "[126]\ttest-logloss:0.09795\n",
            "[127]\ttest-logloss:0.09769\n",
            "[128]\ttest-logloss:0.09762\n",
            "[129]\ttest-logloss:0.09751\n",
            "[130]\ttest-logloss:0.09748\n",
            "[131]\ttest-logloss:0.09739\n",
            "[132]\ttest-logloss:0.09731\n",
            "[133]\ttest-logloss:0.09693\n",
            "[134]\ttest-logloss:0.09682\n",
            "[135]\ttest-logloss:0.09633\n",
            "[136]\ttest-logloss:0.09586\n",
            "[137]\ttest-logloss:0.09555\n",
            "[138]\ttest-logloss:0.09516\n",
            "[139]\ttest-logloss:0.09486\n",
            "[140]\ttest-logloss:0.09449\n",
            "[141]\ttest-logloss:0.09409\n",
            "[142]\ttest-logloss:0.09340\n",
            "[143]\ttest-logloss:0.09269\n",
            "[144]\ttest-logloss:0.09236\n",
            "[145]\ttest-logloss:0.09202\n",
            "[146]\ttest-logloss:0.09192\n",
            "[147]\ttest-logloss:0.09159\n",
            "[148]\ttest-logloss:0.09143\n",
            "[149]\ttest-logloss:0.09106\n",
            "[150]\ttest-logloss:0.09092\n",
            "[151]\ttest-logloss:0.09085\n",
            "[152]\ttest-logloss:0.09072\n",
            "[153]\ttest-logloss:0.09030\n",
            "[154]\ttest-logloss:0.08988\n",
            "[155]\ttest-logloss:0.08959\n",
            "[156]\ttest-logloss:0.08956\n",
            "[157]\ttest-logloss:0.08942\n",
            "[158]\ttest-logloss:0.08940\n",
            "[159]\ttest-logloss:0.08912\n",
            "[160]\ttest-logloss:0.08868\n",
            "[161]\ttest-logloss:0.08860\n",
            "[162]\ttest-logloss:0.08856\n",
            "[163]\ttest-logloss:0.08825\n",
            "[164]\ttest-logloss:0.08814\n",
            "[165]\ttest-logloss:0.08781\n",
            "[166]\ttest-logloss:0.08772\n",
            "[167]\ttest-logloss:0.08759\n",
            "[168]\ttest-logloss:0.08751\n",
            "[169]\ttest-logloss:0.08712\n",
            "[170]\ttest-logloss:0.08682\n",
            "[171]\ttest-logloss:0.08653\n",
            "[172]\ttest-logloss:0.08622\n",
            "[173]\ttest-logloss:0.08590\n",
            "[174]\ttest-logloss:0.08578\n",
            "[175]\ttest-logloss:0.08574\n",
            "[176]\ttest-logloss:0.08553\n",
            "[177]\ttest-logloss:0.08541\n",
            "[178]\ttest-logloss:0.08530\n",
            "[179]\ttest-logloss:0.08523\n",
            "[180]\ttest-logloss:0.08521\n",
            "[181]\ttest-logloss:0.08513\n",
            "[182]\ttest-logloss:0.08512\n",
            "[183]\ttest-logloss:0.08510\n",
            "[184]\ttest-logloss:0.08498\n",
            "[185]\ttest-logloss:0.08438\n",
            "[186]\ttest-logloss:0.08396\n",
            "[187]\ttest-logloss:0.08389\n",
            "[188]\ttest-logloss:0.08387\n",
            "[189]\ttest-logloss:0.08368\n",
            "[190]\ttest-logloss:0.08350\n",
            "[191]\ttest-logloss:0.08333\n",
            "[192]\ttest-logloss:0.08327\n",
            "[193]\ttest-logloss:0.08317\n",
            "[194]\ttest-logloss:0.08285\n",
            "[195]\ttest-logloss:0.08266\n",
            "[196]\ttest-logloss:0.08235\n",
            "[197]\ttest-logloss:0.08217\n",
            "[198]\ttest-logloss:0.08199\n",
            "[199]\ttest-logloss:0.08196\n",
            "[200]\ttest-logloss:0.08192\n",
            "[201]\ttest-logloss:0.08190\n",
            "[202]\ttest-logloss:0.08177\n",
            "[203]\ttest-logloss:0.08167\n",
            "[204]\ttest-logloss:0.08153\n",
            "[205]\ttest-logloss:0.08142\n",
            "[206]\ttest-logloss:0.08130\n",
            "[207]\ttest-logloss:0.08104\n",
            "[208]\ttest-logloss:0.08082\n",
            "[209]\ttest-logloss:0.08044\n",
            "[210]\ttest-logloss:0.08033\n",
            "[211]\ttest-logloss:0.08002\n",
            "[212]\ttest-logloss:0.07997\n",
            "[213]\ttest-logloss:0.07989\n",
            "[214]\ttest-logloss:0.07983\n",
            "[215]\ttest-logloss:0.07981\n",
            "[216]\ttest-logloss:0.07974\n",
            "[217]\ttest-logloss:0.07957\n",
            "[218]\ttest-logloss:0.07927\n",
            "[219]\ttest-logloss:0.07903\n",
            "[220]\ttest-logloss:0.07889\n",
            "[221]\ttest-logloss:0.07872\n",
            "[222]\ttest-logloss:0.07868\n",
            "[223]\ttest-logloss:0.07863\n",
            "[224]\ttest-logloss:0.07858\n",
            "[225]\ttest-logloss:0.07854\n",
            "[226]\ttest-logloss:0.07849\n",
            "[227]\ttest-logloss:0.07846\n",
            "[228]\ttest-logloss:0.07839\n",
            "[229]\ttest-logloss:0.07824\n",
            "[230]\ttest-logloss:0.07817\n",
            "[231]\ttest-logloss:0.07814\n",
            "[232]\ttest-logloss:0.07811\n",
            "[233]\ttest-logloss:0.07808\n",
            "[234]\ttest-logloss:0.07801\n",
            "[235]\ttest-logloss:0.07790\n",
            "[236]\ttest-logloss:0.07785\n",
            "[237]\ttest-logloss:0.07781\n",
            "[238]\ttest-logloss:0.07779\n",
            "[239]\ttest-logloss:0.07767\n",
            "[240]\ttest-logloss:0.07745\n",
            "[241]\ttest-logloss:0.07728\n",
            "[242]\ttest-logloss:0.07708\n",
            "[243]\ttest-logloss:0.07690\n",
            "[244]\ttest-logloss:0.07676\n",
            "[245]\ttest-logloss:0.07672\n",
            "[246]\ttest-logloss:0.07669\n",
            "[247]\ttest-logloss:0.07663\n",
            "[248]\ttest-logloss:0.07664\n",
            "[249]\ttest-logloss:0.07660\n",
            "[250]\ttest-logloss:0.07646\n",
            "[251]\ttest-logloss:0.07631\n",
            "[252]\ttest-logloss:0.07622\n",
            "[253]\ttest-logloss:0.07610\n",
            "[254]\ttest-logloss:0.07609\n",
            "[255]\ttest-logloss:0.07601\n",
            "[256]\ttest-logloss:0.07590\n",
            "[257]\ttest-logloss:0.07574\n",
            "[258]\ttest-logloss:0.07561\n",
            "[259]\ttest-logloss:0.07531\n",
            "[260]\ttest-logloss:0.07527\n",
            "[261]\ttest-logloss:0.07522\n",
            "[262]\ttest-logloss:0.07517\n",
            "[263]\ttest-logloss:0.07515\n",
            "[264]\ttest-logloss:0.07514\n",
            "[265]\ttest-logloss:0.07511\n",
            "[266]\ttest-logloss:0.07505\n",
            "[267]\ttest-logloss:0.07500\n",
            "[268]\ttest-logloss:0.07500\n",
            "[269]\ttest-logloss:0.07498\n",
            "[270]\ttest-logloss:0.07493\n",
            "[271]\ttest-logloss:0.07467\n",
            "[272]\ttest-logloss:0.07452\n",
            "[273]\ttest-logloss:0.07445\n",
            "[274]\ttest-logloss:0.07445\n",
            "[275]\ttest-logloss:0.07431\n",
            "[276]\ttest-logloss:0.07421\n",
            "[277]\ttest-logloss:0.07421\n",
            "[278]\ttest-logloss:0.07418\n",
            "[279]\ttest-logloss:0.07413\n",
            "[280]\ttest-logloss:0.07410\n",
            "[281]\ttest-logloss:0.07403\n",
            "[282]\ttest-logloss:0.07387\n",
            "[283]\ttest-logloss:0.07383\n",
            "[284]\ttest-logloss:0.07367\n",
            "[285]\ttest-logloss:0.07359\n",
            "[286]\ttest-logloss:0.07353\n",
            "[287]\ttest-logloss:0.07348\n",
            "[288]\ttest-logloss:0.07329\n",
            "[289]\ttest-logloss:0.07327\n",
            "[290]\ttest-logloss:0.07317\n",
            "[291]\ttest-logloss:0.07309\n",
            "[292]\ttest-logloss:0.07294\n",
            "[293]\ttest-logloss:0.07280\n",
            "[294]\ttest-logloss:0.07271\n",
            "[295]\ttest-logloss:0.07261\n",
            "[296]\ttest-logloss:0.07260\n",
            "[297]\ttest-logloss:0.07253\n",
            "[298]\ttest-logloss:0.07243\n",
            "[299]\ttest-logloss:0.07236\n",
            "[300]\ttest-logloss:0.07226\n",
            "[301]\ttest-logloss:0.07219\n",
            "[302]\ttest-logloss:0.07207\n",
            "[303]\ttest-logloss:0.07202\n",
            "[304]\ttest-logloss:0.07186\n",
            "[305]\ttest-logloss:0.07177\n",
            "[306]\ttest-logloss:0.07166\n",
            "[307]\ttest-logloss:0.07163\n",
            "[308]\ttest-logloss:0.07163\n",
            "[309]\ttest-logloss:0.07156\n",
            "[310]\ttest-logloss:0.07145\n",
            "[311]\ttest-logloss:0.07144\n",
            "[312]\ttest-logloss:0.07141\n",
            "[313]\ttest-logloss:0.07123\n",
            "[314]\ttest-logloss:0.07107\n",
            "[315]\ttest-logloss:0.07086\n",
            "[316]\ttest-logloss:0.07062\n",
            "[317]\ttest-logloss:0.07049\n",
            "[318]\ttest-logloss:0.07046\n",
            "[319]\ttest-logloss:0.07032\n",
            "[320]\ttest-logloss:0.07020\n",
            "[321]\ttest-logloss:0.07015\n",
            "[322]\ttest-logloss:0.06992\n",
            "[323]\ttest-logloss:0.06971\n",
            "[324]\ttest-logloss:0.06955\n",
            "[325]\ttest-logloss:0.06930\n",
            "[326]\ttest-logloss:0.06924\n",
            "[327]\ttest-logloss:0.06917\n",
            "[328]\ttest-logloss:0.06915\n",
            "[329]\ttest-logloss:0.06896\n",
            "[330]\ttest-logloss:0.06879\n",
            "[331]\ttest-logloss:0.06875\n",
            "[332]\ttest-logloss:0.06874\n",
            "[333]\ttest-logloss:0.06863\n",
            "[334]\ttest-logloss:0.06855\n",
            "[335]\ttest-logloss:0.06830\n",
            "[336]\ttest-logloss:0.06823\n",
            "[337]\ttest-logloss:0.06816\n",
            "[338]\ttest-logloss:0.06807\n",
            "[339]\ttest-logloss:0.06806\n",
            "[340]\ttest-logloss:0.06800\n",
            "[341]\ttest-logloss:0.06791\n",
            "[342]\ttest-logloss:0.06788\n",
            "[343]\ttest-logloss:0.06779\n",
            "[344]\ttest-logloss:0.06777\n",
            "[345]\ttest-logloss:0.06773\n",
            "[346]\ttest-logloss:0.06768\n",
            "[347]\ttest-logloss:0.06757\n",
            "[348]\ttest-logloss:0.06755\n",
            "[349]\ttest-logloss:0.06737\n",
            "[350]\ttest-logloss:0.06733\n",
            "[351]\ttest-logloss:0.06734\n",
            "[352]\ttest-logloss:0.06732\n",
            "[353]\ttest-logloss:0.06724\n",
            "[354]\ttest-logloss:0.06715\n",
            "[355]\ttest-logloss:0.06711\n",
            "[356]\ttest-logloss:0.06703\n",
            "[357]\ttest-logloss:0.06688\n",
            "[358]\ttest-logloss:0.06684\n",
            "[359]\ttest-logloss:0.06682\n",
            "[360]\ttest-logloss:0.06675\n",
            "[361]\ttest-logloss:0.06671\n",
            "[362]\ttest-logloss:0.06666\n",
            "[363]\ttest-logloss:0.06653\n",
            "[364]\ttest-logloss:0.06651\n",
            "[365]\ttest-logloss:0.06649\n",
            "[366]\ttest-logloss:0.06649\n",
            "[367]\ttest-logloss:0.06649\n",
            "[368]\ttest-logloss:0.06647\n",
            "[369]\ttest-logloss:0.06640\n",
            "[370]\ttest-logloss:0.06637\n",
            "[371]\ttest-logloss:0.06630\n",
            "[372]\ttest-logloss:0.06625\n",
            "[373]\ttest-logloss:0.06609\n",
            "[374]\ttest-logloss:0.06603\n",
            "[375]\ttest-logloss:0.06593\n",
            "[376]\ttest-logloss:0.06590\n",
            "[377]\ttest-logloss:0.06585\n",
            "[378]\ttest-logloss:0.06571\n",
            "[379]\ttest-logloss:0.06559\n",
            "[380]\ttest-logloss:0.06554\n",
            "[381]\ttest-logloss:0.06546\n",
            "[382]\ttest-logloss:0.06545\n",
            "[383]\ttest-logloss:0.06539\n",
            "[384]\ttest-logloss:0.06533\n",
            "[385]\ttest-logloss:0.06529\n",
            "[386]\ttest-logloss:0.06528\n",
            "[387]\ttest-logloss:0.06527\n",
            "[388]\ttest-logloss:0.06522\n",
            "[389]\ttest-logloss:0.06518\n",
            "[390]\ttest-logloss:0.06514\n",
            "[391]\ttest-logloss:0.06508\n",
            "[392]\ttest-logloss:0.06493\n",
            "[393]\ttest-logloss:0.06488\n",
            "[394]\ttest-logloss:0.06487\n",
            "[395]\ttest-logloss:0.06485\n",
            "[396]\ttest-logloss:0.06477\n",
            "[397]\ttest-logloss:0.06476\n",
            "[398]\ttest-logloss:0.06476\n",
            "[399]\ttest-logloss:0.06476\n",
            "[400]\ttest-logloss:0.06472\n",
            "[401]\ttest-logloss:0.06472\n",
            "[402]\ttest-logloss:0.06471\n",
            "[403]\ttest-logloss:0.06472\n",
            "[404]\ttest-logloss:0.06464\n",
            "[405]\ttest-logloss:0.06461\n",
            "[406]\ttest-logloss:0.06453\n",
            "[407]\ttest-logloss:0.06445\n",
            "[408]\ttest-logloss:0.06445\n",
            "[409]\ttest-logloss:0.06441\n",
            "[410]\ttest-logloss:0.06433\n",
            "[411]\ttest-logloss:0.06420\n",
            "[412]\ttest-logloss:0.06418\n",
            "[413]\ttest-logloss:0.06411\n",
            "[414]\ttest-logloss:0.06399\n",
            "[415]\ttest-logloss:0.06397\n",
            "[416]\ttest-logloss:0.06391\n",
            "[417]\ttest-logloss:0.06388\n",
            "[418]\ttest-logloss:0.06387\n",
            "[419]\ttest-logloss:0.06386\n",
            "[420]\ttest-logloss:0.06383\n",
            "[421]\ttest-logloss:0.06382\n",
            "[422]\ttest-logloss:0.06381\n",
            "[423]\ttest-logloss:0.06380\n",
            "[424]\ttest-logloss:0.06376\n",
            "[425]\ttest-logloss:0.06366\n",
            "[426]\ttest-logloss:0.06365\n",
            "[427]\ttest-logloss:0.06358\n",
            "[428]\ttest-logloss:0.06351\n",
            "[429]\ttest-logloss:0.06347\n",
            "[430]\ttest-logloss:0.06345\n",
            "[431]\ttest-logloss:0.06341\n",
            "[432]\ttest-logloss:0.06337\n",
            "[433]\ttest-logloss:0.06338\n",
            "[434]\ttest-logloss:0.06333\n",
            "[435]\ttest-logloss:0.06324\n",
            "[436]\ttest-logloss:0.06312\n",
            "[437]\ttest-logloss:0.06310\n",
            "[438]\ttest-logloss:0.06307\n",
            "[439]\ttest-logloss:0.06304\n",
            "[440]\ttest-logloss:0.06302\n",
            "[441]\ttest-logloss:0.06303\n",
            "[442]\ttest-logloss:0.06294\n",
            "[443]\ttest-logloss:0.06285\n",
            "[444]\ttest-logloss:0.06284\n",
            "[445]\ttest-logloss:0.06283\n",
            "[446]\ttest-logloss:0.06283\n",
            "[447]\ttest-logloss:0.06281\n",
            "[448]\ttest-logloss:0.06280\n",
            "[449]\ttest-logloss:0.06275\n",
            "[450]\ttest-logloss:0.06270\n",
            "[451]\ttest-logloss:0.06266\n",
            "[452]\ttest-logloss:0.06266\n",
            "[453]\ttest-logloss:0.06262\n",
            "[454]\ttest-logloss:0.06260\n",
            "[455]\ttest-logloss:0.06259\n",
            "[456]\ttest-logloss:0.06257\n",
            "[457]\ttest-logloss:0.06253\n",
            "[458]\ttest-logloss:0.06250\n",
            "[459]\ttest-logloss:0.06244\n",
            "[460]\ttest-logloss:0.06226\n",
            "[461]\ttest-logloss:0.06223\n",
            "[462]\ttest-logloss:0.06218\n",
            "[463]\ttest-logloss:0.06211\n",
            "[464]\ttest-logloss:0.06205\n",
            "[465]\ttest-logloss:0.06198\n",
            "[466]\ttest-logloss:0.06191\n",
            "[467]\ttest-logloss:0.06188\n",
            "[468]\ttest-logloss:0.06183\n",
            "[469]\ttest-logloss:0.06180\n",
            "[470]\ttest-logloss:0.06177\n",
            "[471]\ttest-logloss:0.06170\n",
            "[472]\ttest-logloss:0.06170\n",
            "[473]\ttest-logloss:0.06169\n",
            "[474]\ttest-logloss:0.06166\n",
            "[475]\ttest-logloss:0.06164\n",
            "[476]\ttest-logloss:0.06164\n",
            "[477]\ttest-logloss:0.06160\n",
            "[478]\ttest-logloss:0.06159\n",
            "[479]\ttest-logloss:0.06157\n",
            "[480]\ttest-logloss:0.06157\n",
            "[481]\ttest-logloss:0.06155\n",
            "[482]\ttest-logloss:0.06154\n",
            "[483]\ttest-logloss:0.06153\n",
            "[484]\ttest-logloss:0.06152\n",
            "[485]\ttest-logloss:0.06152\n",
            "[486]\ttest-logloss:0.06150\n",
            "[487]\ttest-logloss:0.06150\n",
            "[488]\ttest-logloss:0.06148\n",
            "[489]\ttest-logloss:0.06148\n",
            "[490]\ttest-logloss:0.06146\n",
            "[491]\ttest-logloss:0.06146\n",
            "[492]\ttest-logloss:0.06141\n",
            "[493]\ttest-logloss:0.06130\n",
            "[494]\ttest-logloss:0.06118\n",
            "[495]\ttest-logloss:0.06117\n",
            "[496]\ttest-logloss:0.06110\n",
            "[497]\ttest-logloss:0.06103\n",
            "[498]\ttest-logloss:0.06099\n",
            "[499]\ttest-logloss:0.06095\n",
            "[500]\ttest-logloss:0.06093\n",
            "[501]\ttest-logloss:0.06090\n",
            "[502]\ttest-logloss:0.06089\n",
            "[503]\ttest-logloss:0.06088\n",
            "[504]\ttest-logloss:0.06085\n",
            "[505]\ttest-logloss:0.06083\n",
            "[506]\ttest-logloss:0.06084\n",
            "[507]\ttest-logloss:0.06077\n",
            "[508]\ttest-logloss:0.06077\n",
            "[509]\ttest-logloss:0.06074\n",
            "[510]\ttest-logloss:0.06074\n",
            "[511]\ttest-logloss:0.06073\n",
            "[512]\ttest-logloss:0.06071\n",
            "[513]\ttest-logloss:0.06068\n",
            "[514]\ttest-logloss:0.06068\n",
            "[515]\ttest-logloss:0.06061\n",
            "[516]\ttest-logloss:0.06060\n",
            "[517]\ttest-logloss:0.06059\n",
            "[518]\ttest-logloss:0.06059\n",
            "[519]\ttest-logloss:0.06050\n",
            "[520]\ttest-logloss:0.06046\n",
            "[521]\ttest-logloss:0.06041\n",
            "[522]\ttest-logloss:0.06027\n",
            "[523]\ttest-logloss:0.06022\n",
            "[524]\ttest-logloss:0.06019\n",
            "[525]\ttest-logloss:0.06001\n",
            "[526]\ttest-logloss:0.05995\n",
            "[527]\ttest-logloss:0.05989\n",
            "[528]\ttest-logloss:0.05985\n",
            "[529]\ttest-logloss:0.05982\n",
            "[530]\ttest-logloss:0.05976\n",
            "[531]\ttest-logloss:0.05976\n",
            "[532]\ttest-logloss:0.05976\n",
            "[533]\ttest-logloss:0.05974\n",
            "[534]\ttest-logloss:0.05968\n",
            "[535]\ttest-logloss:0.05959\n",
            "[536]\ttest-logloss:0.05953\n",
            "[537]\ttest-logloss:0.05948\n",
            "[538]\ttest-logloss:0.05946\n",
            "[539]\ttest-logloss:0.05945\n",
            "[540]\ttest-logloss:0.05943\n",
            "[541]\ttest-logloss:0.05942\n",
            "[542]\ttest-logloss:0.05941\n",
            "[543]\ttest-logloss:0.05936\n",
            "[544]\ttest-logloss:0.05930\n",
            "[545]\ttest-logloss:0.05929\n",
            "[546]\ttest-logloss:0.05929\n",
            "[547]\ttest-logloss:0.05927\n",
            "[548]\ttest-logloss:0.05927\n",
            "[549]\ttest-logloss:0.05920\n",
            "[550]\ttest-logloss:0.05919\n",
            "[551]\ttest-logloss:0.05918\n",
            "[552]\ttest-logloss:0.05916\n",
            "[553]\ttest-logloss:0.05912\n",
            "[554]\ttest-logloss:0.05911\n",
            "[555]\ttest-logloss:0.05909\n",
            "[556]\ttest-logloss:0.05908\n",
            "[557]\ttest-logloss:0.05908\n",
            "[558]\ttest-logloss:0.05907\n",
            "[559]\ttest-logloss:0.05902\n",
            "[560]\ttest-logloss:0.05901\n",
            "[561]\ttest-logloss:0.05901\n",
            "[562]\ttest-logloss:0.05898\n",
            "[563]\ttest-logloss:0.05898\n",
            "[564]\ttest-logloss:0.05890\n",
            "[565]\ttest-logloss:0.05890\n",
            "[566]\ttest-logloss:0.05888\n",
            "[567]\ttest-logloss:0.05883\n",
            "[568]\ttest-logloss:0.05881\n",
            "[569]\ttest-logloss:0.05879\n",
            "[570]\ttest-logloss:0.05875\n",
            "[571]\ttest-logloss:0.05874\n",
            "[572]\ttest-logloss:0.05871\n",
            "[573]\ttest-logloss:0.05871\n",
            "[574]\ttest-logloss:0.05871\n",
            "[575]\ttest-logloss:0.05873\n",
            "[576]\ttest-logloss:0.05867\n",
            "[577]\ttest-logloss:0.05865\n",
            "[578]\ttest-logloss:0.05863\n",
            "[579]\ttest-logloss:0.05863\n",
            "[580]\ttest-logloss:0.05858\n",
            "[581]\ttest-logloss:0.05856\n",
            "[582]\ttest-logloss:0.05852\n",
            "[583]\ttest-logloss:0.05852\n",
            "[584]\ttest-logloss:0.05850\n",
            "[585]\ttest-logloss:0.05851\n",
            "[586]\ttest-logloss:0.05850\n",
            "[587]\ttest-logloss:0.05847\n",
            "[588]\ttest-logloss:0.05841\n",
            "[589]\ttest-logloss:0.05841\n",
            "[590]\ttest-logloss:0.05836\n",
            "[591]\ttest-logloss:0.05831\n",
            "[592]\ttest-logloss:0.05830\n",
            "[593]\ttest-logloss:0.05820\n",
            "[594]\ttest-logloss:0.05817\n",
            "[595]\ttest-logloss:0.05813\n",
            "[596]\ttest-logloss:0.05807\n",
            "[597]\ttest-logloss:0.05801\n",
            "[598]\ttest-logloss:0.05799\n",
            "[599]\ttest-logloss:0.05798\n",
            "[600]\ttest-logloss:0.05796\n",
            "[601]\ttest-logloss:0.05793\n",
            "[602]\ttest-logloss:0.05793\n",
            "[603]\ttest-logloss:0.05786\n",
            "[604]\ttest-logloss:0.05780\n",
            "[605]\ttest-logloss:0.05770\n",
            "[606]\ttest-logloss:0.05764\n",
            "[607]\ttest-logloss:0.05764\n",
            "[608]\ttest-logloss:0.05763\n",
            "[609]\ttest-logloss:0.05762\n",
            "[610]\ttest-logloss:0.05761\n",
            "[611]\ttest-logloss:0.05761\n",
            "[612]\ttest-logloss:0.05761\n",
            "[613]\ttest-logloss:0.05761\n",
            "[614]\ttest-logloss:0.05760\n",
            "[615]\ttest-logloss:0.05757\n",
            "[616]\ttest-logloss:0.05753\n",
            "[617]\ttest-logloss:0.05746\n",
            "[618]\ttest-logloss:0.05741\n",
            "[619]\ttest-logloss:0.05739\n",
            "[620]\ttest-logloss:0.05736\n",
            "[621]\ttest-logloss:0.05734\n",
            "[622]\ttest-logloss:0.05733\n",
            "[623]\ttest-logloss:0.05731\n",
            "[624]\ttest-logloss:0.05731\n",
            "[625]\ttest-logloss:0.05730\n",
            "[626]\ttest-logloss:0.05728\n",
            "[627]\ttest-logloss:0.05727\n",
            "[628]\ttest-logloss:0.05722\n",
            "[629]\ttest-logloss:0.05718\n",
            "[630]\ttest-logloss:0.05719\n",
            "[631]\ttest-logloss:0.05717\n",
            "[632]\ttest-logloss:0.05712\n",
            "[633]\ttest-logloss:0.05710\n",
            "[634]\ttest-logloss:0.05710\n",
            "[635]\ttest-logloss:0.05707\n",
            "[636]\ttest-logloss:0.05702\n",
            "[637]\ttest-logloss:0.05702\n",
            "[638]\ttest-logloss:0.05700\n",
            "[639]\ttest-logloss:0.05695\n",
            "[640]\ttest-logloss:0.05692\n",
            "[641]\ttest-logloss:0.05691\n",
            "[642]\ttest-logloss:0.05691\n",
            "[643]\ttest-logloss:0.05690\n",
            "[644]\ttest-logloss:0.05690\n",
            "[645]\ttest-logloss:0.05691\n",
            "[646]\ttest-logloss:0.05691\n",
            "[647]\ttest-logloss:0.05689\n",
            "[648]\ttest-logloss:0.05686\n",
            "[649]\ttest-logloss:0.05684\n",
            "[650]\ttest-logloss:0.05683\n",
            "[651]\ttest-logloss:0.05681\n",
            "[652]\ttest-logloss:0.05680\n",
            "[653]\ttest-logloss:0.05682\n",
            "[654]\ttest-logloss:0.05678\n",
            "[655]\ttest-logloss:0.05675\n",
            "[656]\ttest-logloss:0.05673\n",
            "[657]\ttest-logloss:0.05676\n",
            "[658]\ttest-logloss:0.05674\n",
            "[659]\ttest-logloss:0.05673\n",
            "[660]\ttest-logloss:0.05674\n",
            "[661]\ttest-logloss:0.05673\n",
            "[662]\ttest-logloss:0.05670\n",
            "[663]\ttest-logloss:0.05669\n",
            "[664]\ttest-logloss:0.05667\n",
            "[665]\ttest-logloss:0.05665\n",
            "[666]\ttest-logloss:0.05665\n",
            "[667]\ttest-logloss:0.05666\n",
            "[668]\ttest-logloss:0.05664\n",
            "[669]\ttest-logloss:0.05660\n",
            "[670]\ttest-logloss:0.05654\n",
            "[671]\ttest-logloss:0.05652\n",
            "[672]\ttest-logloss:0.05652\n",
            "[673]\ttest-logloss:0.05652\n",
            "[674]\ttest-logloss:0.05651\n",
            "[675]\ttest-logloss:0.05650\n",
            "[676]\ttest-logloss:0.05644\n",
            "[677]\ttest-logloss:0.05644\n",
            "[678]\ttest-logloss:0.05641\n",
            "[679]\ttest-logloss:0.05640\n",
            "[680]\ttest-logloss:0.05641\n",
            "[681]\ttest-logloss:0.05639\n",
            "[682]\ttest-logloss:0.05637\n",
            "[683]\ttest-logloss:0.05634\n",
            "[684]\ttest-logloss:0.05633\n",
            "[685]\ttest-logloss:0.05633\n",
            "[686]\ttest-logloss:0.05634\n",
            "[687]\ttest-logloss:0.05632\n",
            "[688]\ttest-logloss:0.05631\n",
            "[689]\ttest-logloss:0.05632\n",
            "[690]\ttest-logloss:0.05630\n",
            "[691]\ttest-logloss:0.05629\n",
            "[692]\ttest-logloss:0.05629\n",
            "[693]\ttest-logloss:0.05624\n",
            "[694]\ttest-logloss:0.05621\n",
            "[695]\ttest-logloss:0.05619\n",
            "[696]\ttest-logloss:0.05617\n",
            "[697]\ttest-logloss:0.05613\n",
            "[698]\ttest-logloss:0.05615\n",
            "[699]\ttest-logloss:0.05608\n",
            "[700]\ttest-logloss:0.05604\n",
            "[701]\ttest-logloss:0.05603\n",
            "[702]\ttest-logloss:0.05602\n",
            "[703]\ttest-logloss:0.05602\n",
            "[704]\ttest-logloss:0.05601\n",
            "[705]\ttest-logloss:0.05600\n",
            "[706]\ttest-logloss:0.05595\n",
            "[707]\ttest-logloss:0.05593\n",
            "[708]\ttest-logloss:0.05591\n",
            "[709]\ttest-logloss:0.05589\n",
            "[710]\ttest-logloss:0.05590\n",
            "[711]\ttest-logloss:0.05587\n",
            "[712]\ttest-logloss:0.05586\n",
            "[713]\ttest-logloss:0.05583\n",
            "[714]\ttest-logloss:0.05582\n",
            "[715]\ttest-logloss:0.05580\n",
            "[716]\ttest-logloss:0.05579\n",
            "[717]\ttest-logloss:0.05579\n",
            "[718]\ttest-logloss:0.05577\n",
            "[719]\ttest-logloss:0.05576\n",
            "[720]\ttest-logloss:0.05575\n",
            "[721]\ttest-logloss:0.05575\n",
            "[722]\ttest-logloss:0.05574\n",
            "[723]\ttest-logloss:0.05575\n",
            "[724]\ttest-logloss:0.05575\n",
            "[725]\ttest-logloss:0.05574\n",
            "[726]\ttest-logloss:0.05571\n",
            "[727]\ttest-logloss:0.05570\n",
            "[728]\ttest-logloss:0.05569\n",
            "[729]\ttest-logloss:0.05565\n",
            "[730]\ttest-logloss:0.05562\n",
            "[731]\ttest-logloss:0.05561\n",
            "[732]\ttest-logloss:0.05558\n",
            "[733]\ttest-logloss:0.05557\n",
            "[734]\ttest-logloss:0.05552\n",
            "[735]\ttest-logloss:0.05549\n",
            "[736]\ttest-logloss:0.05545\n",
            "[737]\ttest-logloss:0.05543\n",
            "[738]\ttest-logloss:0.05543\n",
            "[739]\ttest-logloss:0.05543\n",
            "[740]\ttest-logloss:0.05541\n",
            "[741]\ttest-logloss:0.05538\n",
            "[742]\ttest-logloss:0.05536\n",
            "[743]\ttest-logloss:0.05534\n",
            "[744]\ttest-logloss:0.05532\n",
            "[745]\ttest-logloss:0.05528\n",
            "[746]\ttest-logloss:0.05526\n",
            "[747]\ttest-logloss:0.05522\n",
            "[748]\ttest-logloss:0.05520\n",
            "[749]\ttest-logloss:0.05519\n",
            "[750]\ttest-logloss:0.05517\n",
            "[751]\ttest-logloss:0.05517\n",
            "[752]\ttest-logloss:0.05517\n",
            "[753]\ttest-logloss:0.05515\n",
            "[754]\ttest-logloss:0.05517\n",
            "[755]\ttest-logloss:0.05516\n",
            "[756]\ttest-logloss:0.05516\n",
            "[757]\ttest-logloss:0.05512\n",
            "[758]\ttest-logloss:0.05511\n",
            "[759]\ttest-logloss:0.05510\n",
            "[760]\ttest-logloss:0.05507\n",
            "[761]\ttest-logloss:0.05506\n",
            "[762]\ttest-logloss:0.05506\n",
            "[763]\ttest-logloss:0.05504\n",
            "[764]\ttest-logloss:0.05501\n",
            "[765]\ttest-logloss:0.05501\n",
            "[766]\ttest-logloss:0.05501\n",
            "[767]\ttest-logloss:0.05500\n",
            "[768]\ttest-logloss:0.05497\n",
            "[769]\ttest-logloss:0.05498\n",
            "[770]\ttest-logloss:0.05497\n",
            "[771]\ttest-logloss:0.05497\n",
            "[772]\ttest-logloss:0.05496\n",
            "[773]\ttest-logloss:0.05492\n",
            "[774]\ttest-logloss:0.05490\n",
            "[775]\ttest-logloss:0.05485\n",
            "[776]\ttest-logloss:0.05482\n",
            "[777]\ttest-logloss:0.05481\n",
            "[778]\ttest-logloss:0.05481\n",
            "[779]\ttest-logloss:0.05482\n",
            "[780]\ttest-logloss:0.05483\n",
            "[781]\ttest-logloss:0.05481\n",
            "[782]\ttest-logloss:0.05481\n",
            "[783]\ttest-logloss:0.05479\n",
            "[784]\ttest-logloss:0.05474\n",
            "[785]\ttest-logloss:0.05474\n",
            "[786]\ttest-logloss:0.05473\n",
            "[787]\ttest-logloss:0.05470\n",
            "[788]\ttest-logloss:0.05470\n",
            "[789]\ttest-logloss:0.05470\n",
            "[790]\ttest-logloss:0.05467\n",
            "[791]\ttest-logloss:0.05465\n",
            "[792]\ttest-logloss:0.05465\n",
            "[793]\ttest-logloss:0.05467\n",
            "[794]\ttest-logloss:0.05463\n",
            "[795]\ttest-logloss:0.05457\n",
            "[796]\ttest-logloss:0.05457\n",
            "[797]\ttest-logloss:0.05458\n",
            "[798]\ttest-logloss:0.05455\n",
            "[799]\ttest-logloss:0.05449\n"
          ]
        }
      ]
    },
    {
      "cell_type": "code",
      "source": [
        "evaluating_new_data(extracted_model, X_val_wo, y_val)"
      ],
      "metadata": {
        "colab": {
          "base_uri": "https://localhost:8080/",
          "height": 611
        },
        "id": "ueTOwU7CMuL1",
        "outputId": "ca82b1ce-7b0c-473c-afe6-7e07f551d56e"
      },
      "execution_count": 86,
      "outputs": [
        {
          "output_type": "stream",
          "name": "stdout",
          "text": [
            "The threshold that corresponds to FPR=0.001 is 0.981\n"
          ]
        },
        {
          "output_type": "display_data",
          "data": {
            "text/plain": [
              "<Figure size 640x480 with 1 Axes>"
            ],
            "image/png": "[encoded data removed]"
          },
          "metadata": {}
        },
        {
          "output_type": "stream",
          "name": "stdout",
          "text": [
            "Model Results at threshold=0.981::\n",
            "\n",
            "Accuracy: 0.937\n",
            "False Positive Rate (FPR): 0.001\n",
            "True Positive Rate (TPR): 0.875\n",
            "False Negative Rate (FNR): 0.125\n",
            "True Negative Rate (TNR): 0.999\n"
          ]
        }
      ]
    },
    {
      "cell_type": "markdown",
      "source": [
        "## **Model 1**\n",
        "\n"
      ],
      "metadata": {
        "id": "0l_dtiuc_YyV"
      }
    },
    {
      "cell_type": "code",
      "execution_count": 21,
      "metadata": {
        "id": "bkAxjjisPcxn",
        "colab": {
          "base_uri": "https://localhost:8080/"
        },
        "outputId": "288eed3f-8bc6-43c9-968b-d8fccac52774"
      },
      "outputs": [
        {
          "output_type": "stream",
          "name": "stdout",
          "text": [
            "[0]\ttest-logloss:0.54955\n",
            "[1]\ttest-logloss:0.45893\n",
            "[2]\ttest-logloss:0.40377\n",
            "[3]\ttest-logloss:0.36220\n",
            "[4]\ttest-logloss:0.33045\n",
            "[5]\ttest-logloss:0.30378\n",
            "[6]\ttest-logloss:0.28193\n",
            "[7]\ttest-logloss:0.26004\n",
            "[8]\ttest-logloss:0.24737\n",
            "[9]\ttest-logloss:0.23401\n",
            "[10]\ttest-logloss:0.22673\n",
            "[11]\ttest-logloss:0.21963\n",
            "[12]\ttest-logloss:0.21352\n",
            "[13]\ttest-logloss:0.20634\n",
            "[14]\ttest-logloss:0.19792\n",
            "[15]\ttest-logloss:0.19131\n",
            "[16]\ttest-logloss:0.18788\n",
            "[17]\ttest-logloss:0.18478\n",
            "[18]\ttest-logloss:0.17972\n",
            "[19]\ttest-logloss:0.17483\n",
            "[20]\ttest-logloss:0.17242\n",
            "[21]\ttest-logloss:0.16986\n",
            "[22]\ttest-logloss:0.16737\n",
            "[23]\ttest-logloss:0.16490\n",
            "[24]\ttest-logloss:0.16329\n",
            "[25]\ttest-logloss:0.16160\n",
            "[26]\ttest-logloss:0.15844\n",
            "[27]\ttest-logloss:0.15533\n",
            "[28]\ttest-logloss:0.15106\n",
            "[29]\ttest-logloss:0.15020\n",
            "[30]\ttest-logloss:0.14879\n",
            "[31]\ttest-logloss:0.14714\n",
            "[32]\ttest-logloss:0.14526\n",
            "[33]\ttest-logloss:0.14367\n",
            "[34]\ttest-logloss:0.14206\n",
            "[35]\ttest-logloss:0.13976\n",
            "[36]\ttest-logloss:0.13880\n",
            "[37]\ttest-logloss:0.13824\n",
            "[38]\ttest-logloss:0.13724\n",
            "[39]\ttest-logloss:0.13528\n",
            "[40]\ttest-logloss:0.13450\n",
            "[41]\ttest-logloss:0.13401\n",
            "[42]\ttest-logloss:0.13328\n",
            "[43]\ttest-logloss:0.13249\n",
            "[44]\ttest-logloss:0.13161\n",
            "[45]\ttest-logloss:0.13070\n",
            "[46]\ttest-logloss:0.12994\n",
            "[47]\ttest-logloss:0.12855\n",
            "[48]\ttest-logloss:0.12658\n",
            "[49]\ttest-logloss:0.12603\n",
            "[50]\ttest-logloss:0.12562\n",
            "[51]\ttest-logloss:0.12397\n",
            "[52]\ttest-logloss:0.12292\n",
            "[53]\ttest-logloss:0.12259\n",
            "[54]\ttest-logloss:0.12205\n",
            "[55]\ttest-logloss:0.12113\n",
            "[56]\ttest-logloss:0.12007\n",
            "[57]\ttest-logloss:0.11940\n",
            "[58]\ttest-logloss:0.11857\n",
            "[59]\ttest-logloss:0.11798\n",
            "[60]\ttest-logloss:0.11743\n",
            "[61]\ttest-logloss:0.11696\n",
            "[62]\ttest-logloss:0.11652\n",
            "[63]\ttest-logloss:0.11615\n",
            "[64]\ttest-logloss:0.11543\n",
            "[65]\ttest-logloss:0.11516\n",
            "[66]\ttest-logloss:0.11491\n",
            "[67]\ttest-logloss:0.11446\n",
            "[68]\ttest-logloss:0.11422\n",
            "[69]\ttest-logloss:0.11401\n",
            "[70]\ttest-logloss:0.11270\n",
            "[71]\ttest-logloss:0.11172\n",
            "[72]\ttest-logloss:0.11094\n",
            "[73]\ttest-logloss:0.11066\n",
            "[74]\ttest-logloss:0.11038\n",
            "[75]\ttest-logloss:0.10985\n",
            "[76]\ttest-logloss:0.10964\n",
            "[77]\ttest-logloss:0.10922\n",
            "[78]\ttest-logloss:0.10882\n",
            "[79]\ttest-logloss:0.10836\n",
            "[80]\ttest-logloss:0.10793\n",
            "[81]\ttest-logloss:0.10746\n",
            "[82]\ttest-logloss:0.10732\n",
            "[83]\ttest-logloss:0.10718\n",
            "[84]\ttest-logloss:0.10643\n",
            "[85]\ttest-logloss:0.10570\n",
            "[86]\ttest-logloss:0.10562\n",
            "[87]\ttest-logloss:0.10525\n",
            "[88]\ttest-logloss:0.10515\n",
            "[89]\ttest-logloss:0.10474\n",
            "[90]\ttest-logloss:0.10459\n",
            "[91]\ttest-logloss:0.10371\n",
            "[92]\ttest-logloss:0.10316\n",
            "[93]\ttest-logloss:0.10241\n",
            "[94]\ttest-logloss:0.10206\n",
            "[95]\ttest-logloss:0.10191\n",
            "[96]\ttest-logloss:0.10167\n",
            "[97]\ttest-logloss:0.10134\n",
            "[98]\ttest-logloss:0.10076\n",
            "[99]\ttest-logloss:0.10012\n",
            "[100]\ttest-logloss:0.09968\n",
            "[101]\ttest-logloss:0.09937\n",
            "[102]\ttest-logloss:0.09912\n",
            "[103]\ttest-logloss:0.09899\n",
            "[104]\ttest-logloss:0.09859\n",
            "[105]\ttest-logloss:0.09841\n",
            "[106]\ttest-logloss:0.09765\n",
            "[107]\ttest-logloss:0.09738\n",
            "[108]\ttest-logloss:0.09721\n",
            "[109]\ttest-logloss:0.09637\n",
            "[110]\ttest-logloss:0.09563\n",
            "[111]\ttest-logloss:0.09529\n",
            "[112]\ttest-logloss:0.09511\n",
            "[113]\ttest-logloss:0.09501\n",
            "[114]\ttest-logloss:0.09489\n",
            "[115]\ttest-logloss:0.09474\n",
            "[116]\ttest-logloss:0.09427\n",
            "[117]\ttest-logloss:0.09406\n",
            "[118]\ttest-logloss:0.09402\n",
            "[119]\ttest-logloss:0.09390\n",
            "[120]\ttest-logloss:0.09335\n",
            "[121]\ttest-logloss:0.09313\n",
            "[122]\ttest-logloss:0.09271\n",
            "[123]\ttest-logloss:0.09264\n",
            "[124]\ttest-logloss:0.09253\n",
            "[125]\ttest-logloss:0.09237\n",
            "[126]\ttest-logloss:0.09225\n",
            "[127]\ttest-logloss:0.09205\n",
            "[128]\ttest-logloss:0.09187\n",
            "[129]\ttest-logloss:0.09171\n",
            "[130]\ttest-logloss:0.09113\n",
            "[131]\ttest-logloss:0.09062\n",
            "[132]\ttest-logloss:0.09023\n",
            "[133]\ttest-logloss:0.09006\n",
            "[134]\ttest-logloss:0.08991\n",
            "[135]\ttest-logloss:0.08964\n",
            "[136]\ttest-logloss:0.08951\n",
            "[137]\ttest-logloss:0.08932\n",
            "[138]\ttest-logloss:0.08908\n",
            "[139]\ttest-logloss:0.08869\n",
            "[140]\ttest-logloss:0.08843\n",
            "[141]\ttest-logloss:0.08796\n",
            "[142]\ttest-logloss:0.08757\n",
            "[143]\ttest-logloss:0.08754\n",
            "[144]\ttest-logloss:0.08707\n",
            "[145]\ttest-logloss:0.08669\n",
            "[146]\ttest-logloss:0.08649\n",
            "[147]\ttest-logloss:0.08641\n",
            "[148]\ttest-logloss:0.08630\n",
            "[149]\ttest-logloss:0.08618\n",
            "[150]\ttest-logloss:0.08565\n",
            "[151]\ttest-logloss:0.08554\n",
            "[152]\ttest-logloss:0.08537\n",
            "[153]\ttest-logloss:0.08528\n",
            "[154]\ttest-logloss:0.08514\n",
            "[155]\ttest-logloss:0.08464\n",
            "[156]\ttest-logloss:0.08441\n",
            "[157]\ttest-logloss:0.08409\n",
            "[158]\ttest-logloss:0.08389\n",
            "[159]\ttest-logloss:0.08366\n",
            "[160]\ttest-logloss:0.08358\n",
            "[161]\ttest-logloss:0.08323\n",
            "[162]\ttest-logloss:0.08297\n",
            "[163]\ttest-logloss:0.08285\n",
            "[164]\ttest-logloss:0.08261\n",
            "[165]\ttest-logloss:0.08237\n",
            "[166]\ttest-logloss:0.08223\n",
            "[167]\ttest-logloss:0.08213\n",
            "[168]\ttest-logloss:0.08207\n",
            "[169]\ttest-logloss:0.08200\n",
            "[170]\ttest-logloss:0.08181\n",
            "[171]\ttest-logloss:0.08154\n",
            "[172]\ttest-logloss:0.08141\n",
            "[173]\ttest-logloss:0.08115\n",
            "[174]\ttest-logloss:0.08099\n",
            "[175]\ttest-logloss:0.08092\n",
            "[176]\ttest-logloss:0.08063\n",
            "[177]\ttest-logloss:0.08041\n",
            "[178]\ttest-logloss:0.07991\n",
            "[179]\ttest-logloss:0.07959\n",
            "[180]\ttest-logloss:0.07947\n",
            "[181]\ttest-logloss:0.07923\n",
            "[182]\ttest-logloss:0.07907\n",
            "[183]\ttest-logloss:0.07902\n",
            "[184]\ttest-logloss:0.07863\n",
            "[185]\ttest-logloss:0.07858\n",
            "[186]\ttest-logloss:0.07852\n",
            "[187]\ttest-logloss:0.07830\n",
            "[188]\ttest-logloss:0.07823\n",
            "[189]\ttest-logloss:0.07813\n",
            "[190]\ttest-logloss:0.07793\n",
            "[191]\ttest-logloss:0.07778\n",
            "[192]\ttest-logloss:0.07771\n",
            "[193]\ttest-logloss:0.07762\n",
            "[194]\ttest-logloss:0.07756\n",
            "[195]\ttest-logloss:0.07747\n",
            "[196]\ttest-logloss:0.07743\n",
            "[197]\ttest-logloss:0.07715\n",
            "[198]\ttest-logloss:0.07701\n",
            "[199]\ttest-logloss:0.07697\n",
            "[200]\ttest-logloss:0.07673\n",
            "[201]\ttest-logloss:0.07643\n",
            "[202]\ttest-logloss:0.07631\n",
            "[203]\ttest-logloss:0.07620\n",
            "[204]\ttest-logloss:0.07615\n",
            "[205]\ttest-logloss:0.07603\n",
            "[206]\ttest-logloss:0.07587\n",
            "[207]\ttest-logloss:0.07543\n",
            "[208]\ttest-logloss:0.07538\n",
            "[209]\ttest-logloss:0.07532\n",
            "[210]\ttest-logloss:0.07527\n",
            "[211]\ttest-logloss:0.07519\n",
            "[212]\ttest-logloss:0.07496\n",
            "[213]\ttest-logloss:0.07489\n",
            "[214]\ttest-logloss:0.07485\n",
            "[215]\ttest-logloss:0.07473\n",
            "[216]\ttest-logloss:0.07467\n",
            "[217]\ttest-logloss:0.07439\n",
            "[218]\ttest-logloss:0.07436\n",
            "[219]\ttest-logloss:0.07430\n",
            "[220]\ttest-logloss:0.07426\n",
            "[221]\ttest-logloss:0.07418\n",
            "[222]\ttest-logloss:0.07411\n",
            "[223]\ttest-logloss:0.07394\n",
            "[224]\ttest-logloss:0.07370\n",
            "[225]\ttest-logloss:0.07361\n",
            "[226]\ttest-logloss:0.07346\n",
            "[227]\ttest-logloss:0.07344\n",
            "[228]\ttest-logloss:0.07340\n",
            "[229]\ttest-logloss:0.07329\n",
            "[230]\ttest-logloss:0.07323\n",
            "[231]\ttest-logloss:0.07309\n",
            "[232]\ttest-logloss:0.07306\n",
            "[233]\ttest-logloss:0.07303\n",
            "[234]\ttest-logloss:0.07292\n",
            "[235]\ttest-logloss:0.07291\n",
            "[236]\ttest-logloss:0.07286\n",
            "[237]\ttest-logloss:0.07285\n",
            "[238]\ttest-logloss:0.07266\n",
            "[239]\ttest-logloss:0.07244\n",
            "[240]\ttest-logloss:0.07234\n",
            "[241]\ttest-logloss:0.07229\n",
            "[242]\ttest-logloss:0.07225\n",
            "[243]\ttest-logloss:0.07199\n",
            "[244]\ttest-logloss:0.07179\n",
            "[245]\ttest-logloss:0.07162\n",
            "[246]\ttest-logloss:0.07155\n",
            "[247]\ttest-logloss:0.07138\n",
            "[248]\ttest-logloss:0.07100\n",
            "[249]\ttest-logloss:0.07094\n",
            "[250]\ttest-logloss:0.07090\n",
            "[251]\ttest-logloss:0.07064\n",
            "[252]\ttest-logloss:0.07055\n",
            "[253]\ttest-logloss:0.07039\n",
            "[254]\ttest-logloss:0.07029\n",
            "[255]\ttest-logloss:0.07016\n",
            "[256]\ttest-logloss:0.06994\n",
            "[257]\ttest-logloss:0.06982\n",
            "[258]\ttest-logloss:0.06961\n",
            "[259]\ttest-logloss:0.06945\n",
            "[260]\ttest-logloss:0.06932\n",
            "[261]\ttest-logloss:0.06922\n",
            "[262]\ttest-logloss:0.06920\n",
            "[263]\ttest-logloss:0.06913\n",
            "[264]\ttest-logloss:0.06909\n",
            "[265]\ttest-logloss:0.06907\n",
            "[266]\ttest-logloss:0.06903\n",
            "[267]\ttest-logloss:0.06882\n",
            "[268]\ttest-logloss:0.06867\n",
            "[269]\ttest-logloss:0.06848\n",
            "[270]\ttest-logloss:0.06836\n",
            "[271]\ttest-logloss:0.06828\n",
            "[272]\ttest-logloss:0.06822\n",
            "[273]\ttest-logloss:0.06817\n",
            "[274]\ttest-logloss:0.06803\n",
            "[275]\ttest-logloss:0.06796\n",
            "[276]\ttest-logloss:0.06795\n",
            "[277]\ttest-logloss:0.06793\n",
            "[278]\ttest-logloss:0.06784\n",
            "[279]\ttest-logloss:0.06777\n",
            "[280]\ttest-logloss:0.06766\n",
            "[281]\ttest-logloss:0.06761\n",
            "[282]\ttest-logloss:0.06757\n",
            "[283]\ttest-logloss:0.06755\n",
            "[284]\ttest-logloss:0.06743\n",
            "[285]\ttest-logloss:0.06734\n",
            "[286]\ttest-logloss:0.06729\n",
            "[287]\ttest-logloss:0.06724\n",
            "[288]\ttest-logloss:0.06721\n",
            "[289]\ttest-logloss:0.06719\n",
            "[290]\ttest-logloss:0.06710\n",
            "[291]\ttest-logloss:0.06709\n",
            "[292]\ttest-logloss:0.06710\n",
            "[293]\ttest-logloss:0.06691\n",
            "[294]\ttest-logloss:0.06689\n",
            "[295]\ttest-logloss:0.06686\n",
            "[296]\ttest-logloss:0.06685\n",
            "[297]\ttest-logloss:0.06682\n",
            "[298]\ttest-logloss:0.06675\n",
            "[299]\ttest-logloss:0.06663\n",
            "[300]\ttest-logloss:0.06657\n",
            "[301]\ttest-logloss:0.06649\n",
            "[302]\ttest-logloss:0.06630\n",
            "[303]\ttest-logloss:0.06622\n",
            "[304]\ttest-logloss:0.06612\n",
            "[305]\ttest-logloss:0.06602\n",
            "[306]\ttest-logloss:0.06593\n",
            "[307]\ttest-logloss:0.06587\n",
            "[308]\ttest-logloss:0.06581\n",
            "[309]\ttest-logloss:0.06573\n",
            "[310]\ttest-logloss:0.06565\n",
            "[311]\ttest-logloss:0.06562\n",
            "[312]\ttest-logloss:0.06560\n",
            "[313]\ttest-logloss:0.06543\n",
            "[314]\ttest-logloss:0.06524\n",
            "[315]\ttest-logloss:0.06518\n",
            "[316]\ttest-logloss:0.06506\n",
            "[317]\ttest-logloss:0.06496\n",
            "[318]\ttest-logloss:0.06492\n",
            "[319]\ttest-logloss:0.06486\n",
            "[320]\ttest-logloss:0.06480\n",
            "[321]\ttest-logloss:0.06469\n",
            "[322]\ttest-logloss:0.06467\n",
            "[323]\ttest-logloss:0.06465\n",
            "[324]\ttest-logloss:0.06464\n",
            "[325]\ttest-logloss:0.06463\n",
            "[326]\ttest-logloss:0.06458\n",
            "[327]\ttest-logloss:0.06455\n",
            "[328]\ttest-logloss:0.06451\n",
            "[329]\ttest-logloss:0.06448\n",
            "[330]\ttest-logloss:0.06446\n",
            "[331]\ttest-logloss:0.06442\n",
            "[332]\ttest-logloss:0.06438\n",
            "[333]\ttest-logloss:0.06433\n",
            "[334]\ttest-logloss:0.06430\n",
            "[335]\ttest-logloss:0.06422\n",
            "[336]\ttest-logloss:0.06417\n",
            "[337]\ttest-logloss:0.06404\n",
            "[338]\ttest-logloss:0.06397\n",
            "[339]\ttest-logloss:0.06386\n",
            "[340]\ttest-logloss:0.06382\n",
            "[341]\ttest-logloss:0.06382\n",
            "[342]\ttest-logloss:0.06381\n",
            "[343]\ttest-logloss:0.06377\n",
            "[344]\ttest-logloss:0.06369\n",
            "[345]\ttest-logloss:0.06365\n",
            "[346]\ttest-logloss:0.06363\n",
            "[347]\ttest-logloss:0.06354\n",
            "[348]\ttest-logloss:0.06348\n",
            "[349]\ttest-logloss:0.06335\n",
            "[350]\ttest-logloss:0.06333\n",
            "[351]\ttest-logloss:0.06328\n",
            "[352]\ttest-logloss:0.06319\n",
            "[353]\ttest-logloss:0.06317\n",
            "[354]\ttest-logloss:0.06308\n",
            "[355]\ttest-logloss:0.06298\n",
            "[356]\ttest-logloss:0.06289\n",
            "[357]\ttest-logloss:0.06283\n",
            "[358]\ttest-logloss:0.06276\n",
            "[359]\ttest-logloss:0.06274\n",
            "[360]\ttest-logloss:0.06270\n",
            "[361]\ttest-logloss:0.06269\n",
            "[362]\ttest-logloss:0.06268\n",
            "[363]\ttest-logloss:0.06266\n",
            "[364]\ttest-logloss:0.06265\n",
            "[365]\ttest-logloss:0.06260\n",
            "[366]\ttest-logloss:0.06251\n",
            "[367]\ttest-logloss:0.06249\n",
            "[368]\ttest-logloss:0.06237\n",
            "[369]\ttest-logloss:0.06230\n",
            "[370]\ttest-logloss:0.06225\n",
            "[371]\ttest-logloss:0.06213\n",
            "[372]\ttest-logloss:0.06199\n",
            "[373]\ttest-logloss:0.06193\n",
            "[374]\ttest-logloss:0.06183\n",
            "[375]\ttest-logloss:0.06175\n",
            "[376]\ttest-logloss:0.06168\n",
            "[377]\ttest-logloss:0.06164\n",
            "[378]\ttest-logloss:0.06149\n",
            "[379]\ttest-logloss:0.06147\n",
            "[380]\ttest-logloss:0.06143\n",
            "[381]\ttest-logloss:0.06132\n",
            "[382]\ttest-logloss:0.06126\n",
            "[383]\ttest-logloss:0.06122\n",
            "[384]\ttest-logloss:0.06116\n",
            "[385]\ttest-logloss:0.06109\n",
            "[386]\ttest-logloss:0.06105\n",
            "[387]\ttest-logloss:0.06104\n",
            "[388]\ttest-logloss:0.06101\n",
            "[389]\ttest-logloss:0.06101\n",
            "[390]\ttest-logloss:0.06102\n",
            "[391]\ttest-logloss:0.06101\n",
            "[392]\ttest-logloss:0.06101\n",
            "[393]\ttest-logloss:0.06096\n",
            "[394]\ttest-logloss:0.06096\n",
            "[395]\ttest-logloss:0.06095\n",
            "[396]\ttest-logloss:0.06085\n",
            "[397]\ttest-logloss:0.06081\n",
            "[398]\ttest-logloss:0.06073\n",
            "[399]\ttest-logloss:0.06065\n",
            "[400]\ttest-logloss:0.06061\n",
            "[401]\ttest-logloss:0.06055\n",
            "[402]\ttest-logloss:0.06054\n",
            "[403]\ttest-logloss:0.06051\n",
            "[404]\ttest-logloss:0.06028\n",
            "[405]\ttest-logloss:0.06021\n",
            "[406]\ttest-logloss:0.06011\n",
            "[407]\ttest-logloss:0.06000\n",
            "[408]\ttest-logloss:0.05997\n",
            "[409]\ttest-logloss:0.05993\n",
            "[410]\ttest-logloss:0.05987\n",
            "[411]\ttest-logloss:0.05983\n",
            "[412]\ttest-logloss:0.05971\n",
            "[413]\ttest-logloss:0.05968\n",
            "[414]\ttest-logloss:0.05962\n",
            "[415]\ttest-logloss:0.05958\n",
            "[416]\ttest-logloss:0.05954\n",
            "[417]\ttest-logloss:0.05948\n",
            "[418]\ttest-logloss:0.05942\n",
            "[419]\ttest-logloss:0.05939\n",
            "[420]\ttest-logloss:0.05935\n",
            "[421]\ttest-logloss:0.05932\n",
            "[422]\ttest-logloss:0.05931\n",
            "[423]\ttest-logloss:0.05928\n",
            "[424]\ttest-logloss:0.05924\n",
            "[425]\ttest-logloss:0.05919\n",
            "[426]\ttest-logloss:0.05914\n",
            "[427]\ttest-logloss:0.05913\n",
            "[428]\ttest-logloss:0.05913\n",
            "[429]\ttest-logloss:0.05912\n",
            "[430]\ttest-logloss:0.05907\n",
            "[431]\ttest-logloss:0.05907\n",
            "[432]\ttest-logloss:0.05906\n",
            "[433]\ttest-logloss:0.05905\n",
            "[434]\ttest-logloss:0.05902\n",
            "[435]\ttest-logloss:0.05902\n",
            "[436]\ttest-logloss:0.05899\n",
            "[437]\ttest-logloss:0.05886\n",
            "[438]\ttest-logloss:0.05881\n",
            "[439]\ttest-logloss:0.05874\n",
            "[440]\ttest-logloss:0.05872\n",
            "[441]\ttest-logloss:0.05873\n",
            "[442]\ttest-logloss:0.05867\n",
            "[443]\ttest-logloss:0.05861\n",
            "[444]\ttest-logloss:0.05860\n",
            "[445]\ttest-logloss:0.05857\n",
            "[446]\ttest-logloss:0.05856\n",
            "[447]\ttest-logloss:0.05855\n",
            "[448]\ttest-logloss:0.05855\n",
            "[449]\ttest-logloss:0.05851\n",
            "[450]\ttest-logloss:0.05850\n",
            "[451]\ttest-logloss:0.05849\n",
            "[452]\ttest-logloss:0.05847\n",
            "[453]\ttest-logloss:0.05836\n",
            "[454]\ttest-logloss:0.05836\n",
            "[455]\ttest-logloss:0.05835\n",
            "[456]\ttest-logloss:0.05825\n",
            "[457]\ttest-logloss:0.05819\n",
            "[458]\ttest-logloss:0.05813\n",
            "[459]\ttest-logloss:0.05810\n",
            "[460]\ttest-logloss:0.05808\n",
            "[461]\ttest-logloss:0.05804\n",
            "[462]\ttest-logloss:0.05801\n",
            "[463]\ttest-logloss:0.05799\n",
            "[464]\ttest-logloss:0.05797\n",
            "[465]\ttest-logloss:0.05787\n",
            "[466]\ttest-logloss:0.05779\n",
            "[467]\ttest-logloss:0.05776\n",
            "[468]\ttest-logloss:0.05773\n",
            "[469]\ttest-logloss:0.05767\n",
            "[470]\ttest-logloss:0.05766\n",
            "[471]\ttest-logloss:0.05762\n",
            "[472]\ttest-logloss:0.05758\n",
            "[473]\ttest-logloss:0.05751\n",
            "[474]\ttest-logloss:0.05745\n",
            "[475]\ttest-logloss:0.05744\n",
            "[476]\ttest-logloss:0.05741\n",
            "[477]\ttest-logloss:0.05735\n",
            "[478]\ttest-logloss:0.05732\n",
            "[479]\ttest-logloss:0.05732\n",
            "[480]\ttest-logloss:0.05732\n",
            "[481]\ttest-logloss:0.05727\n",
            "[482]\ttest-logloss:0.05719\n",
            "[483]\ttest-logloss:0.05712\n",
            "[484]\ttest-logloss:0.05706\n",
            "[485]\ttest-logloss:0.05706\n",
            "[486]\ttest-logloss:0.05707\n",
            "[487]\ttest-logloss:0.05703\n",
            "[488]\ttest-logloss:0.05700\n",
            "[489]\ttest-logloss:0.05699\n",
            "[490]\ttest-logloss:0.05698\n",
            "[491]\ttest-logloss:0.05698\n",
            "[492]\ttest-logloss:0.05689\n",
            "[493]\ttest-logloss:0.05681\n",
            "[494]\ttest-logloss:0.05676\n",
            "[495]\ttest-logloss:0.05671\n",
            "[496]\ttest-logloss:0.05666\n",
            "[497]\ttest-logloss:0.05666\n",
            "[498]\ttest-logloss:0.05662\n",
            "[499]\ttest-logloss:0.05658\n",
            "[500]\ttest-logloss:0.05652\n",
            "[501]\ttest-logloss:0.05644\n",
            "[502]\ttest-logloss:0.05632\n",
            "[503]\ttest-logloss:0.05628\n",
            "[504]\ttest-logloss:0.05623\n",
            "[505]\ttest-logloss:0.05620\n",
            "[506]\ttest-logloss:0.05615\n",
            "[507]\ttest-logloss:0.05611\n",
            "[508]\ttest-logloss:0.05609\n",
            "[509]\ttest-logloss:0.05609\n",
            "[510]\ttest-logloss:0.05605\n",
            "[511]\ttest-logloss:0.05607\n",
            "[512]\ttest-logloss:0.05605\n",
            "[513]\ttest-logloss:0.05599\n",
            "[514]\ttest-logloss:0.05596\n",
            "[515]\ttest-logloss:0.05596\n",
            "[516]\ttest-logloss:0.05592\n",
            "[517]\ttest-logloss:0.05592\n",
            "[518]\ttest-logloss:0.05590\n",
            "[519]\ttest-logloss:0.05584\n",
            "[520]\ttest-logloss:0.05578\n",
            "[521]\ttest-logloss:0.05572\n",
            "[522]\ttest-logloss:0.05569\n",
            "[523]\ttest-logloss:0.05569\n",
            "[524]\ttest-logloss:0.05564\n",
            "[525]\ttest-logloss:0.05564\n",
            "[526]\ttest-logloss:0.05559\n",
            "[527]\ttest-logloss:0.05557\n",
            "[528]\ttest-logloss:0.05549\n",
            "[529]\ttest-logloss:0.05546\n",
            "[530]\ttest-logloss:0.05545\n",
            "[531]\ttest-logloss:0.05538\n",
            "[532]\ttest-logloss:0.05529\n",
            "[533]\ttest-logloss:0.05523\n",
            "[534]\ttest-logloss:0.05519\n",
            "[535]\ttest-logloss:0.05518\n",
            "[536]\ttest-logloss:0.05507\n",
            "[537]\ttest-logloss:0.05505\n",
            "[538]\ttest-logloss:0.05503\n",
            "[539]\ttest-logloss:0.05501\n",
            "[540]\ttest-logloss:0.05499\n",
            "[541]\ttest-logloss:0.05497\n",
            "[542]\ttest-logloss:0.05494\n",
            "[543]\ttest-logloss:0.05492\n",
            "[544]\ttest-logloss:0.05491\n",
            "[545]\ttest-logloss:0.05487\n",
            "[546]\ttest-logloss:0.05485\n",
            "[547]\ttest-logloss:0.05484\n",
            "[548]\ttest-logloss:0.05482\n",
            "[549]\ttest-logloss:0.05480\n",
            "[550]\ttest-logloss:0.05480\n",
            "[551]\ttest-logloss:0.05482\n",
            "[552]\ttest-logloss:0.05482\n",
            "[553]\ttest-logloss:0.05478\n",
            "[554]\ttest-logloss:0.05477\n",
            "[555]\ttest-logloss:0.05476\n",
            "[556]\ttest-logloss:0.05472\n",
            "[557]\ttest-logloss:0.05470\n",
            "[558]\ttest-logloss:0.05469\n",
            "[559]\ttest-logloss:0.05468\n",
            "[560]\ttest-logloss:0.05466\n",
            "[561]\ttest-logloss:0.05459\n",
            "[562]\ttest-logloss:0.05456\n",
            "[563]\ttest-logloss:0.05451\n",
            "[564]\ttest-logloss:0.05448\n",
            "[565]\ttest-logloss:0.05444\n",
            "[566]\ttest-logloss:0.05443\n",
            "[567]\ttest-logloss:0.05442\n",
            "[568]\ttest-logloss:0.05437\n",
            "[569]\ttest-logloss:0.05435\n",
            "[570]\ttest-logloss:0.05431\n",
            "[571]\ttest-logloss:0.05428\n",
            "[572]\ttest-logloss:0.05428\n",
            "[573]\ttest-logloss:0.05427\n",
            "[574]\ttest-logloss:0.05425\n",
            "[575]\ttest-logloss:0.05422\n",
            "[576]\ttest-logloss:0.05421\n",
            "[577]\ttest-logloss:0.05420\n",
            "[578]\ttest-logloss:0.05410\n",
            "[579]\ttest-logloss:0.05408\n",
            "[580]\ttest-logloss:0.05404\n",
            "[581]\ttest-logloss:0.05399\n",
            "[582]\ttest-logloss:0.05396\n",
            "[583]\ttest-logloss:0.05396\n",
            "[584]\ttest-logloss:0.05397\n",
            "[585]\ttest-logloss:0.05390\n",
            "[586]\ttest-logloss:0.05382\n",
            "[587]\ttest-logloss:0.05381\n",
            "[588]\ttest-logloss:0.05379\n",
            "[589]\ttest-logloss:0.05373\n",
            "[590]\ttest-logloss:0.05372\n",
            "[591]\ttest-logloss:0.05372\n",
            "[592]\ttest-logloss:0.05371\n",
            "[593]\ttest-logloss:0.05366\n",
            "[594]\ttest-logloss:0.05364\n",
            "[595]\ttest-logloss:0.05361\n",
            "[596]\ttest-logloss:0.05359\n",
            "[597]\ttest-logloss:0.05358\n",
            "[598]\ttest-logloss:0.05355\n",
            "[599]\ttest-logloss:0.05355\n",
            "[600]\ttest-logloss:0.05354\n",
            "[601]\ttest-logloss:0.05353\n",
            "[602]\ttest-logloss:0.05351\n",
            "[603]\ttest-logloss:0.05351\n",
            "[604]\ttest-logloss:0.05349\n",
            "[605]\ttest-logloss:0.05346\n",
            "[606]\ttest-logloss:0.05344\n",
            "[607]\ttest-logloss:0.05343\n",
            "[608]\ttest-logloss:0.05342\n",
            "[609]\ttest-logloss:0.05343\n",
            "[610]\ttest-logloss:0.05340\n",
            "[611]\ttest-logloss:0.05337\n",
            "[612]\ttest-logloss:0.05334\n",
            "[613]\ttest-logloss:0.05333\n",
            "[614]\ttest-logloss:0.05332\n",
            "[615]\ttest-logloss:0.05331\n",
            "[616]\ttest-logloss:0.05328\n",
            "[617]\ttest-logloss:0.05327\n",
            "[618]\ttest-logloss:0.05326\n",
            "[619]\ttest-logloss:0.05324\n",
            "[620]\ttest-logloss:0.05323\n",
            "[621]\ttest-logloss:0.05320\n",
            "[622]\ttest-logloss:0.05320\n",
            "[623]\ttest-logloss:0.05318\n",
            "[624]\ttest-logloss:0.05317\n",
            "[625]\ttest-logloss:0.05313\n",
            "[626]\ttest-logloss:0.05314\n",
            "[627]\ttest-logloss:0.05313\n",
            "[628]\ttest-logloss:0.05312\n",
            "[629]\ttest-logloss:0.05310\n",
            "[630]\ttest-logloss:0.05309\n",
            "[631]\ttest-logloss:0.05305\n",
            "[632]\ttest-logloss:0.05302\n",
            "[633]\ttest-logloss:0.05300\n",
            "[634]\ttest-logloss:0.05300\n",
            "[635]\ttest-logloss:0.05300\n",
            "[636]\ttest-logloss:0.05299\n",
            "[637]\ttest-logloss:0.05297\n",
            "[638]\ttest-logloss:0.05292\n",
            "[639]\ttest-logloss:0.05292\n",
            "[640]\ttest-logloss:0.05293\n",
            "[641]\ttest-logloss:0.05290\n",
            "[642]\ttest-logloss:0.05292\n",
            "[643]\ttest-logloss:0.05286\n",
            "[644]\ttest-logloss:0.05284\n",
            "[645]\ttest-logloss:0.05282\n",
            "[646]\ttest-logloss:0.05279\n",
            "[647]\ttest-logloss:0.05278\n",
            "[648]\ttest-logloss:0.05279\n",
            "[649]\ttest-logloss:0.05277\n",
            "[650]\ttest-logloss:0.05277\n",
            "[651]\ttest-logloss:0.05277\n",
            "[652]\ttest-logloss:0.05277\n",
            "[653]\ttest-logloss:0.05277\n",
            "[654]\ttest-logloss:0.05277\n",
            "[655]\ttest-logloss:0.05278\n",
            "[656]\ttest-logloss:0.05273\n",
            "[657]\ttest-logloss:0.05266\n",
            "[658]\ttest-logloss:0.05260\n",
            "[659]\ttest-logloss:0.05261\n",
            "[660]\ttest-logloss:0.05261\n",
            "[661]\ttest-logloss:0.05258\n",
            "[662]\ttest-logloss:0.05257\n",
            "[663]\ttest-logloss:0.05259\n",
            "[664]\ttest-logloss:0.05258\n",
            "[665]\ttest-logloss:0.05258\n",
            "[666]\ttest-logloss:0.05256\n",
            "[667]\ttest-logloss:0.05257\n",
            "[668]\ttest-logloss:0.05256\n",
            "[669]\ttest-logloss:0.05248\n",
            "[670]\ttest-logloss:0.05249\n",
            "[671]\ttest-logloss:0.05248\n",
            "[672]\ttest-logloss:0.05243\n",
            "[673]\ttest-logloss:0.05240\n",
            "[674]\ttest-logloss:0.05233\n",
            "[675]\ttest-logloss:0.05230\n",
            "[676]\ttest-logloss:0.05228\n",
            "[677]\ttest-logloss:0.05228\n",
            "[678]\ttest-logloss:0.05228\n",
            "[679]\ttest-logloss:0.05228\n",
            "[680]\ttest-logloss:0.05226\n",
            "[681]\ttest-logloss:0.05227\n",
            "[682]\ttest-logloss:0.05227\n",
            "[683]\ttest-logloss:0.05226\n",
            "[684]\ttest-logloss:0.05222\n",
            "[685]\ttest-logloss:0.05222\n",
            "[686]\ttest-logloss:0.05221\n",
            "[687]\ttest-logloss:0.05222\n",
            "[688]\ttest-logloss:0.05221\n",
            "[689]\ttest-logloss:0.05214\n",
            "[690]\ttest-logloss:0.05213\n",
            "[691]\ttest-logloss:0.05209\n",
            "[692]\ttest-logloss:0.05210\n",
            "[693]\ttest-logloss:0.05210\n",
            "[694]\ttest-logloss:0.05211\n",
            "[695]\ttest-logloss:0.05210\n",
            "[696]\ttest-logloss:0.05208\n",
            "[697]\ttest-logloss:0.05205\n",
            "[698]\ttest-logloss:0.05205\n",
            "[699]\ttest-logloss:0.05204\n",
            "[700]\ttest-logloss:0.05205\n",
            "[701]\ttest-logloss:0.05202\n",
            "[702]\ttest-logloss:0.05204\n",
            "[703]\ttest-logloss:0.05204\n",
            "[704]\ttest-logloss:0.05204\n",
            "[705]\ttest-logloss:0.05199\n",
            "[706]\ttest-logloss:0.05197\n",
            "[707]\ttest-logloss:0.05196\n",
            "[708]\ttest-logloss:0.05196\n",
            "[709]\ttest-logloss:0.05197\n",
            "[710]\ttest-logloss:0.05194\n",
            "[711]\ttest-logloss:0.05191\n",
            "[712]\ttest-logloss:0.05192\n",
            "[713]\ttest-logloss:0.05189\n",
            "[714]\ttest-logloss:0.05188\n",
            "[715]\ttest-logloss:0.05189\n",
            "[716]\ttest-logloss:0.05188\n",
            "[717]\ttest-logloss:0.05188\n",
            "[718]\ttest-logloss:0.05184\n",
            "[719]\ttest-logloss:0.05184\n",
            "[720]\ttest-logloss:0.05178\n",
            "[721]\ttest-logloss:0.05175\n",
            "[722]\ttest-logloss:0.05175\n",
            "[723]\ttest-logloss:0.05172\n",
            "[724]\ttest-logloss:0.05171\n",
            "[725]\ttest-logloss:0.05169\n",
            "[726]\ttest-logloss:0.05169\n",
            "[727]\ttest-logloss:0.05166\n",
            "[728]\ttest-logloss:0.05164\n",
            "[729]\ttest-logloss:0.05164\n",
            "[730]\ttest-logloss:0.05163\n",
            "[731]\ttest-logloss:0.05159\n",
            "[732]\ttest-logloss:0.05158\n",
            "[733]\ttest-logloss:0.05157\n",
            "[734]\ttest-logloss:0.05155\n",
            "[735]\ttest-logloss:0.05156\n",
            "[736]\ttest-logloss:0.05155\n",
            "[737]\ttest-logloss:0.05153\n",
            "[738]\ttest-logloss:0.05150\n",
            "[739]\ttest-logloss:0.05150\n",
            "[740]\ttest-logloss:0.05150\n",
            "[741]\ttest-logloss:0.05149\n",
            "[742]\ttest-logloss:0.05149\n",
            "[743]\ttest-logloss:0.05146\n",
            "[744]\ttest-logloss:0.05146\n",
            "[745]\ttest-logloss:0.05146\n",
            "[746]\ttest-logloss:0.05146\n",
            "[747]\ttest-logloss:0.05145\n",
            "[748]\ttest-logloss:0.05143\n",
            "[749]\ttest-logloss:0.05143\n",
            "[750]\ttest-logloss:0.05142\n",
            "[751]\ttest-logloss:0.05143\n",
            "[752]\ttest-logloss:0.05143\n",
            "[753]\ttest-logloss:0.05141\n",
            "[754]\ttest-logloss:0.05141\n",
            "[755]\ttest-logloss:0.05141\n",
            "[756]\ttest-logloss:0.05140\n",
            "[757]\ttest-logloss:0.05138\n",
            "[758]\ttest-logloss:0.05138\n",
            "[759]\ttest-logloss:0.05138\n",
            "[760]\ttest-logloss:0.05138\n",
            "[761]\ttest-logloss:0.05136\n",
            "[762]\ttest-logloss:0.05134\n",
            "[763]\ttest-logloss:0.05133\n",
            "[764]\ttest-logloss:0.05131\n",
            "[765]\ttest-logloss:0.05131\n",
            "[766]\ttest-logloss:0.05127\n",
            "[767]\ttest-logloss:0.05127\n",
            "[768]\ttest-logloss:0.05125\n",
            "[769]\ttest-logloss:0.05123\n",
            "[770]\ttest-logloss:0.05120\n",
            "[771]\ttest-logloss:0.05120\n",
            "[772]\ttest-logloss:0.05116\n",
            "[773]\ttest-logloss:0.05113\n",
            "[774]\ttest-logloss:0.05112\n",
            "[775]\ttest-logloss:0.05105\n",
            "[776]\ttest-logloss:0.05101\n",
            "[777]\ttest-logloss:0.05098\n",
            "[778]\ttest-logloss:0.05098\n",
            "[779]\ttest-logloss:0.05097\n",
            "[780]\ttest-logloss:0.05093\n",
            "[781]\ttest-logloss:0.05090\n",
            "[782]\ttest-logloss:0.05089\n",
            "[783]\ttest-logloss:0.05089\n",
            "[784]\ttest-logloss:0.05088\n",
            "[785]\ttest-logloss:0.05087\n",
            "[786]\ttest-logloss:0.05086\n",
            "[787]\ttest-logloss:0.05085\n",
            "[788]\ttest-logloss:0.05083\n",
            "[789]\ttest-logloss:0.05086\n",
            "[790]\ttest-logloss:0.05083\n",
            "[791]\ttest-logloss:0.05084\n",
            "[792]\ttest-logloss:0.05083\n",
            "[793]\ttest-logloss:0.05083\n",
            "[794]\ttest-logloss:0.05082\n",
            "[795]\ttest-logloss:0.05080\n",
            "[796]\ttest-logloss:0.05080\n",
            "[797]\ttest-logloss:0.05080\n",
            "[798]\ttest-logloss:0.05078\n",
            "[799]\ttest-logloss:0.05078\n"
          ]
        }
      ],
      "source": [
        "# Convert the data into DMatrix format for XGBoost\n",
        "dtrain = xgb.DMatrix(X_train, label=y_train)\n",
        "dtest = xgb.DMatrix(X_val, label=y_val) # y_test\n",
        "\n",
        "# Set the parameters for the xgboost\n",
        "param = {\n",
        "    'max_depth': 6,  # maximum depth of each tree\n",
        "    'eta': 0.3,  # learning_rate\n",
        "    'objective': 'binary:logistic',  \n",
        "    'num_class': 1 \n",
        "} \n",
        "num_round = 800  # the number of training iterations\n",
        "\n",
        "# Train the model\n",
        "extracted_model = xgb.train(param, dtrain, num_round, early_stopping_rounds=10, evals=[(dtest, 'test')])\n",
        "\n",
        "# Make predictions\n",
        "preds = extracted_model.predict(dtest)"
      ]
    },
    {
      "cell_type": "code",
      "source": [
        "# save model\n",
        "with open(f'{gdrive_figures_folder}/extractedModel.pkl', 'wb') as f:\n",
        "    pickle.dump(model_1, f)"
      ],
      "metadata": {
        "id": "r0bhyN4y8TYp"
      },
      "execution_count": 45,
      "outputs": []
    },
    {
      "cell_type": "code",
      "source": [
        "evaluating_new_data(extracted_model, X_val, y_val)"
      ],
      "metadata": {
        "colab": {
          "base_uri": "https://localhost:8080/",
          "height": 611
        },
        "id": "tbZ_P32jv396",
        "outputId": "86542fe1-c3d3-44f9-c10b-b8747923fcb9"
      },
      "execution_count": 38,
      "outputs": [
        {
          "output_type": "stream",
          "name": "stdout",
          "text": [
            "The threshold that corresponds to FPR=0.001 is 0.980\n"
          ]
        },
        {
          "output_type": "display_data",
          "data": {
            "text/plain": [
              "<Figure size 640x480 with 1 Axes>"
            ],
            "image/png": "[encoded data removed]"
          },
          "metadata": {}
        },
        {
          "output_type": "stream",
          "name": "stdout",
          "text": [
            "Model Results at 0.980::\n",
            "\n",
            "Accuracy: 0.946\n",
            "False Positive Rate (FPR): 0.001\n",
            "True Positive Rate (TPR): 0.892\n",
            "False Negative Rate (FNR): 0.108\n",
            "True Negative Rate (TNR): 0.999\n"
          ]
        }
      ]
    },
    {
      "cell_type": "code",
      "source": [],
      "metadata": {
        "id": "i09fGYezz1_C"
      },
      "execution_count": null,
      "outputs": []
    },
    {
      "cell_type": "code",
      "source": [
        "with open(f'{gdrive_figures_folder}/extractedModel.pkl', 'rb') as f:\n",
        "    extracted_model = pickle.load(f)"
      ],
      "metadata": {
        "id": "KCNLoLlyOWiP"
      },
      "execution_count": 87,
      "outputs": []
    },
    {
      "cell_type": "markdown",
      "source": [
        "Find the model with the best parameters"
      ],
      "metadata": {
        "id": "ityzWUnhJRKq"
      }
    },
    {
      "cell_type": "code",
      "source": [
        "# Instantiate the XGBoost classifier object with GPU support\n",
        "xgb_clf = xgb.XGBClassifier(objective='binary:logistic', num_class=1, tree_method='gpu_hist')\n",
        "\n",
        "# Define the parameter grid\n",
        "param_grid = {\n",
        "    'max_depth': [3, 4, 5, 6, 7],  \n",
        "    'learning_rate': [0.2, 0.3, 0.4],  \n",
        "    'n_estimators': [200, 400, 600, 800, 1000]\n",
        "}\n",
        "\n",
        "# Create a GridSearchCV object with roc_auc as the scoring metric\n",
        "grid_search = GridSearchCV(estimator=xgb_clf, param_grid=param_grid, cv=5, scoring='roc_auc', n_jobs=-1)\n",
        "\n",
        "# Fit the GridSearchCV object to the data\n",
        "grid_search.fit(X_train, y_train)\n"
      ],
      "metadata": {
        "colab": {
          "base_uri": "https://localhost:8080/",
          "height": 767
        },
        "id": "-sFpWHurQcoI",
        "outputId": "c6b63c68-6d51-4ccc-e9cb-fc11ae96b43a"
      },
      "execution_count": null,
      "outputs": [
        {
          "output_type": "stream",
          "name": "stderr",
          "text": [
            "/usr/local/lib/python3.10/dist-packages/joblib/externals/loky/process_executor.py:700: UserWarning: A worker stopped while some jobs were given to the executor. This can be caused by a too short worker timeout or by a memory leak.\n",
            "  warnings.warn(\n"
          ]
        },
        {
          "output_type": "execute_result",
          "data": {
            "text/plain": [
              "GridSearchCV(cv=5,\n",
              "             estimator=XGBClassifier(base_score=None, booster=None,\n",
              "                                     callbacks=None, colsample_bylevel=None,\n",
              "                                     colsample_bynode=None,\n",
              "                                     colsample_bytree=None,\n",
              "                                     early_stopping_rounds=None,\n",
              "                                     enable_categorical=False, eval_metric=None,\n",
              "                                     feature_types=None, gamma=None,\n",
              "                                     gpu_id=None, grow_policy=None,\n",
              "                                     importance_type=None,\n",
              "                                     interaction_constraints=None,\n",
              "                                     learning_rate=None,...\n",
              "                                     max_cat_to_onehot=None,\n",
              "                                     max_delta_step=None, max_depth=None,\n",
              "                                     max_leaves=None, min_child_weight=None,\n",
              "                                     missing=nan, monotone_constraints=None,\n",
              "                                     n_estimators=100, n_jobs=None, num_class=1,\n",
              "                                     num_parallel_tree=None, predictor=None, ...),\n",
              "             n_jobs=-1,\n",
              "             param_grid={'learning_rate': [0.2, 0.3, 0.4],\n",
              "                         'max_depth': [3, 4, 5, 6, 7],\n",
              "                         'n_estimators': [200, 400, 600, 800, 1000]},\n",
              "             scoring='roc_auc')"
            ],
            "text/html": [
              "<style>#sk-container-id-1 {color: black;background-color: white;}#sk-container-id-1 pre{padding: 0;}#sk-container-id-1 div.sk-toggleable {background-color: white;}#sk-container-id-1 label.sk-toggleable__label {cursor: pointer;display: block;width: 100%;margin-bottom: 0;padding: 0.3em;box-sizing: border-box;text-align: center;}#sk-container-id-1 label.sk-toggleable__label-arrow:before {content: \"▸\";float: left;margin-right: 0.25em;color: #696969;}#sk-container-id-1 label.sk-toggleable__label-arrow:hover:before {color: black;}#sk-container-id-1 div.sk-estimator:hover label.sk-toggleable__label-arrow:before {color: black;}#sk-container-id-1 div.sk-toggleable__content {max-height: 0;max-width: 0;overflow: hidden;text-align: left;background-color: #f0f8ff;}#sk-container-id-1 div.sk-toggleable__content pre {margin: 0.2em;color: black;border-radius: 0.25em;background-color: #f0f8ff;}#sk-container-id-1 input.sk-toggleable__control:checked~div.sk-toggleable__content {max-height: 200px;max-width: 100%;overflow: auto;}#sk-container-id-1 input.sk-toggleable__control:checked~label.sk-toggleable__label-arrow:before {content: \"▾\";}#sk-container-id-1 div.sk-estimator input.sk-toggleable__control:checked~label.sk-toggleable__label {background-color: #d4ebff;}#sk-container-id-1 div.sk-label input.sk-toggleable__control:checked~label.sk-toggleable__label {background-color: #d4ebff;}#sk-container-id-1 input.sk-hidden--visually {border: 0;clip: rect(1px 1px 1px 1px);clip: rect(1px, 1px, 1px, 1px);height: 1px;margin: -1px;overflow: hidden;padding: 0;position: absolute;width: 1px;}#sk-container-id-1 div.sk-estimator {font-family: monospace;background-color: #f0f8ff;border: 1px dotted black;border-radius: 0.25em;box-sizing: border-box;margin-bottom: 0.5em;}#sk-container-id-1 div.sk-estimator:hover {background-color: #d4ebff;}#sk-container-id-1 div.sk-parallel-item::after {content: \"\";width: 100%;border-bottom: 1px solid gray;flex-grow: 1;}#sk-container-id-1 div.sk-label:hover label.sk-toggleable__label {background-color: #d4ebff;}#sk-container-id-1 div.sk-serial::before {content: \"\";position: absolute;border-left: 1px solid gray;box-sizing: border-box;top: 0;bottom: 0;left: 50%;z-index: 0;}#sk-container-id-1 div.sk-serial {display: flex;flex-direction: column;align-items: center;background-color: white;padding-right: 0.2em;padding-left: 0.2em;position: relative;}#sk-container-id-1 div.sk-item {position: relative;z-index: 1;}#sk-container-id-1 div.sk-parallel {display: flex;align-items: stretch;justify-content: center;background-color: white;position: relative;}#sk-container-id-1 div.sk-item::before, #sk-container-id-1 div.sk-parallel-item::before {content: \"\";position: absolute;border-left: 1px solid gray;box-sizing: border-box;top: 0;bottom: 0;left: 50%;z-index: -1;}#sk-container-id-1 div.sk-parallel-item {display: flex;flex-direction: column;z-index: 1;position: relative;background-color: white;}#sk-container-id-1 div.sk-parallel-item:first-child::after {align-self: flex-end;width: 50%;}#sk-container-id-1 div.sk-parallel-item:last-child::after {align-self: flex-start;width: 50%;}#sk-container-id-1 div.sk-parallel-item:only-child::after {width: 0;}#sk-container-id-1 div.sk-dashed-wrapped {border: 1px dashed gray;margin: 0 0.4em 0.5em 0.4em;box-sizing: border-box;padding-bottom: 0.4em;background-color: white;}#sk-container-id-1 div.sk-label label {font-family: monospace;font-weight: bold;display: inline-block;line-height: 1.2em;}#sk-container-id-1 div.sk-label-container {text-align: center;}#sk-container-id-1 div.sk-container {/* jupyter's `normalize.less` sets `[hidden] { display: none; }` but bootstrap.min.css set `[hidden] { display: none !important; }` so we also need the `!important` here to be able to override the default hidden behavior on the sphinx rendered scikit-learn.org. See: https://github.com/scikit-learn/scikit-learn/issues/21755 */display: inline-block !important;position: relative;}#sk-container-id-1 div.sk-text-repr-fallback {display: none;}</style><div id=\"sk-container-id-1\" class=\"sk-top-container\"><div class=\"sk-text-repr-fallback\"><pre>GridSearchCV(cv=5,\n",
              "             estimator=XGBClassifier(base_score=None, booster=None,\n",
              "                                     callbacks=None, colsample_bylevel=None,\n",
              "                                     colsample_bynode=None,\n",
              "                                     colsample_bytree=None,\n",
              "                                     early_stopping_rounds=None,\n",
              "                                     enable_categorical=False, eval_metric=None,\n",
              "                                     feature_types=None, gamma=None,\n",
              "                                     gpu_id=None, grow_policy=None,\n",
              "                                     importance_type=None,\n",
              "                                     interaction_constraints=None,\n",
              "                                     learning_rate=None,...\n",
              "                                     max_cat_to_onehot=None,\n",
              "                                     max_delta_step=None, max_depth=None,\n",
              "                                     max_leaves=None, min_child_weight=None,\n",
              "                                     missing=nan, monotone_constraints=None,\n",
              "                                     n_estimators=100, n_jobs=None, num_class=1,\n",
              "                                     num_parallel_tree=None, predictor=None, ...),\n",
              "             n_jobs=-1,\n",
              "             param_grid={&#x27;learning_rate&#x27;: [0.2, 0.3, 0.4],\n",
              "                         &#x27;max_depth&#x27;: [3, 4, 5, 6, 7],\n",
              "                         &#x27;n_estimators&#x27;: [200, 400, 600, 800, 1000]},\n",
              "             scoring=&#x27;roc_auc&#x27;)</pre><b>In a Jupyter environment, please rerun this cell to show the HTML representation or trust the notebook. <br />On GitHub, the HTML representation is unable to render, please try loading this page with nbviewer.org.</b></div><div class=\"sk-container\" hidden><div class=\"sk-item sk-dashed-wrapped\"><div class=\"sk-label-container\"><div class=\"sk-label sk-toggleable\"><input class=\"sk-toggleable__control sk-hidden--visually\" id=\"sk-estimator-id-1\" type=\"checkbox\" ><label for=\"sk-estimator-id-1\" class=\"sk-toggleable__label sk-toggleable__label-arrow\">GridSearchCV</label><div class=\"sk-toggleable__content\"><pre>GridSearchCV(cv=5,\n",
              "             estimator=XGBClassifier(base_score=None, booster=None,\n",
              "                                     callbacks=None, colsample_bylevel=None,\n",
              "                                     colsample_bynode=None,\n",
              "                                     colsample_bytree=None,\n",
              "                                     early_stopping_rounds=None,\n",
              "                                     enable_categorical=False, eval_metric=None,\n",
              "                                     feature_types=None, gamma=None,\n",
              "                                     gpu_id=None, grow_policy=None,\n",
              "                                     importance_type=None,\n",
              "                                     interaction_constraints=None,\n",
              "                                     learning_rate=None,...\n",
              "                                     max_cat_to_onehot=None,\n",
              "                                     max_delta_step=None, max_depth=None,\n",
              "                                     max_leaves=None, min_child_weight=None,\n",
              "                                     missing=nan, monotone_constraints=None,\n",
              "                                     n_estimators=100, n_jobs=None, num_class=1,\n",
              "                                     num_parallel_tree=None, predictor=None, ...),\n",
              "             n_jobs=-1,\n",
              "             param_grid={&#x27;learning_rate&#x27;: [0.2, 0.3, 0.4],\n",
              "                         &#x27;max_depth&#x27;: [3, 4, 5, 6, 7],\n",
              "                         &#x27;n_estimators&#x27;: [200, 400, 600, 800, 1000]},\n",
              "             scoring=&#x27;roc_auc&#x27;)</pre></div></div></div><div class=\"sk-parallel\"><div class=\"sk-parallel-item\"><div class=\"sk-item\"><div class=\"sk-label-container\"><div class=\"sk-label sk-toggleable\"><input class=\"sk-toggleable__control sk-hidden--visually\" id=\"sk-estimator-id-2\" type=\"checkbox\" ><label for=\"sk-estimator-id-2\" class=\"sk-toggleable__label sk-toggleable__label-arrow\">estimator: XGBClassifier</label><div class=\"sk-toggleable__content\"><pre>XGBClassifier(base_score=None, booster=None, callbacks=None,\n",
              "              colsample_bylevel=None, colsample_bynode=None,\n",
              "              colsample_bytree=None, early_stopping_rounds=None,\n",
              "              enable_categorical=False, eval_metric=None, feature_types=None,\n",
              "              gamma=None, gpu_id=None, grow_policy=None, importance_type=None,\n",
              "              interaction_constraints=None, learning_rate=None, max_bin=None,\n",
              "              max_cat_threshold=None, max_cat_to_onehot=None,\n",
              "              max_delta_step=None, max_depth=None, max_leaves=None,\n",
              "              min_child_weight=None, missing=nan, monotone_constraints=None,\n",
              "              n_estimators=100, n_jobs=None, num_class=1,\n",
              "              num_parallel_tree=None, predictor=None, ...)</pre></div></div></div><div class=\"sk-serial\"><div class=\"sk-item\"><div class=\"sk-estimator sk-toggleable\"><input class=\"sk-toggleable__control sk-hidden--visually\" id=\"sk-estimator-id-3\" type=\"checkbox\" ><label for=\"sk-estimator-id-3\" class=\"sk-toggleable__label sk-toggleable__label-arrow\">XGBClassifier</label><div class=\"sk-toggleable__content\"><pre>XGBClassifier(base_score=None, booster=None, callbacks=None,\n",
              "              colsample_bylevel=None, colsample_bynode=None,\n",
              "              colsample_bytree=None, early_stopping_rounds=None,\n",
              "              enable_categorical=False, eval_metric=None, feature_types=None,\n",
              "              gamma=None, gpu_id=None, grow_policy=None, importance_type=None,\n",
              "              interaction_constraints=None, learning_rate=None, max_bin=None,\n",
              "              max_cat_threshold=None, max_cat_to_onehot=None,\n",
              "              max_delta_step=None, max_depth=None, max_leaves=None,\n",
              "              min_child_weight=None, missing=nan, monotone_constraints=None,\n",
              "              n_estimators=100, n_jobs=None, num_class=1,\n",
              "              num_parallel_tree=None, predictor=None, ...)</pre></div></div></div></div></div></div></div></div></div></div>"
            ]
          },
          "metadata": {},
          "execution_count": 8
        }
      ]
    },
    {
      "cell_type": "code",
      "source": [
        "# Get the best model\n",
        "best_model = grid_search.best_estimator_\n",
        "\n",
        "# Predict using the best model and the test dataset\n",
        "y_pred = best_model.predict(X_test)\n"
      ],
      "metadata": {
        "id": "p_WMVthFTegX"
      },
      "execution_count": null,
      "outputs": []
    },
    {
      "cell_type": "code",
      "source": [
        "y_pred_50 = classify_by_threshold(y_pred, 0.5)\n",
        "print_result(y_true=y_test, y_pred=y_pred_50, title='50% threshold results')\n",
        "\n",
        "y_pred_85 = classify_by_threshold(y_pred, 0.85) \n",
        "print_result(y_true=y_test, y_pred=y_pred_85, title='85% threshold results')"
      ],
      "metadata": {
        "colab": {
          "base_uri": "https://localhost:8080/"
        },
        "id": "gvoEv6COJc1v",
        "outputId": "524536d5-d08e-4115-ca6b-9cd9b33dc857"
      },
      "execution_count": null,
      "outputs": [
        {
          "output_type": "stream",
          "name": "stdout",
          "text": [
            "50% threshold results:\n",
            "\n",
            "Accuracy:  0.9842\n",
            "False Positive Rate (FPR):  0.014283568889852993\n",
            "True Positive Rate (TPR):  0.9826871535349836\n",
            "85% threshold results:\n",
            "\n",
            "Accuracy:  0.9842\n",
            "False Positive Rate (FPR):  0.014283568889852993\n",
            "True Positive Rate (TPR):  0.9826871535349836\n"
          ]
        }
      ]
    },
    {
      "cell_type": "markdown",
      "source": [
        "## **Model 2**"
      ],
      "metadata": {
        "id": "qtBrDeR3_q7g"
      }
    },
    {
      "cell_type": "code",
      "source": [
        "X_train, y_train = remove_unlabled_samples(X_train, y_train)"
      ],
      "metadata": {
        "id": "iViYYMV3cmRc"
      },
      "execution_count": 15,
      "outputs": []
    },
    {
      "cell_type": "code",
      "source": [
        "# Split the training set to train and validation set\n",
        "X_train, X_val, y_train, y_val = train_test_split(X_train, y_train, test_size=0.20, random_state=42)\n",
        "print(f'X_train: {X_train.shape}')\n",
        "print(f'X_val: {X_val.shape}')"
      ],
      "metadata": {
        "colab": {
          "base_uri": "https://localhost:8080/"
        },
        "id": "BoKE1Rq7cwn3",
        "outputId": "ca229c13-b2b7-457a-aa9a-2be3d109416c"
      },
      "execution_count": 16,
      "outputs": [
        {
          "output_type": "stream",
          "name": "stdout",
          "text": [
            "X_train: (480000, 2381)\n",
            "X_val: (120000, 2381)\n"
          ]
        }
      ]
    },
    {
      "cell_type": "code",
      "source": [
        "n_components = 700\n",
        "X_train_norm = StandardScaler().fit_transform(X_train)\n",
        "# Save 'X_pca', the reduced-dimension representation of the input data.\n",
        "pca = PCA(n_components=n_components, random_state=42)\n",
        "X_train_pca = pca.fit_transform(X_train_norm)"
      ],
      "metadata": {
        "id": "EuwvcTPwIK8N"
      },
      "execution_count": 17,
      "outputs": []
    },
    {
      "cell_type": "code",
      "source": [
        "X_val_norm = StandardScaler().fit_transform(X_val)\n",
        "# Apply PCA transformation on the test data\n",
        "X_val_pca = pca.transform(X_val_norm)"
      ],
      "metadata": {
        "id": "6oET335yAoQu"
      },
      "execution_count": 18,
      "outputs": []
    },
    {
      "cell_type": "code",
      "source": [
        "# Convert the data into DMatrix format for XGBoost\n",
        "dtrain = xgb.DMatrix(X_train_pca, label=y_train)\n",
        "dtest = xgb.DMatrix(X_val_pca, label=y_val) # y_test\n",
        "\n",
        "# Set the parameters for the xgboost\n",
        "param = {\n",
        "    'max_depth': 6,  # maximum depth of each tree - try increasing this to 6 or 7\n",
        "    'eta': 0.3,  # the training step for each iteration (alias: learning_rate)\n",
        "    'objective': 'binary:logistic',  # error evaluation for multiclass training \n",
        "    'num_class': 1  # the number of classes that exist in this datset\n",
        "} \n",
        "num_round = 800  # the number of training iterations\n",
        "\n",
        "# Train the model\n",
        "model_2 = xgb.train(param, dtrain, num_round, early_stopping_rounds=10, evals=[(dtest, 'test')])\n",
        "\n",
        "# Make predictions\n",
        "preds = model_2.predict(dtest)"
      ],
      "metadata": {
        "colab": {
          "base_uri": "https://localhost:8080/"
        },
        "id": "YVMISwow_t_V",
        "outputId": "a09e0a51-f138-49d3-dc70-ae1995d63398"
      },
      "execution_count": 19,
      "outputs": [
        {
          "output_type": "stream",
          "name": "stdout",
          "text": [
            "[0]\ttest-logloss:0.57718\n",
            "[1]\ttest-logloss:0.50371\n",
            "[2]\ttest-logloss:0.45232\n",
            "[3]\ttest-logloss:0.42523\n",
            "[4]\ttest-logloss:0.41060\n",
            "[5]\ttest-logloss:0.38712\n",
            "[6]\ttest-logloss:0.36653\n",
            "[7]\ttest-logloss:0.35380\n",
            "[8]\ttest-logloss:0.34196\n",
            "[9]\ttest-logloss:0.33812\n",
            "[10]\ttest-logloss:0.32836\n",
            "[11]\ttest-logloss:0.31681\n",
            "[12]\ttest-logloss:0.30753\n",
            "[13]\ttest-logloss:0.30032\n",
            "[14]\ttest-logloss:0.29876\n",
            "[15]\ttest-logloss:0.29327\n",
            "[16]\ttest-logloss:0.28581\n",
            "[17]\ttest-logloss:0.28145\n",
            "[18]\ttest-logloss:0.27781\n",
            "[19]\ttest-logloss:0.27386\n",
            "[20]\ttest-logloss:0.27348\n",
            "[21]\ttest-logloss:0.26880\n",
            "[22]\ttest-logloss:0.26387\n",
            "[23]\ttest-logloss:0.25925\n",
            "[24]\ttest-logloss:0.25717\n",
            "[25]\ttest-logloss:0.25255\n",
            "[26]\ttest-logloss:0.25003\n",
            "[27]\ttest-logloss:0.24658\n",
            "[28]\ttest-logloss:0.24357\n",
            "[29]\ttest-logloss:0.24125\n",
            "[30]\ttest-logloss:0.24073\n",
            "[31]\ttest-logloss:0.23829\n",
            "[32]\ttest-logloss:0.23562\n",
            "[33]\ttest-logloss:0.23389\n",
            "[34]\ttest-logloss:0.23170\n",
            "[35]\ttest-logloss:0.22981\n",
            "[36]\ttest-logloss:0.22810\n",
            "[37]\ttest-logloss:0.22631\n",
            "[38]\ttest-logloss:0.22440\n",
            "[39]\ttest-logloss:0.22318\n",
            "[40]\ttest-logloss:0.22140\n",
            "[41]\ttest-logloss:0.22177\n",
            "[42]\ttest-logloss:0.22015\n",
            "[43]\ttest-logloss:0.21890\n",
            "[44]\ttest-logloss:0.21751\n",
            "[45]\ttest-logloss:0.21666\n",
            "[46]\ttest-logloss:0.21526\n",
            "[47]\ttest-logloss:0.21336\n",
            "[48]\ttest-logloss:0.21248\n",
            "[49]\ttest-logloss:0.21166\n",
            "[50]\ttest-logloss:0.21054\n",
            "[51]\ttest-logloss:0.20983\n",
            "[52]\ttest-logloss:0.20962\n",
            "[53]\ttest-logloss:0.20857\n",
            "[54]\ttest-logloss:0.20793\n",
            "[55]\ttest-logloss:0.20683\n",
            "[56]\ttest-logloss:0.20603\n",
            "[57]\ttest-logloss:0.20525\n",
            "[58]\ttest-logloss:0.20499\n",
            "[59]\ttest-logloss:0.20411\n",
            "[60]\ttest-logloss:0.20326\n",
            "[61]\ttest-logloss:0.20227\n",
            "[62]\ttest-logloss:0.20219\n",
            "[63]\ttest-logloss:0.20022\n",
            "[64]\ttest-logloss:0.19933\n",
            "[65]\ttest-logloss:0.19888\n",
            "[66]\ttest-logloss:0.19740\n",
            "[67]\ttest-logloss:0.19710\n",
            "[68]\ttest-logloss:0.19690\n",
            "[69]\ttest-logloss:0.19633\n",
            "[70]\ttest-logloss:0.19548\n",
            "[71]\ttest-logloss:0.19453\n",
            "[72]\ttest-logloss:0.19355\n",
            "[73]\ttest-logloss:0.19247\n",
            "[74]\ttest-logloss:0.19167\n",
            "[75]\ttest-logloss:0.19084\n",
            "[76]\ttest-logloss:0.19057\n",
            "[77]\ttest-logloss:0.19012\n",
            "[78]\ttest-logloss:0.18914\n",
            "[79]\ttest-logloss:0.18804\n",
            "[80]\ttest-logloss:0.18717\n",
            "[81]\ttest-logloss:0.18637\n",
            "[82]\ttest-logloss:0.18610\n",
            "[83]\ttest-logloss:0.18552\n",
            "[84]\ttest-logloss:0.18457\n",
            "[85]\ttest-logloss:0.18367\n",
            "[86]\ttest-logloss:0.18361\n",
            "[87]\ttest-logloss:0.18332\n",
            "[88]\ttest-logloss:0.18273\n",
            "[89]\ttest-logloss:0.18202\n",
            "[90]\ttest-logloss:0.18154\n",
            "[91]\ttest-logloss:0.18091\n",
            "[92]\ttest-logloss:0.18051\n",
            "[93]\ttest-logloss:0.18042\n",
            "[94]\ttest-logloss:0.17981\n",
            "[95]\ttest-logloss:0.17899\n",
            "[96]\ttest-logloss:0.17832\n",
            "[97]\ttest-logloss:0.17777\n",
            "[98]\ttest-logloss:0.17736\n",
            "[99]\ttest-logloss:0.17711\n",
            "[100]\ttest-logloss:0.17675\n",
            "[101]\ttest-logloss:0.17596\n",
            "[102]\ttest-logloss:0.17574\n",
            "[103]\ttest-logloss:0.17575\n",
            "[104]\ttest-logloss:0.17534\n",
            "[105]\ttest-logloss:0.17507\n",
            "[106]\ttest-logloss:0.17492\n",
            "[107]\ttest-logloss:0.17411\n",
            "[108]\ttest-logloss:0.17390\n",
            "[109]\ttest-logloss:0.17524\n",
            "[110]\ttest-logloss:0.17469\n",
            "[111]\ttest-logloss:0.17467\n",
            "[112]\ttest-logloss:0.17409\n",
            "[113]\ttest-logloss:0.17401\n",
            "[114]\ttest-logloss:0.17376\n",
            "[115]\ttest-logloss:0.17348\n",
            "[116]\ttest-logloss:0.17334\n",
            "[117]\ttest-logloss:0.17308\n",
            "[118]\ttest-logloss:0.17271\n",
            "[119]\ttest-logloss:0.17239\n",
            "[120]\ttest-logloss:0.17220\n",
            "[121]\ttest-logloss:0.17189\n",
            "[122]\ttest-logloss:0.17158\n",
            "[123]\ttest-logloss:0.17158\n",
            "[124]\ttest-logloss:0.17174\n",
            "[125]\ttest-logloss:0.17165\n",
            "[126]\ttest-logloss:0.17134\n",
            "[127]\ttest-logloss:0.17116\n",
            "[128]\ttest-logloss:0.17107\n",
            "[129]\ttest-logloss:0.17060\n",
            "[130]\ttest-logloss:0.17053\n",
            "[131]\ttest-logloss:0.17038\n",
            "[132]\ttest-logloss:0.17016\n",
            "[133]\ttest-logloss:0.17019\n",
            "[134]\ttest-logloss:0.16994\n",
            "[135]\ttest-logloss:0.16912\n",
            "[136]\ttest-logloss:0.16902\n",
            "[137]\ttest-logloss:0.16868\n",
            "[138]\ttest-logloss:0.16797\n",
            "[139]\ttest-logloss:0.16780\n",
            "[140]\ttest-logloss:0.16741\n",
            "[141]\ttest-logloss:0.16729\n",
            "[142]\ttest-logloss:0.16713\n",
            "[143]\ttest-logloss:0.16667\n",
            "[144]\ttest-logloss:0.16659\n",
            "[145]\ttest-logloss:0.16678\n",
            "[146]\ttest-logloss:0.16672\n",
            "[147]\ttest-logloss:0.16652\n",
            "[148]\ttest-logloss:0.16634\n",
            "[149]\ttest-logloss:0.16586\n",
            "[150]\ttest-logloss:0.16580\n",
            "[151]\ttest-logloss:0.16541\n",
            "[152]\ttest-logloss:0.16491\n",
            "[153]\ttest-logloss:0.16496\n",
            "[154]\ttest-logloss:0.16483\n",
            "[155]\ttest-logloss:0.16455\n",
            "[156]\ttest-logloss:0.16437\n",
            "[157]\ttest-logloss:0.16384\n",
            "[158]\ttest-logloss:0.16356\n",
            "[159]\ttest-logloss:0.16317\n",
            "[160]\ttest-logloss:0.16339\n",
            "[161]\ttest-logloss:0.16342\n",
            "[162]\ttest-logloss:0.16342\n",
            "[163]\ttest-logloss:0.16347\n",
            "[164]\ttest-logloss:0.16318\n",
            "[165]\ttest-logloss:0.16401\n",
            "[166]\ttest-logloss:0.16387\n",
            "[167]\ttest-logloss:0.16381\n",
            "[168]\ttest-logloss:0.16372\n",
            "[169]\ttest-logloss:0.16310\n",
            "[170]\ttest-logloss:0.16329\n",
            "[171]\ttest-logloss:0.16312\n",
            "[172]\ttest-logloss:0.16281\n",
            "[173]\ttest-logloss:0.16236\n",
            "[174]\ttest-logloss:0.16237\n",
            "[175]\ttest-logloss:0.16211\n",
            "[176]\ttest-logloss:0.16201\n",
            "[177]\ttest-logloss:0.16173\n",
            "[178]\ttest-logloss:0.16206\n",
            "[179]\ttest-logloss:0.16167\n",
            "[180]\ttest-logloss:0.16119\n",
            "[181]\ttest-logloss:0.16119\n",
            "[182]\ttest-logloss:0.16081\n",
            "[183]\ttest-logloss:0.16065\n",
            "[184]\ttest-logloss:0.16034\n",
            "[185]\ttest-logloss:0.16017\n",
            "[186]\ttest-logloss:0.16002\n",
            "[187]\ttest-logloss:0.15982\n",
            "[188]\ttest-logloss:0.15966\n",
            "[189]\ttest-logloss:0.15971\n",
            "[190]\ttest-logloss:0.15948\n",
            "[191]\ttest-logloss:0.15943\n",
            "[192]\ttest-logloss:0.15944\n",
            "[193]\ttest-logloss:0.15897\n",
            "[194]\ttest-logloss:0.15930\n",
            "[195]\ttest-logloss:0.15937\n",
            "[196]\ttest-logloss:0.15919\n",
            "[197]\ttest-logloss:0.15902\n",
            "[198]\ttest-logloss:0.15894\n",
            "[199]\ttest-logloss:0.15868\n",
            "[200]\ttest-logloss:0.15849\n",
            "[201]\ttest-logloss:0.15790\n",
            "[202]\ttest-logloss:0.15775\n",
            "[203]\ttest-logloss:0.15764\n",
            "[204]\ttest-logloss:0.15739\n",
            "[205]\ttest-logloss:0.15714\n",
            "[206]\ttest-logloss:0.15682\n",
            "[207]\ttest-logloss:0.15721\n",
            "[208]\ttest-logloss:0.15683\n",
            "[209]\ttest-logloss:0.15653\n",
            "[210]\ttest-logloss:0.15634\n",
            "[211]\ttest-logloss:0.15642\n",
            "[212]\ttest-logloss:0.15644\n",
            "[213]\ttest-logloss:0.15598\n",
            "[214]\ttest-logloss:0.15586\n",
            "[215]\ttest-logloss:0.15628\n",
            "[216]\ttest-logloss:0.15624\n",
            "[217]\ttest-logloss:0.15608\n",
            "[218]\ttest-logloss:0.15705\n",
            "[219]\ttest-logloss:0.15676\n",
            "[220]\ttest-logloss:0.15665\n",
            "[221]\ttest-logloss:0.15697\n",
            "[222]\ttest-logloss:0.15681\n",
            "[223]\ttest-logloss:0.15655\n",
            "[224]\ttest-logloss:0.15636\n"
          ]
        }
      ]
    },
    {
      "cell_type": "code",
      "source": [
        "# save model\n",
        "with open(f'{gdrive_figures_folder}/pcaFullfModel.pkl', 'wb') as f:\n",
        "    pickle.dump(model_2, f)"
      ],
      "metadata": {
        "id": "5YbgVCn389da"
      },
      "execution_count": 24,
      "outputs": []
    },
    {
      "cell_type": "code",
      "source": [
        "with open(f'{gdrive_figures_folder}/pcaModel.pkl', 'rb') as f:\n",
        "    pca_model = pickle.load(f)"
      ],
      "metadata": {
        "id": "H2P6HBcFPh6T"
      },
      "execution_count": 41,
      "outputs": []
    },
    {
      "cell_type": "code",
      "source": [
        "evaluating_new_data_on_pc(model_2, pca, X_val, y_val)"
      ],
      "metadata": {
        "colab": {
          "base_uri": "https://localhost:8080/",
          "height": 611
        },
        "id": "3Na3YlQd1Ia8",
        "outputId": "946e352e-f254-41d8-9f2a-c796cd04db81"
      },
      "execution_count": 26,
      "outputs": [
        {
          "output_type": "stream",
          "name": "stdout",
          "text": [
            "The threshold that corresponds to FPR=0.001 is 0.968\n"
          ]
        },
        {
          "output_type": "display_data",
          "data": {
            "text/plain": [
              "<Figure size 640x480 with 1 Axes>"
            ],
            "image/png": "[encoded data removed]"
          },
          "metadata": {}
        },
        {
          "output_type": "stream",
          "name": "stdout",
          "text": [
            "Model Results at threshold=0.968::\n",
            "\n",
            "Accuracy: 0.800\n",
            "False Positive Rate (FPR): 0.001\n",
            "True Positive Rate (TPR): 0.601\n",
            "False Negative Rate (FNR): 0.399\n",
            "True Negative Rate (TNR): 0.999\n"
          ]
        }
      ]
    },
    {
      "cell_type": "markdown",
      "source": [
        "## **~Model 3**\n",
        "\n",
        "### Evaluating Performance on Realistic Class Separation ###\n",
        "\n",
        "In this section, we aim to evaluate the performance of our model on datasets that simulate real-world class distributions, as they are often not evenly split (50/50). By considering class separations that are more representative of real-world scenarios, we can gain insights into how our model performs in practical settings.\n",
        "\n",
        "To achieve this, we create datasets with unequal class proportions, such as 20/80 or 10/90 splits, to mimic imbalanced class distributions commonly encountered in real-world data.\n",
        "\n",
        "We explore alternative data separation strategies or consider using different models that can be trained on similar data proportions. By doing so, we aim to uncover approaches that are better suited for real-world conditions and have the potential to enhance the model's predictive capabilities.\n",
        "\n",
        "Interestingly, during our experimentation, we observed that the model exhibits robustness and consistently delivers improved results when the data separation is aligned with real-world scenarios.\n"
      ],
      "metadata": {
        "id": "C422pYmfZEZT"
      }
    },
    {
      "cell_type": "code",
      "source": [
        "X_val = np.load(f'{gdrive_data_folder}/X_val.npy')\n",
        "y_val = np.load(f'{gdrive_data_folder}/y_val.npy')"
      ],
      "metadata": {
        "id": "qElmDXZ3PkV8"
      },
      "execution_count": 14,
      "outputs": []
    },
    {
      "cell_type": "code",
      "source": [
        "def _print_separation_proportion(y_adjusted):\n",
        "  _, (num_benigns, num_malicious) = np.unique(y_adjusted, return_counts = True)\n",
        "  num_samples = num_malicious + num_benigns\n",
        "  proportion = num_malicious / num_samples\n",
        "  print(f'#samples: {num_samples}')\n",
        "  print(f'#benign: {num_benigns}')\n",
        "  print(f'#malicious: {num_malicious}')\n",
        "  print(f'proportion: {proportion:.3f}')\n",
        "\n",
        "def separate_val_data(X, y, malicious_proportion):\n",
        "  malicous_val_indices = np.where(y == 1)[0]\n",
        "  num_malicous_val_adjusted = int(malicious_proportion * len(malicous_val_indices))\n",
        "  selected_malicous_indices = np.random.choice(malicous_val_indices, size=num_malicous_val_adjusted, replace=False)\n",
        "\n",
        "  X_adjusted = np.concatenate((X[selected_malicous_indices], X[y != 1]), axis=0)\n",
        "  y_adjusted = np.concatenate((y[selected_malicous_indices], y[y != 1]), axis=0)\n",
        "\n",
        "  _print_separation_proportion(y_adjusted)\n",
        "\n",
        "  return X_adjusted, y_adjusted"
      ],
      "metadata": {
        "id": "xfk3hdmKiXyA"
      },
      "execution_count": 47,
      "outputs": []
    },
    {
      "cell_type": "markdown",
      "source": [
        "1"
      ],
      "metadata": {
        "id": "ycDlbryqmPr5"
      }
    },
    {
      "cell_type": "code",
      "source": [
        "X_adjusted_val, y_adjusted_val = separate_val_data(X_val, y_val, malicious_proportion=0.3)"
      ],
      "metadata": {
        "id": "eIT9DLbAkEBm"
      },
      "execution_count": null,
      "outputs": []
    },
    {
      "cell_type": "code",
      "source": [
        "evaluating_new_data(extracted_model, X_adjusted_val, y_adjusted_val)"
      ],
      "metadata": {
        "colab": {
          "base_uri": "https://localhost:8080/",
          "height": 611
        },
        "id": "OkJMI2h2Xz3a",
        "outputId": "1b33ac24-ddaa-42d3-b27e-fb1c63dad96a"
      },
      "execution_count": 59,
      "outputs": [
        {
          "output_type": "stream",
          "name": "stdout",
          "text": [
            "The threshold that corresponds to FPR=0.001 is 0.980\n"
          ]
        },
        {
          "output_type": "display_data",
          "data": {
            "text/plain": [
              "<Figure size 640x480 with 1 Axes>"
            ],
            "image/png": "[encoded data removed]"
          },
          "metadata": {}
        },
        {
          "output_type": "stream",
          "name": "stdout",
          "text": [
            "Model Results at threshold=0.980::\n",
            "\n",
            "Accuracy: 0.974\n",
            "False Positive Rate (FPR): 0.001\n",
            "True Positive Rate (TPR): 0.892\n",
            "False Negative Rate (FNR): 0.108\n",
            "True Negative Rate (TNR): 0.999\n"
          ]
        }
      ]
    },
    {
      "cell_type": "code",
      "source": [
        "evaluating_new_data_on_pc(pca_model, pca, X_adjusted_val, y_adjusted_val)"
      ],
      "metadata": {
        "id": "Slc26hTZl7TX"
      },
      "execution_count": null,
      "outputs": []
    },
    {
      "cell_type": "markdown",
      "source": [
        "2"
      ],
      "metadata": {
        "id": "etylnHYnmQlz"
      }
    },
    {
      "cell_type": "code",
      "source": [
        "X_adjusted_val, y_adjusted_val = separate_val_data(X_val, y_val, malicious_proportion=0.1)"
      ],
      "metadata": {
        "id": "GL8h5V69mR0I"
      },
      "execution_count": null,
      "outputs": []
    },
    {
      "cell_type": "code",
      "source": [
        "evaluating_new_data(extracted_model, X_adjusted_val, y_adjusted_val)"
      ],
      "metadata": {
        "colab": {
          "base_uri": "https://localhost:8080/",
          "height": 611
        },
        "id": "nQMx6gvBYCqj",
        "outputId": "d2fbe933-c286-4f5e-a1f2-884f9b9cf148"
      },
      "execution_count": 63,
      "outputs": [
        {
          "output_type": "stream",
          "name": "stdout",
          "text": [
            "The threshold that corresponds to FPR=0.001 is 0.980\n"
          ]
        },
        {
          "output_type": "display_data",
          "data": {
            "text/plain": [
              "<Figure size 640x480 with 1 Axes>"
            ],
            "image/png": "[encoded data removed]"
          },
          "metadata": {}
        },
        {
          "output_type": "stream",
          "name": "stdout",
          "text": [
            "Model Results at threshold=0.980::\n",
            "\n",
            "Accuracy: 0.989\n",
            "False Positive Rate (FPR): 0.001\n",
            "True Positive Rate (TPR): 0.889\n",
            "False Negative Rate (FNR): 0.111\n",
            "True Negative Rate (TNR): 0.999\n"
          ]
        }
      ]
    },
    {
      "cell_type": "code",
      "source": [
        "evaluating_new_data_on_pc(pca_model, pca, X_adjusted_val, y_adjusted_val)"
      ],
      "metadata": {
        "id": "G6EH0iX5mU_C"
      },
      "execution_count": null,
      "outputs": []
    },
    {
      "cell_type": "markdown",
      "source": [
        "## **Model Selection**\n",
        "\n",
        "More comparison methods\n",
        "\n"
      ],
      "metadata": {
        "id": "9UaDlsNWEcHe"
      }
    },
    {
      "cell_type": "markdown",
      "source": [
        "## Response time on validation set - Model 1 vs Model 2"
      ],
      "metadata": {
        "id": "PyopFqN43pKY"
      }
    },
    {
      "cell_type": "code",
      "source": [
        "X_train = np.load(f'{gdrive_data_folder}/X_train.npy')\n",
        "y_train = np.load(f'{gdrive_data_folder}/y_train.npy')\n",
        "X_val = np.load(f'{gdrive_data_folder}/X_val.npy')\n",
        "y_val = np.load(f'{gdrive_data_folder}/y_val.npy')"
      ],
      "metadata": {
        "id": "CvG1in_W5YWp"
      },
      "execution_count": 66,
      "outputs": []
    },
    {
      "cell_type": "code",
      "source": [
        "start_time = time.time()\n",
        "# Evaluate performance\n",
        "evaluating_new_data(extracted_model, X_val, y_val, to_plot_curve=False)\n",
        "end_time = time.time()\n",
        "model_1_execution_time = end_time - start_time"
      ],
      "metadata": {
        "id": "AbBxVPLN7ICo",
        "colab": {
          "base_uri": "https://localhost:8080/"
        },
        "outputId": "5cd67107-accf-4df0-9dfb-a891eb2a52a9"
      },
      "execution_count": 72,
      "outputs": [
        {
          "output_type": "stream",
          "name": "stdout",
          "text": [
            "The threshold that corresponds to FPR=0.001 is 0.980\n",
            "Model Results at threshold=0.980::\n",
            "\n",
            "Accuracy: 0.946\n",
            "False Positive Rate (FPR): 0.001\n",
            "True Positive Rate (TPR): 0.892\n",
            "False Negative Rate (FNR): 0.108\n",
            "True Negative Rate (TNR): 0.999\n"
          ]
        }
      ]
    },
    {
      "cell_type": "code",
      "source": [
        "start_time = time.time()\n",
        "# Evaluate performance\n",
        "evaluating_new_data_on_pc(pca_model, pca, X_val, y_val, to_plot_curve=False)\n",
        "end_time = time.time()\n",
        "model_2_execution_time = end_time - start_time"
      ],
      "metadata": {
        "id": "M-LX1lRp6Imv",
        "colab": {
          "base_uri": "https://localhost:8080/"
        },
        "outputId": "ea5dcdbe-409c-4961-bf80-1cba6676ea4c"
      },
      "execution_count": 73,
      "outputs": [
        {
          "output_type": "stream",
          "name": "stdout",
          "text": [
            "The threshold that corresponds to FPR=0.001 is 0.976\n",
            "Model Results at threshold=0.976::\n",
            "\n",
            "Accuracy: 0.798\n",
            "False Positive Rate (FPR): 0.001\n",
            "True Positive Rate (TPR): 0.597\n",
            "False Negative Rate (FNR): 0.403\n",
            "True Negative Rate (TNR): 0.999\n"
          ]
        }
      ]
    },
    {
      "cell_type": "code",
      "source": [
        "print(f\"Extracted Model Execution time: {model_1_execution_time:.3f} seconds\")\n",
        "print(f\"PCA Model Execution time: {model_2_execution_time:.3f} seconds\")"
      ],
      "metadata": {
        "id": "WdK6lel38C_1",
        "colab": {
          "base_uri": "https://localhost:8080/"
        },
        "outputId": "7b528b15-9dcd-4cf7-cca1-ea44608c1c87"
      },
      "execution_count": 75,
      "outputs": [
        {
          "output_type": "stream",
          "name": "stdout",
          "text": [
            "Extracted Model Execution time: 2.498 seconds\n",
            "PCA Model Execution time: 4.489 seconds\n"
          ]
        }
      ]
    },
    {
      "cell_type": "markdown",
      "metadata": {
        "id": "nUIfU_0s6RxF"
      },
      "source": [
        "## **PDS**\n",
        "\n",
        "First, we will create our Probabilistic Data Structure that mapping th SHA256 codes to mlicious or binain such that: \\\n",
        "1. Each Malicious file is mapped as mlicious. \\\n",
        "    **FNR(False Negative Rate)=0**\n",
        "2. The number of binain files that are mapped as malicious is less than 0.01% from the number of all files. \\\n",
        "    **FPR(False Positive Rate)<=0.01%**"
      ]
    },
    {
      "cell_type": "markdown",
      "metadata": {
        "id": "vpXrSCax5_7J"
      },
      "source": [
        "#### **Bloom Filter**\n",
        "\n",
        "We are using the Bloom FIlter Data Structure for checking the exsiting of a malicious file in efficiet way. \n",
        "\n",
        "A Bloom filter is a probabilistic data structure that is used to efficiently test whether an element is a member of a set. It uses a bit array and a set of hash functions to represent the set of elements and to determine whether an element is likely to be a member of the set.\n",
        "\n",
        "Bloom filters have several advantages over other data structures such as hash tables or binary search trees. \\\n",
        "- They are very space-efficient, requiring only a small amount of memory to store the bit array and hash functions.\\\n",
        "- They are very fast, with constant-time insertions and lookups. \n",
        "- They can handle large sets of elements with a low probability of false positives.\n",
        "\n",
        "Bloom filters are particularly useful in cases where the cost of false positives is low (i.e., it is acceptable to occasionally say that a file is a malicous while is not), but the cost of false negatives is high (i.e., it is not acceptable to miss a malicous file)."
      ]
    },
    {
      "cell_type": "code",
      "execution_count": null,
      "metadata": {
        "id": "YmpSz6Jm52wR"
      },
      "outputs": [],
      "source": [
        "class BloomFilter:\n",
        "    def __init__(self, n, fpr):\n",
        "        \"\"\"\n",
        "        Inputs:\n",
        "         n - number of elements that might be inserted to the bloom filter\n",
        "         fpr - the required False Positive Rate\n",
        "        \"\"\"\n",
        "        bitarry_size, hash_count = self.find_optimal_size(n, fpr)\n",
        "        self.n = n\n",
        "        self.size = bitarry_size\n",
        "        self.hash_count = hash_count\n",
        "        self.bitarray = bitarray.bitarray(bitarry_size)\n",
        "        self.bitarray.setall(0)\n",
        "\n",
        "    def add(self, item):\n",
        "        for i in range(self.hash_count):\n",
        "            digest = hashlib.sha256(str(item).encode('utf-8') + str(i).encode('utf-8')).hexdigest()\n",
        "            index = int(digest, 16) % self.size\n",
        "            self.bitarray[index] = 1\n",
        "\n",
        "    def __contains__(self, item):\n",
        "        for i in range(self.hash_count):\n",
        "            digest = hashlib.sha256(str(item).encode('utf-8') + str(i).encode('utf-8')).hexdigest()\n",
        "            index = int(digest, 16) % self.size\n",
        "            if not self.bitarray[index]:\n",
        "                return False\n",
        "        return True\n",
        "\n",
        "    def get_size(self):\n",
        "      return self.size\n",
        "\n",
        "    def get_hash_count(self):\n",
        "      return self.hash_count\n",
        "\n",
        "    def find_optimal_size(self, n, fpr):\n",
        "        \"\"\"\n",
        "        The find_optimal_size function compute the optimal size of a bit-array \n",
        "        and the number of hash functions needed for a Bloom filter that will store n items with a desired false positive rate of fpr.\n",
        "        \"\"\"\n",
        "        bitarray_size = int(-1 * ((n * np.log(fpr)) / np.log(2) ** 2)) + 1\n",
        "        number_of_hash_functions = int((bitarray_size / n) * math.log(2))\n",
        "        return bitarray_size, number_of_hash_functions\n",
        "\n",
        "    def __str__(self):\n",
        "      return f\"Bloom filter size: {self.size} \\nFalse Positive Rate: {(1 - math.exp(-self.hash_count * self.n/ self.size)) ** self.hash_count} \\nNumber of Hash functions: {self.hash_count}\""
      ]
    },
    {
      "cell_type": "markdown",
      "metadata": {
        "id": "gkIPq1AAHKCw"
      },
      "source": [
        "## Malicous SHA256 for EMBER\n",
        "\n",
        "Read the SHA256 from the 'task1_malicious_sha256_ember.txt' and insert to our bloom filter."
      ]
    },
    {
      "cell_type": "code",
      "execution_count": null,
      "metadata": {
        "id": "dK6Wi0LCHrsI"
      },
      "outputs": [],
      "source": [
        "fpr = 0.0001\n",
        "with open(file_path_to_malicous_sha256_ember, 'r') as f:\n",
        "    n = sum(1 for line in f) \n",
        "    bloom_filter = BloomFilter(n, fpr)\n",
        "    for hash_code_line in f:\n",
        "        bloom_filter.add(hash_code_line)\n",
        "    print(bloom_filter)       "
      ]
    },
    {
      "cell_type": "markdown",
      "source": [
        "## Expirement"
      ],
      "metadata": {
        "id": "8NsSl6n1w1xV"
      }
    },
    {
      "cell_type": "code",
      "source": [
        "X_test.shape"
      ],
      "metadata": {
        "id": "PLh49eUlwXz-"
      },
      "execution_count": null,
      "outputs": []
    },
    {
      "cell_type": "code",
      "source": [
        "evaluating_new_data(extracted_model, X_test, y_test)"
      ],
      "metadata": {
        "colab": {
          "base_uri": "https://localhost:8080/",
          "height": 611
        },
        "id": "fRtrL2bhVE51",
        "outputId": "75af3b33-ef81-4487-e291-05e6ac22ff5a"
      },
      "execution_count": 98,
      "outputs": [
        {
          "output_type": "stream",
          "name": "stdout",
          "text": [
            "The threshold that corresponds to FPR=0.001 is 0.989\n"
          ]
        },
        {
          "output_type": "display_data",
          "data": {
            "text/plain": [
              "<Figure size 640x480 with 1 Axes>"
            ],
            "image/png": "[encoded data removed]"
          },
          "metadata": {}
        },
        {
          "output_type": "stream",
          "name": "stdout",
          "text": [
            "Model Results at threshold=0.989::\n",
            "\n",
            "Accuracy: 0.915\n",
            "False Positive Rate (FPR): 0.001\n",
            "True Positive Rate (TPR): 0.830\n",
            "False Negative Rate (FNR): 0.170\n",
            "True Negative Rate (TNR): 0.999\n"
          ]
        }
      ]
    },
    {
      "cell_type": "code",
      "source": [
        "evaluating_new_data_on_pc(pca_model, pca, X_test, y_test)"
      ],
      "metadata": {
        "id": "MbKvYqEOXssX"
      },
      "execution_count": null,
      "outputs": []
    },
    {
      "cell_type": "code",
      "source": [
        "\"\"\"\n",
        "\n",
        "I need to save aboce the removed features ( to remove them from new entities)\n",
        "\n",
        "I need to save the weights from the pca as a vecto\n",
        "\n",
        "I need to verify that a new entity (in the real world has all the features otherwise we need to handle it somehow)\n",
        "\n",
        "THEM multiply the clean new instance with the pca weights vector and predict by xgb\n",
        "\n",
        "-- if malicous then decalre as malicous\n",
        "-- if benign then go to the bloom filter with sha256\n",
        "\n",
        "\"\"\""
      ],
      "metadata": {
        "colab": {
          "base_uri": "https://localhost:8080/",
          "height": 71
        },
        "id": "R77FK1eqw1V2",
        "outputId": "bcd5444d-87d4-4477-da6e-e5bdc33748f5"
      },
      "execution_count": null,
      "outputs": [
        {
          "output_type": "execute_result",
          "data": {
            "text/plain": [
              "'\\n\\nI need to save aboce the removed features ( to remove them from new entities)\\n\\nI need to save the weights from the pca as a vecto\\n\\nI need to verify that a new entity (in the real world has all the features otherwise we need to handle it somehow)\\n\\nTHEM \\n'"
            ],
            "application/vnd.google.colaboratory.intrinsic+json": {
              "type": "string"
            }
          },
          "metadata": {},
          "execution_count": 15
        }
      ]
    },
    {
      "cell_type": "code",
      "source": [
        "\"\"\"Transforming the data using the principal component analysis (PCA) approach may add a small computational overhead to the inference pipeline, but this is generally negligible, especially when compared to the time saved due to the reduction in dimensionality.\"\"\""
      ],
      "metadata": {
        "id": "qe8NgiEVxU1x"
      },
      "execution_count": null,
      "outputs": []
    }
  ],
  "metadata": {
    "colab": {
      "machine_shape": "hm",
      "provenance": [],
      "history_visible": true,
      "gpuType": "T4",
      "toc_visible": true,
      "authorship_tag": "ABX9TyNNUbg0yZXHSXYWONQTwO6x",
      "include_colab_link": true
    },
    "gpuClass": "standard",
    "kernelspec": {
      "display_name": "Python 3",
      "name": "python3"
    },
    "language_info": {
      "name": "python"
    },
    "accelerator": "GPU"
  },
  "nbformat": 4,
  "nbformat_minor": 0
}